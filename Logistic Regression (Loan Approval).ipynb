{
 "cells": [
  {
   "cell_type": "code",
   "execution_count": 103,
   "metadata": {},
   "outputs": [],
   "source": [
    "#Logistic Regression\n",
    "#Loan Approval Yes or No"
   ]
  },
  {
   "cell_type": "code",
   "execution_count": 104,
   "metadata": {},
   "outputs": [],
   "source": [
    "# Packages / libraries\n",
    "import os #provides functions for interacting with the operating system\n",
    "import numpy as np \n",
    "import pandas as pd\n",
    "from matplotlib import pyplot as plt\n",
    "import seaborn as sns\n",
    "from sklearn.linear_model import LinearRegression\n",
    "from sklearn.tree import DecisionTreeClassifier\n",
    "from sklearn.model_selection import train_test_split\n",
    "from sklearn.metrics import r2_score, explained_variance_score, mean_absolute_error, mean_squared_error\n",
    "from math import sqrt\n",
    "\n",
    "%matplotlib inline\n"
   ]
  },
  {
   "cell_type": "code",
   "execution_count": 105,
   "metadata": {},
   "outputs": [],
   "source": [
    "df=pd.read_csv(r\"C:\\Users\\Lokanathswami\\Downloads\\Logistic Regression Dummy Data v3.csv\")"
   ]
  },
  {
   "cell_type": "code",
   "execution_count": 106,
   "metadata": {},
   "outputs": [
    {
     "data": {
      "text/html": [
       "<div>\n",
       "<style scoped>\n",
       "    .dataframe tbody tr th:only-of-type {\n",
       "        vertical-align: middle;\n",
       "    }\n",
       "\n",
       "    .dataframe tbody tr th {\n",
       "        vertical-align: top;\n",
       "    }\n",
       "\n",
       "    .dataframe thead th {\n",
       "        text-align: right;\n",
       "    }\n",
       "</style>\n",
       "<table border=\"1\" class=\"dataframe\">\n",
       "  <thead>\n",
       "    <tr style=\"text-align: right;\">\n",
       "      <th></th>\n",
       "      <th>Type of Account</th>\n",
       "      <th>Account History</th>\n",
       "      <th>Reason for the Loan</th>\n",
       "      <th>Loan Amount</th>\n",
       "      <th>Account Savings</th>\n",
       "      <th>Employment History</th>\n",
       "      <th>Individual Stauts</th>\n",
       "      <th>Other Loans</th>\n",
       "      <th>Security / Collateral</th>\n",
       "      <th>Age</th>\n",
       "      <th>Residence Status</th>\n",
       "      <th>Job</th>\n",
       "      <th>Completed Other loan?</th>\n",
       "      <th>Good Loan</th>\n",
       "    </tr>\n",
       "  </thead>\n",
       "  <tbody>\n",
       "    <tr>\n",
       "      <th>0</th>\n",
       "      <td>No Data</td>\n",
       "      <td>critical</td>\n",
       "      <td>Learning / Edu purposes</td>\n",
       "      <td>2116.0</td>\n",
       "      <td>0-200</td>\n",
       "      <td>5-7 Years</td>\n",
       "      <td>Male</td>\n",
       "      <td>No</td>\n",
       "      <td>Property - Real Estate</td>\n",
       "      <td>47.0</td>\n",
       "      <td>House Owner</td>\n",
       "      <td>Services</td>\n",
       "      <td>No</td>\n",
       "      <td>No</td>\n",
       "    </tr>\n",
       "    <tr>\n",
       "      <th>1</th>\n",
       "      <td>No Data</td>\n",
       "      <td>critical</td>\n",
       "      <td>TV</td>\n",
       "      <td>2438.0</td>\n",
       "      <td>No Data</td>\n",
       "      <td>7+ Years</td>\n",
       "      <td>Male</td>\n",
       "      <td>No</td>\n",
       "      <td>Savings Account</td>\n",
       "      <td>52.0</td>\n",
       "      <td>House Owner</td>\n",
       "      <td>Skilled Labor</td>\n",
       "      <td>No</td>\n",
       "      <td>No</td>\n",
       "    </tr>\n",
       "    <tr>\n",
       "      <th>2</th>\n",
       "      <td>No Data</td>\n",
       "      <td>critical</td>\n",
       "      <td>Buying a New Car</td>\n",
       "      <td>2144.0</td>\n",
       "      <td>0-200</td>\n",
       "      <td>2-5 Years</td>\n",
       "      <td>Male</td>\n",
       "      <td>No</td>\n",
       "      <td>Vehicle</td>\n",
       "      <td>48.0</td>\n",
       "      <td>House Owner</td>\n",
       "      <td>Skilled Labor</td>\n",
       "      <td>No</td>\n",
       "      <td>No</td>\n",
       "    </tr>\n",
       "    <tr>\n",
       "      <th>3</th>\n",
       "      <td>No Data</td>\n",
       "      <td>critical</td>\n",
       "      <td>Home furniture</td>\n",
       "      <td>2073.0</td>\n",
       "      <td>No Data</td>\n",
       "      <td>2-5 Years</td>\n",
       "      <td>Married</td>\n",
       "      <td>No</td>\n",
       "      <td>Vehicle</td>\n",
       "      <td>25.0</td>\n",
       "      <td>House Owner</td>\n",
       "      <td>Skilled Labor</td>\n",
       "      <td>Yes</td>\n",
       "      <td>No</td>\n",
       "    </tr>\n",
       "    <tr>\n",
       "      <th>4</th>\n",
       "      <td>No Data</td>\n",
       "      <td>critical</td>\n",
       "      <td>Support for Business</td>\n",
       "      <td>1276.0</td>\n",
       "      <td>No Data</td>\n",
       "      <td>7+ Years</td>\n",
       "      <td>Male</td>\n",
       "      <td>No</td>\n",
       "      <td>No Security</td>\n",
       "      <td>59.0</td>\n",
       "      <td>Renting</td>\n",
       "      <td>Services</td>\n",
       "      <td>No</td>\n",
       "      <td>No</td>\n",
       "    </tr>\n",
       "  </tbody>\n",
       "</table>\n",
       "</div>"
      ],
      "text/plain": [
       "  Type of Account Account History      Reason for the Loan  Loan Amount  \\\n",
       "0         No Data        critical  Learning / Edu purposes       2116.0   \n",
       "1         No Data        critical                       TV       2438.0   \n",
       "2         No Data        critical         Buying a New Car       2144.0   \n",
       "3         No Data        critical           Home furniture       2073.0   \n",
       "4         No Data        critical     Support for Business       1276.0   \n",
       "\n",
       "  Account Savings Employment History Individual Stauts Other Loans  \\\n",
       "0           0-200          5-7 Years              Male          No   \n",
       "1         No Data           7+ Years              Male          No   \n",
       "2           0-200          2-5 Years              Male          No   \n",
       "3         No Data          2-5 Years           Married          No   \n",
       "4         No Data           7+ Years              Male          No   \n",
       "\n",
       "    Security / Collateral   Age Residence Status            Job  \\\n",
       "0  Property - Real Estate  47.0      House Owner       Services   \n",
       "1         Savings Account  52.0      House Owner  Skilled Labor   \n",
       "2                 Vehicle  48.0      House Owner  Skilled Labor   \n",
       "3                 Vehicle  25.0      House Owner  Skilled Labor   \n",
       "4             No Security  59.0          Renting       Services   \n",
       "\n",
       "  Completed Other loan? Good Loan  \n",
       "0                    No        No  \n",
       "1                    No        No  \n",
       "2                    No        No  \n",
       "3                   Yes        No  \n",
       "4                    No        No  "
      ]
     },
     "execution_count": 106,
     "metadata": {},
     "output_type": "execute_result"
    }
   ],
   "source": [
    "df.head()"
   ]
  },
  {
   "cell_type": "code",
   "execution_count": 107,
   "metadata": {},
   "outputs": [
    {
     "data": {
      "text/plain": [
       "(1006, 14)"
      ]
     },
     "execution_count": 107,
     "metadata": {},
     "output_type": "execute_result"
    }
   ],
   "source": [
    "df.shape #Displays in the form of Tuple"
   ]
  },
  {
   "cell_type": "code",
   "execution_count": 108,
   "metadata": {},
   "outputs": [
    {
     "name": "stdout",
     "output_type": "stream",
     "text": [
      "No of features:- 14 & No of rows:- 1006\n"
     ]
    }
   ],
   "source": [
    "# Printing In the form of Message\n",
    "print('No of features:- {} & No of rows:- {}'.format(df.shape[1],df.shape[0]))"
   ]
  },
  {
   "cell_type": "code",
   "execution_count": 109,
   "metadata": {},
   "outputs": [
    {
     "data": {
      "text/plain": [
       "Index(['Type of Account', 'Account History', 'Reason for the Loan',\n",
       "       'Loan Amount', 'Account Savings', 'Employment History',\n",
       "       'Individual Stauts', 'Other Loans', 'Security / Collateral', 'Age',\n",
       "       'Residence Status', 'Job', 'Completed Other loan?', 'Good Loan'],\n",
       "      dtype='object')"
      ]
     },
     "execution_count": 109,
     "metadata": {},
     "output_type": "execute_result"
    }
   ],
   "source": [
    "# Displaying all the Columns or Features\n",
    "df.columns #displays in the form of array of list"
   ]
  },
  {
   "cell_type": "code",
   "execution_count": 110,
   "metadata": {},
   "outputs": [
    {
     "data": {
      "text/plain": [
       "['Type of Account',\n",
       " 'Account History',\n",
       " 'Reason for the Loan',\n",
       " 'Loan Amount',\n",
       " 'Account Savings',\n",
       " 'Employment History',\n",
       " 'Individual Stauts',\n",
       " 'Other Loans',\n",
       " 'Security / Collateral',\n",
       " 'Age',\n",
       " 'Residence Status',\n",
       " 'Job',\n",
       " 'Completed Other loan?',\n",
       " 'Good Loan']"
      ]
     },
     "execution_count": 110,
     "metadata": {},
     "output_type": "execute_result"
    }
   ],
   "source": [
    "# Converting array of list into Simple List\n",
    "# Displaying only features\n",
    "features=list(df.columns)\n",
    "features"
   ]
  },
  {
   "cell_type": "code",
   "execution_count": 111,
   "metadata": {},
   "outputs": [
    {
     "data": {
      "text/plain": [
       "Type of Account          2\n",
       "Account History          2\n",
       "Reason for the Loan      3\n",
       "Loan Amount              3\n",
       "Account Savings          4\n",
       "Employment History       5\n",
       "Individual Stauts        5\n",
       "Other Loans              5\n",
       "Security / Collateral    5\n",
       "Age                      4\n",
       "Residence Status         4\n",
       "Job                      4\n",
       "Completed Other loan?    4\n",
       "Good Loan                5\n",
       "dtype: int64"
      ]
     },
     "execution_count": 111,
     "metadata": {},
     "output_type": "execute_result"
    }
   ],
   "source": [
    "#Checking No of Null values in Each Feature\n",
    "df.isnull().sum() #Displays in the form of Dataframe"
   ]
  },
  {
   "cell_type": "code",
   "execution_count": 112,
   "metadata": {},
   "outputs": [
    {
     "data": {
      "text/plain": [
       "0       False\n",
       "1       False\n",
       "2       False\n",
       "3       False\n",
       "4       False\n",
       "        ...  \n",
       "1001    False\n",
       "1002    False\n",
       "1003    False\n",
       "1004     True\n",
       "1005     True\n",
       "Name: Employment History, Length: 1006, dtype: bool"
      ]
     },
     "execution_count": 112,
     "metadata": {},
     "output_type": "execute_result"
    }
   ],
   "source": [
    "# Checking Null Values in detail by each featurewise\n",
    "df['Employment History'].isnull() # Displays only True False"
   ]
  },
  {
   "cell_type": "code",
   "execution_count": 113,
   "metadata": {},
   "outputs": [
    {
     "data": {
      "text/html": [
       "<div>\n",
       "<style scoped>\n",
       "    .dataframe tbody tr th:only-of-type {\n",
       "        vertical-align: middle;\n",
       "    }\n",
       "\n",
       "    .dataframe tbody tr th {\n",
       "        vertical-align: top;\n",
       "    }\n",
       "\n",
       "    .dataframe thead th {\n",
       "        text-align: right;\n",
       "    }\n",
       "</style>\n",
       "<table border=\"1\" class=\"dataframe\">\n",
       "  <thead>\n",
       "    <tr style=\"text-align: right;\">\n",
       "      <th></th>\n",
       "      <th>Type of Account</th>\n",
       "      <th>Account History</th>\n",
       "      <th>Reason for the Loan</th>\n",
       "      <th>Loan Amount</th>\n",
       "      <th>Account Savings</th>\n",
       "      <th>Employment History</th>\n",
       "      <th>Individual Stauts</th>\n",
       "      <th>Other Loans</th>\n",
       "      <th>Security / Collateral</th>\n",
       "      <th>Age</th>\n",
       "      <th>Residence Status</th>\n",
       "      <th>Job</th>\n",
       "      <th>Completed Other loan?</th>\n",
       "      <th>Good Loan</th>\n",
       "    </tr>\n",
       "  </thead>\n",
       "  <tbody>\n",
       "    <tr>\n",
       "      <th>686</th>\n",
       "      <td>Type C</td>\n",
       "      <td>Good</td>\n",
       "      <td>Buying a New Car</td>\n",
       "      <td>NaN</td>\n",
       "      <td>NaN</td>\n",
       "      <td>NaN</td>\n",
       "      <td>NaN</td>\n",
       "      <td>NaN</td>\n",
       "      <td>NaN</td>\n",
       "      <td>NaN</td>\n",
       "      <td>NaN</td>\n",
       "      <td>NaN</td>\n",
       "      <td>NaN</td>\n",
       "      <td>NaN</td>\n",
       "    </tr>\n",
       "    <tr>\n",
       "      <th>721</th>\n",
       "      <td>Type C</td>\n",
       "      <td>critical</td>\n",
       "      <td>Home furniture</td>\n",
       "      <td>5387.0</td>\n",
       "      <td>NaN</td>\n",
       "      <td>NaN</td>\n",
       "      <td>NaN</td>\n",
       "      <td>NaN</td>\n",
       "      <td>NaN</td>\n",
       "      <td>NaN</td>\n",
       "      <td>NaN</td>\n",
       "      <td>NaN</td>\n",
       "      <td>NaN</td>\n",
       "      <td>NaN</td>\n",
       "    </tr>\n",
       "    <tr>\n",
       "      <th>737</th>\n",
       "      <td>Type C</td>\n",
       "      <td>Good</td>\n",
       "      <td>NaN</td>\n",
       "      <td>NaN</td>\n",
       "      <td>NaN</td>\n",
       "      <td>NaN</td>\n",
       "      <td>NaN</td>\n",
       "      <td>NaN</td>\n",
       "      <td>NaN</td>\n",
       "      <td>NaN</td>\n",
       "      <td>NaN</td>\n",
       "      <td>NaN</td>\n",
       "      <td>NaN</td>\n",
       "      <td>NaN</td>\n",
       "    </tr>\n",
       "    <tr>\n",
       "      <th>1004</th>\n",
       "      <td>NaN</td>\n",
       "      <td>NaN</td>\n",
       "      <td>NaN</td>\n",
       "      <td>NaN</td>\n",
       "      <td>NaN</td>\n",
       "      <td>NaN</td>\n",
       "      <td>NaN</td>\n",
       "      <td>NaN</td>\n",
       "      <td>NaN</td>\n",
       "      <td>43.0</td>\n",
       "      <td>House Owner</td>\n",
       "      <td>Services</td>\n",
       "      <td>No</td>\n",
       "      <td>NaN</td>\n",
       "    </tr>\n",
       "    <tr>\n",
       "      <th>1005</th>\n",
       "      <td>NaN</td>\n",
       "      <td>NaN</td>\n",
       "      <td>NaN</td>\n",
       "      <td>1765.0</td>\n",
       "      <td>0-201</td>\n",
       "      <td>NaN</td>\n",
       "      <td>NaN</td>\n",
       "      <td>NaN</td>\n",
       "      <td>NaN</td>\n",
       "      <td>NaN</td>\n",
       "      <td>NaN</td>\n",
       "      <td>NaN</td>\n",
       "      <td>NaN</td>\n",
       "      <td>NaN</td>\n",
       "    </tr>\n",
       "  </tbody>\n",
       "</table>\n",
       "</div>"
      ],
      "text/plain": [
       "     Type of Account Account History Reason for the Loan  Loan Amount  \\\n",
       "686           Type C            Good    Buying a New Car          NaN   \n",
       "721           Type C        critical      Home furniture       5387.0   \n",
       "737           Type C            Good                 NaN          NaN   \n",
       "1004             NaN             NaN                 NaN          NaN   \n",
       "1005             NaN             NaN                 NaN       1765.0   \n",
       "\n",
       "     Account Savings Employment History Individual Stauts Other Loans  \\\n",
       "686              NaN                NaN               NaN         NaN   \n",
       "721              NaN                NaN               NaN         NaN   \n",
       "737              NaN                NaN               NaN         NaN   \n",
       "1004             NaN                NaN               NaN         NaN   \n",
       "1005           0-201                NaN               NaN         NaN   \n",
       "\n",
       "     Security / Collateral   Age Residence Status       Job  \\\n",
       "686                    NaN   NaN              NaN       NaN   \n",
       "721                    NaN   NaN              NaN       NaN   \n",
       "737                    NaN   NaN              NaN       NaN   \n",
       "1004                   NaN  43.0      House Owner  Services   \n",
       "1005                   NaN   NaN              NaN       NaN   \n",
       "\n",
       "     Completed Other loan? Good Loan  \n",
       "686                    NaN       NaN  \n",
       "721                    NaN       NaN  \n",
       "737                    NaN       NaN  \n",
       "1004                    No       NaN  \n",
       "1005                   NaN       NaN  "
      ]
     },
     "execution_count": 113,
     "metadata": {},
     "output_type": "execute_result"
    }
   ],
   "source": [
    "# Displaying in the form Dataframe\n",
    "df[df['Employment History'].isnull()] # DIsplays only Null rows in details"
   ]
  },
  {
   "cell_type": "code",
   "execution_count": 114,
   "metadata": {},
   "outputs": [],
   "source": [
    "#Dropping all NA rows throught the dataframe\n",
    "#df.dropna()\n",
    "\n",
    "#Dropping Na Rows through subset\n",
    "df=df.dropna(subset=['Employment History'])"
   ]
  },
  {
   "cell_type": "code",
   "execution_count": 115,
   "metadata": {},
   "outputs": [
    {
     "data": {
      "text/plain": [
       "(1001, 14)"
      ]
     },
     "execution_count": 115,
     "metadata": {},
     "output_type": "execute_result"
    }
   ],
   "source": [
    "df.shape"
   ]
  },
  {
   "cell_type": "code",
   "execution_count": 116,
   "metadata": {},
   "outputs": [
    {
     "data": {
      "text/plain": [
       "Type of Account          0\n",
       "Account History          0\n",
       "Reason for the Loan      0\n",
       "Loan Amount              0\n",
       "Account Savings          0\n",
       "Employment History       0\n",
       "Individual Stauts        0\n",
       "Other Loans              0\n",
       "Security / Collateral    0\n",
       "Age                      0\n",
       "Residence Status         0\n",
       "Job                      0\n",
       "Completed Other loan?    0\n",
       "Good Loan                0\n",
       "dtype: int64"
      ]
     },
     "execution_count": 116,
     "metadata": {},
     "output_type": "execute_result"
    }
   ],
   "source": [
    "df.isnull().sum()"
   ]
  },
  {
   "cell_type": "code",
   "execution_count": 117,
   "metadata": {},
   "outputs": [
    {
     "name": "stdout",
     "output_type": "stream",
     "text": [
      "The number of values for feature Type of Account :4 -- ['No Data' 'Type A' 'Type B' 'Type C']\n",
      "The number of values for feature Account History :3 -- ['Average (known delays)' 'Good' 'critical']\n",
      "The number of values for feature Reason for the Loan :10\n",
      "The number of values for feature Loan Amount :911\n",
      "The number of values for feature Account Savings :5 -- ['0-200' '1000+' '200-500' '500-1000' 'No Data']\n",
      "The number of values for feature Employment History :5 -- ['0-2 Years' '2-5 Years' '5-7 Years' '7+ Years' 'Unemployed']\n",
      "The number of values for feature Individual Stauts :5 -- ['Divorced' 'Female' 'Female_' 'Male' 'Married']\n",
      "The number of values for feature Other Loans :2 -- ['No' 'Yes']\n",
      "The number of values for feature Security / Collateral :4 -- ['No Security' 'Property - Real Estate' 'Savings Account' 'Vehicle']\n",
      "The number of values for feature Age :57\n",
      "The number of values for feature Residence Status :3 -- ['Free' 'House Owner' 'Renting']\n",
      "The number of values for feature Job :4 -- ['Not Employed' 'Professional / Management' 'Services' 'Skilled Labor']\n",
      "The number of values for feature Completed Other loan? :2 -- ['No' 'Yes']\n",
      "The number of values for feature Good Loan :2 -- ['No' 'Yes']\n"
     ]
    }
   ],
   "source": [
    "# Investigate all the elements whithin each Feature \n",
    "\n",
    "for column in df:\n",
    "    unique_vals = np.unique(df[column])\n",
    "    nr_values = len(unique_vals)\n",
    "    if nr_values < 10:\n",
    "        print('The number of values for feature {} :{} -- {}'.format(column, nr_values,unique_vals))\n",
    "    else:\n",
    "        print('The number of values for feature {} :{}'.format(column, nr_values))"
   ]
  },
  {
   "cell_type": "code",
   "execution_count": 118,
   "metadata": {},
   "outputs": [
    {
     "data": {
      "text/html": [
       "<div>\n",
       "<style scoped>\n",
       "    .dataframe tbody tr th:only-of-type {\n",
       "        vertical-align: middle;\n",
       "    }\n",
       "\n",
       "    .dataframe tbody tr th {\n",
       "        vertical-align: top;\n",
       "    }\n",
       "\n",
       "    .dataframe thead th {\n",
       "        text-align: right;\n",
       "    }\n",
       "</style>\n",
       "<table border=\"1\" class=\"dataframe\">\n",
       "  <thead>\n",
       "    <tr style=\"text-align: right;\">\n",
       "      <th></th>\n",
       "      <th>Type of Account</th>\n",
       "      <th>Account History</th>\n",
       "      <th>Reason for the Loan</th>\n",
       "      <th>Loan Amount</th>\n",
       "      <th>Account Savings</th>\n",
       "      <th>Employment History</th>\n",
       "      <th>Individual Stauts</th>\n",
       "      <th>Other Loans</th>\n",
       "      <th>Security / Collateral</th>\n",
       "      <th>Age</th>\n",
       "      <th>Residence Status</th>\n",
       "      <th>Job</th>\n",
       "      <th>Completed Other loan?</th>\n",
       "      <th>Good Loan</th>\n",
       "    </tr>\n",
       "  </thead>\n",
       "  <tbody>\n",
       "    <tr>\n",
       "      <th>679</th>\n",
       "      <td>Type C</td>\n",
       "      <td>Good</td>\n",
       "      <td>Home furniture</td>\n",
       "      <td>-548541254.0</td>\n",
       "      <td>No Data</td>\n",
       "      <td>Unemployed</td>\n",
       "      <td>Female_</td>\n",
       "      <td>No</td>\n",
       "      <td>Vehicle</td>\n",
       "      <td>327.0</td>\n",
       "      <td>House Owner</td>\n",
       "      <td>Skilled Labor</td>\n",
       "      <td>Yes</td>\n",
       "      <td>Yes</td>\n",
       "    </tr>\n",
       "  </tbody>\n",
       "</table>\n",
       "</div>"
      ],
      "text/plain": [
       "    Type of Account Account History Reason for the Loan  Loan Amount  \\\n",
       "679          Type C            Good      Home furniture -548541254.0   \n",
       "\n",
       "    Account Savings Employment History Individual Stauts Other Loans  \\\n",
       "679         No Data         Unemployed           Female_          No   \n",
       "\n",
       "    Security / Collateral    Age Residence Status            Job  \\\n",
       "679               Vehicle  327.0      House Owner  Skilled Labor   \n",
       "\n",
       "    Completed Other loan? Good Loan  \n",
       "679                   Yes       Yes  "
      ]
     },
     "execution_count": 118,
     "metadata": {},
     "output_type": "execute_result"
    }
   ],
   "source": [
    "#There is a outlier in fig(0,1) in feature 'Age'.It is near about more than 300\n",
    "df[df['Age']>100]"
   ]
  },
  {
   "cell_type": "code",
   "execution_count": 119,
   "metadata": {},
   "outputs": [],
   "source": [
    "#from above fig there is also outlier in Loan Amount -548541254.0"
   ]
  },
  {
   "cell_type": "code",
   "execution_count": 120,
   "metadata": {},
   "outputs": [],
   "source": [
    "# Selecting everything data except age colm having more than 100.\n",
    "#it selct entire dataframe along with age colm having values upto 99\n",
    "df=df[df['Age']<100]"
   ]
  },
  {
   "cell_type": "code",
   "execution_count": 121,
   "metadata": {},
   "outputs": [
    {
     "data": {
      "text/plain": [
       "(1000, 14)"
      ]
     },
     "execution_count": 121,
     "metadata": {},
     "output_type": "execute_result"
    }
   ],
   "source": [
    "df.shape"
   ]
  },
  {
   "cell_type": "code",
   "execution_count": 122,
   "metadata": {},
   "outputs": [
    {
     "data": {
      "image/png": "[encoded data removed]",
      "text/plain": [
       "<Figure size 360x360 with 6 Axes>"
      ]
     },
     "metadata": {
      "needs_background": "light"
     },
     "output_type": "display_data"
    }
   ],
   "source": [
    "g = sns.pairplot(df) #to see outlier"
   ]
  },
  {
   "cell_type": "code",
   "execution_count": 123,
   "metadata": {},
   "outputs": [
    {
     "data": {
      "image/png": "[encoded data removed]",
      "text/plain": [
       "<Figure size 421.125x360 with 6 Axes>"
      ]
     },
     "metadata": {
      "needs_background": "light"
     },
     "output_type": "display_data"
    }
   ],
   "source": [
    "# Visualize the data using seaborn Pairplots\n",
    "#it plots only for Numerical features\n",
    "g = sns.pairplot(df,hue='Good Loan') \n"
   ]
  },
  {
   "cell_type": "code",
   "execution_count": 124,
   "metadata": {},
   "outputs": [
    {
     "data": {
      "text/plain": [
       "No     536\n",
       "Yes    464\n",
       "Name: Good Loan, dtype: int64"
      ]
     },
     "execution_count": 124,
     "metadata": {},
     "output_type": "execute_result"
    },
    {
     "data": {
      "image/png": "[encoded data removed]",
      "text/plain": [
       "<Figure size 432x288 with 1 Axes>"
      ]
     },
     "metadata": {
      "needs_background": "light"
     },
     "output_type": "display_data"
    }
   ],
   "source": [
    "#Checking Distribution of Dependent Variable\n",
    "# Checking dataset is balanced or imbalanced\n",
    "sns.countplot(x='Good Loan',data=df)\n",
    "df['Good Loan'].value_counts()"
   ]
  },
  {
   "cell_type": "code",
   "execution_count": 125,
   "metadata": {},
   "outputs": [
    {
     "data": {
      "text/plain": [
       "['Type of Account',\n",
       " 'Account History',\n",
       " 'Reason for the Loan',\n",
       " 'Loan Amount',\n",
       " 'Account Savings',\n",
       " 'Employment History',\n",
       " 'Individual Stauts',\n",
       " 'Other Loans',\n",
       " 'Security / Collateral',\n",
       " 'Age',\n",
       " 'Residence Status',\n",
       " 'Job',\n",
       " 'Completed Other loan?',\n",
       " 'Good Loan']"
      ]
     },
     "execution_count": 125,
     "metadata": {},
     "output_type": "execute_result"
    }
   ],
   "source": [
    "features=list(df.columns)\n",
    "features"
   ]
  },
  {
   "cell_type": "code",
   "execution_count": 126,
   "metadata": {},
   "outputs": [],
   "source": [
    "#remove Two Numerical columns Loan Amount & age also Dependent Variable\n",
    "features=['Type of Account',\n",
    " 'Account History',\n",
    " 'Reason for the Loan',\n",
    " 'Account Savings',\n",
    " 'Employment History',\n",
    " 'Individual Stauts',\n",
    " 'Other Loans',\n",
    " 'Security / Collateral',\n",
    " 'Residence Status',\n",
    " 'Job',\n",
    " 'Completed Other loan?'\n",
    " ]"
   ]
  },
  {
   "cell_type": "code",
   "execution_count": 127,
   "metadata": {},
   "outputs": [
    {
     "data": {
      "image/png": "[encoded data removed]",
      "text/plain": [
       "<Figure size 1080x720 with 1 Axes>"
      ]
     },
     "metadata": {
      "needs_background": "light"
     },
     "output_type": "display_data"
    },
    {
     "data": {
      "image/png": "[encoded data removed]",
      "text/plain": [
       "<Figure size 1080x720 with 1 Axes>"
      ]
     },
     "metadata": {
      "needs_background": "light"
     },
     "output_type": "display_data"
    },
    {
     "data": {
      "image/png": "[encoded data removed]",
      "text/plain": [
       "<Figure size 1080x720 with 1 Axes>"
      ]
     },
     "metadata": {
      "needs_background": "light"
     },
     "output_type": "display_data"
    },
    {
     "data": {
      "image/png": "[encoded data removed]",
      "text/plain": [
       "<Figure size 1080x720 with 1 Axes>"
      ]
     },
     "metadata": {
      "needs_background": "light"
     },
     "output_type": "display_data"
    },
    {
     "data": {
      "image/png": "[encoded data removed]",
      "text/plain": [
       "<Figure size 1080x720 with 1 Axes>"
      ]
     },
     "metadata": {
      "needs_background": "light"
     },
     "output_type": "display_data"
    },
    {
     "data": {
      "image/png": "[encoded data removed]",
      "text/plain": [
       "<Figure size 1080x720 with 1 Axes>"
      ]
     },
     "metadata": {
      "needs_background": "light"
     },
     "output_type": "display_data"
    },
    {
     "data": {
      "image/png": "[encoded data removed]",
      "text/plain": [
       "<Figure size 1080x720 with 1 Axes>"
      ]
     },
     "metadata": {
      "needs_background": "light"
     },
     "output_type": "display_data"
    },
    {
     "data": {
      "image/png": "[encoded data removed]",
      "text/plain": [
       "<Figure size 1080x720 with 1 Axes>"
      ]
     },
     "metadata": {
      "needs_background": "light"
     },
     "output_type": "display_data"
    },
    {
     "data": {
      "image/png": "[encoded data removed]",
      "text/plain": [
       "<Figure size 1080x720 with 1 Axes>"
      ]
     },
     "metadata": {
      "needs_background": "light"
     },
     "output_type": "display_data"
    },
    {
     "data": {
      "image/png": "[encoded data removed]",
      "text/plain": [
       "<Figure size 1080x720 with 1 Axes>"
      ]
     },
     "metadata": {
      "needs_background": "light"
     },
     "output_type": "display_data"
    },
    {
     "data": {
      "image/png": "[encoded data removed]",
      "text/plain": [
       "<Figure size 1080x720 with 1 Axes>"
      ]
     },
     "metadata": {
      "needs_background": "light"
     },
     "output_type": "display_data"
    }
   ],
   "source": [
    "#Checking each variables relationship w.r.t dependent variable\n",
    "for f in features:\n",
    "    fig= plt.figure(figsize=(15,10))\n",
    "    sns.countplot(x=f,data=df,hue='Good Loan')\n",
    "    plt.xticks(rotation=10)\n",
    "    plt.show()\n",
    "        \n",
    "        \n"
   ]
  },
  {
   "cell_type": "code",
   "execution_count": 128,
   "metadata": {},
   "outputs": [
    {
     "data": {
      "text/html": [
       "<div>\n",
       "<style scoped>\n",
       "    .dataframe tbody tr th:only-of-type {\n",
       "        vertical-align: middle;\n",
       "    }\n",
       "\n",
       "    .dataframe tbody tr th {\n",
       "        vertical-align: top;\n",
       "    }\n",
       "\n",
       "    .dataframe thead th {\n",
       "        text-align: right;\n",
       "    }\n",
       "</style>\n",
       "<table border=\"1\" class=\"dataframe\">\n",
       "  <thead>\n",
       "    <tr style=\"text-align: right;\">\n",
       "      <th></th>\n",
       "      <th>Type of Account</th>\n",
       "      <th>Account History</th>\n",
       "      <th>Reason for the Loan</th>\n",
       "      <th>Loan Amount</th>\n",
       "      <th>Account Savings</th>\n",
       "      <th>Employment History</th>\n",
       "      <th>Individual Stauts</th>\n",
       "      <th>Other Loans</th>\n",
       "      <th>Security / Collateral</th>\n",
       "      <th>Age</th>\n",
       "      <th>Residence Status</th>\n",
       "      <th>Job</th>\n",
       "      <th>Completed Other loan?</th>\n",
       "      <th>Good Loan</th>\n",
       "    </tr>\n",
       "  </thead>\n",
       "  <tbody>\n",
       "    <tr>\n",
       "      <th>0</th>\n",
       "      <td>No Data</td>\n",
       "      <td>critical</td>\n",
       "      <td>Learning / Edu purposes</td>\n",
       "      <td>2116.0</td>\n",
       "      <td>0-200</td>\n",
       "      <td>5-7 Years</td>\n",
       "      <td>Male</td>\n",
       "      <td>No</td>\n",
       "      <td>Property - Real Estate</td>\n",
       "      <td>47.0</td>\n",
       "      <td>House Owner</td>\n",
       "      <td>Services</td>\n",
       "      <td>No</td>\n",
       "      <td>No</td>\n",
       "    </tr>\n",
       "    <tr>\n",
       "      <th>1</th>\n",
       "      <td>No Data</td>\n",
       "      <td>critical</td>\n",
       "      <td>TV</td>\n",
       "      <td>2438.0</td>\n",
       "      <td>No Data</td>\n",
       "      <td>7+ Years</td>\n",
       "      <td>Male</td>\n",
       "      <td>No</td>\n",
       "      <td>Savings Account</td>\n",
       "      <td>52.0</td>\n",
       "      <td>House Owner</td>\n",
       "      <td>Skilled Labor</td>\n",
       "      <td>No</td>\n",
       "      <td>No</td>\n",
       "    </tr>\n",
       "    <tr>\n",
       "      <th>2</th>\n",
       "      <td>No Data</td>\n",
       "      <td>critical</td>\n",
       "      <td>Buying a New Car</td>\n",
       "      <td>2144.0</td>\n",
       "      <td>0-200</td>\n",
       "      <td>2-5 Years</td>\n",
       "      <td>Male</td>\n",
       "      <td>No</td>\n",
       "      <td>Vehicle</td>\n",
       "      <td>48.0</td>\n",
       "      <td>House Owner</td>\n",
       "      <td>Skilled Labor</td>\n",
       "      <td>No</td>\n",
       "      <td>No</td>\n",
       "    </tr>\n",
       "    <tr>\n",
       "      <th>3</th>\n",
       "      <td>No Data</td>\n",
       "      <td>critical</td>\n",
       "      <td>Home furniture</td>\n",
       "      <td>2073.0</td>\n",
       "      <td>No Data</td>\n",
       "      <td>2-5 Years</td>\n",
       "      <td>Married</td>\n",
       "      <td>No</td>\n",
       "      <td>Vehicle</td>\n",
       "      <td>25.0</td>\n",
       "      <td>House Owner</td>\n",
       "      <td>Skilled Labor</td>\n",
       "      <td>Yes</td>\n",
       "      <td>No</td>\n",
       "    </tr>\n",
       "    <tr>\n",
       "      <th>4</th>\n",
       "      <td>No Data</td>\n",
       "      <td>critical</td>\n",
       "      <td>Support for Business</td>\n",
       "      <td>1276.0</td>\n",
       "      <td>No Data</td>\n",
       "      <td>7+ Years</td>\n",
       "      <td>Male</td>\n",
       "      <td>No</td>\n",
       "      <td>No Security</td>\n",
       "      <td>59.0</td>\n",
       "      <td>Renting</td>\n",
       "      <td>Services</td>\n",
       "      <td>No</td>\n",
       "      <td>No</td>\n",
       "    </tr>\n",
       "  </tbody>\n",
       "</table>\n",
       "</div>"
      ],
      "text/plain": [
       "  Type of Account Account History      Reason for the Loan  Loan Amount  \\\n",
       "0         No Data        critical  Learning / Edu purposes       2116.0   \n",
       "1         No Data        critical                       TV       2438.0   \n",
       "2         No Data        critical         Buying a New Car       2144.0   \n",
       "3         No Data        critical           Home furniture       2073.0   \n",
       "4         No Data        critical     Support for Business       1276.0   \n",
       "\n",
       "  Account Savings Employment History Individual Stauts Other Loans  \\\n",
       "0           0-200          5-7 Years              Male          No   \n",
       "1         No Data           7+ Years              Male          No   \n",
       "2           0-200          2-5 Years              Male          No   \n",
       "3         No Data          2-5 Years           Married          No   \n",
       "4         No Data           7+ Years              Male          No   \n",
       "\n",
       "    Security / Collateral   Age Residence Status            Job  \\\n",
       "0  Property - Real Estate  47.0      House Owner       Services   \n",
       "1         Savings Account  52.0      House Owner  Skilled Labor   \n",
       "2                 Vehicle  48.0      House Owner  Skilled Labor   \n",
       "3                 Vehicle  25.0      House Owner  Skilled Labor   \n",
       "4             No Security  59.0          Renting       Services   \n",
       "\n",
       "  Completed Other loan? Good Loan  \n",
       "0                    No        No  \n",
       "1                    No        No  \n",
       "2                    No        No  \n",
       "3                   Yes        No  \n",
       "4                    No        No  "
      ]
     },
     "execution_count": 128,
     "metadata": {},
     "output_type": "execute_result"
    }
   ],
   "source": [
    "df.head()"
   ]
  },
  {
   "cell_type": "code",
   "execution_count": 129,
   "metadata": {},
   "outputs": [],
   "source": [
    "#Handling  Categorical features\n",
    "#Just for Understanding get_dummies\n",
    "#pd.get_dummies(df,columns=['Type of Account'])\n",
    "#Comment this otherwise in next applying for entire dataframe shape of dataframe incerases"
   ]
  },
  {
   "cell_type": "code",
   "execution_count": 130,
   "metadata": {},
   "outputs": [],
   "source": [
    "#Type of Account :4 lebels -- ['No Data' 'Type A' 'Type B' 'Type C']\n",
    "#applying get dummies original features is get converted into No of lebels present in that feature with one hot encoding\n",
    "#New feature Nomencleture will be like original feature name_lebel Name"
   ]
  },
  {
   "cell_type": "code",
   "execution_count": 131,
   "metadata": {},
   "outputs": [
    {
     "data": {
      "text/html": [
       "<div>\n",
       "<style scoped>\n",
       "    .dataframe tbody tr th:only-of-type {\n",
       "        vertical-align: middle;\n",
       "    }\n",
       "\n",
       "    .dataframe tbody tr th {\n",
       "        vertical-align: top;\n",
       "    }\n",
       "\n",
       "    .dataframe thead th {\n",
       "        text-align: right;\n",
       "    }\n",
       "</style>\n",
       "<table border=\"1\" class=\"dataframe\">\n",
       "  <thead>\n",
       "    <tr style=\"text-align: right;\">\n",
       "      <th></th>\n",
       "      <th>Loan Amount</th>\n",
       "      <th>Age</th>\n",
       "      <th>Good Loan</th>\n",
       "      <th>Type of Account_No Data</th>\n",
       "      <th>Type of Account_Type A</th>\n",
       "      <th>Type of Account_Type B</th>\n",
       "      <th>Type of Account_Type C</th>\n",
       "      <th>Account History_Average (known delays)</th>\n",
       "      <th>Account History_Good</th>\n",
       "      <th>Account History_critical</th>\n",
       "      <th>...</th>\n",
       "      <th>Security / Collateral_Vehicle</th>\n",
       "      <th>Residence Status_Free</th>\n",
       "      <th>Residence Status_House Owner</th>\n",
       "      <th>Residence Status_Renting</th>\n",
       "      <th>Job_Not Employed</th>\n",
       "      <th>Job_Professional / Management</th>\n",
       "      <th>Job_Services</th>\n",
       "      <th>Job_Skilled Labor</th>\n",
       "      <th>Completed Other loan?_No</th>\n",
       "      <th>Completed Other loan?_Yes</th>\n",
       "    </tr>\n",
       "  </thead>\n",
       "  <tbody>\n",
       "    <tr>\n",
       "      <th>0</th>\n",
       "      <td>2116.0</td>\n",
       "      <td>47.0</td>\n",
       "      <td>No</td>\n",
       "      <td>1</td>\n",
       "      <td>0</td>\n",
       "      <td>0</td>\n",
       "      <td>0</td>\n",
       "      <td>0</td>\n",
       "      <td>0</td>\n",
       "      <td>1</td>\n",
       "      <td>...</td>\n",
       "      <td>0</td>\n",
       "      <td>0</td>\n",
       "      <td>1</td>\n",
       "      <td>0</td>\n",
       "      <td>0</td>\n",
       "      <td>0</td>\n",
       "      <td>1</td>\n",
       "      <td>0</td>\n",
       "      <td>1</td>\n",
       "      <td>0</td>\n",
       "    </tr>\n",
       "    <tr>\n",
       "      <th>1</th>\n",
       "      <td>2438.0</td>\n",
       "      <td>52.0</td>\n",
       "      <td>No</td>\n",
       "      <td>1</td>\n",
       "      <td>0</td>\n",
       "      <td>0</td>\n",
       "      <td>0</td>\n",
       "      <td>0</td>\n",
       "      <td>0</td>\n",
       "      <td>1</td>\n",
       "      <td>...</td>\n",
       "      <td>0</td>\n",
       "      <td>0</td>\n",
       "      <td>1</td>\n",
       "      <td>0</td>\n",
       "      <td>0</td>\n",
       "      <td>0</td>\n",
       "      <td>0</td>\n",
       "      <td>1</td>\n",
       "      <td>1</td>\n",
       "      <td>0</td>\n",
       "    </tr>\n",
       "    <tr>\n",
       "      <th>2</th>\n",
       "      <td>2144.0</td>\n",
       "      <td>48.0</td>\n",
       "      <td>No</td>\n",
       "      <td>1</td>\n",
       "      <td>0</td>\n",
       "      <td>0</td>\n",
       "      <td>0</td>\n",
       "      <td>0</td>\n",
       "      <td>0</td>\n",
       "      <td>1</td>\n",
       "      <td>...</td>\n",
       "      <td>1</td>\n",
       "      <td>0</td>\n",
       "      <td>1</td>\n",
       "      <td>0</td>\n",
       "      <td>0</td>\n",
       "      <td>0</td>\n",
       "      <td>0</td>\n",
       "      <td>1</td>\n",
       "      <td>1</td>\n",
       "      <td>0</td>\n",
       "    </tr>\n",
       "    <tr>\n",
       "      <th>3</th>\n",
       "      <td>2073.0</td>\n",
       "      <td>25.0</td>\n",
       "      <td>No</td>\n",
       "      <td>1</td>\n",
       "      <td>0</td>\n",
       "      <td>0</td>\n",
       "      <td>0</td>\n",
       "      <td>0</td>\n",
       "      <td>0</td>\n",
       "      <td>1</td>\n",
       "      <td>...</td>\n",
       "      <td>1</td>\n",
       "      <td>0</td>\n",
       "      <td>1</td>\n",
       "      <td>0</td>\n",
       "      <td>0</td>\n",
       "      <td>0</td>\n",
       "      <td>0</td>\n",
       "      <td>1</td>\n",
       "      <td>0</td>\n",
       "      <td>1</td>\n",
       "    </tr>\n",
       "    <tr>\n",
       "      <th>4</th>\n",
       "      <td>1276.0</td>\n",
       "      <td>59.0</td>\n",
       "      <td>No</td>\n",
       "      <td>1</td>\n",
       "      <td>0</td>\n",
       "      <td>0</td>\n",
       "      <td>0</td>\n",
       "      <td>0</td>\n",
       "      <td>0</td>\n",
       "      <td>1</td>\n",
       "      <td>...</td>\n",
       "      <td>0</td>\n",
       "      <td>0</td>\n",
       "      <td>0</td>\n",
       "      <td>1</td>\n",
       "      <td>0</td>\n",
       "      <td>0</td>\n",
       "      <td>1</td>\n",
       "      <td>0</td>\n",
       "      <td>1</td>\n",
       "      <td>0</td>\n",
       "    </tr>\n",
       "    <tr>\n",
       "      <th>...</th>\n",
       "      <td>...</td>\n",
       "      <td>...</td>\n",
       "      <td>...</td>\n",
       "      <td>...</td>\n",
       "      <td>...</td>\n",
       "      <td>...</td>\n",
       "      <td>...</td>\n",
       "      <td>...</td>\n",
       "      <td>...</td>\n",
       "      <td>...</td>\n",
       "      <td>...</td>\n",
       "      <td>...</td>\n",
       "      <td>...</td>\n",
       "      <td>...</td>\n",
       "      <td>...</td>\n",
       "      <td>...</td>\n",
       "      <td>...</td>\n",
       "      <td>...</td>\n",
       "      <td>...</td>\n",
       "      <td>...</td>\n",
       "      <td>...</td>\n",
       "    </tr>\n",
       "    <tr>\n",
       "      <th>999</th>\n",
       "      <td>3602.0</td>\n",
       "      <td>47.0</td>\n",
       "      <td>No</td>\n",
       "      <td>0</td>\n",
       "      <td>0</td>\n",
       "      <td>0</td>\n",
       "      <td>1</td>\n",
       "      <td>1</td>\n",
       "      <td>0</td>\n",
       "      <td>0</td>\n",
       "      <td>...</td>\n",
       "      <td>0</td>\n",
       "      <td>0</td>\n",
       "      <td>1</td>\n",
       "      <td>0</td>\n",
       "      <td>0</td>\n",
       "      <td>0</td>\n",
       "      <td>1</td>\n",
       "      <td>0</td>\n",
       "      <td>1</td>\n",
       "      <td>0</td>\n",
       "    </tr>\n",
       "    <tr>\n",
       "      <th>1000</th>\n",
       "      <td>4473.0</td>\n",
       "      <td>35.0</td>\n",
       "      <td>No</td>\n",
       "      <td>0</td>\n",
       "      <td>0</td>\n",
       "      <td>0</td>\n",
       "      <td>1</td>\n",
       "      <td>1</td>\n",
       "      <td>0</td>\n",
       "      <td>0</td>\n",
       "      <td>...</td>\n",
       "      <td>0</td>\n",
       "      <td>0</td>\n",
       "      <td>1</td>\n",
       "      <td>0</td>\n",
       "      <td>0</td>\n",
       "      <td>0</td>\n",
       "      <td>0</td>\n",
       "      <td>1</td>\n",
       "      <td>1</td>\n",
       "      <td>0</td>\n",
       "    </tr>\n",
       "    <tr>\n",
       "      <th>1001</th>\n",
       "      <td>12759.0</td>\n",
       "      <td>38.0</td>\n",
       "      <td>Yes</td>\n",
       "      <td>0</td>\n",
       "      <td>0</td>\n",
       "      <td>0</td>\n",
       "      <td>1</td>\n",
       "      <td>1</td>\n",
       "      <td>0</td>\n",
       "      <td>0</td>\n",
       "      <td>...</td>\n",
       "      <td>1</td>\n",
       "      <td>0</td>\n",
       "      <td>1</td>\n",
       "      <td>0</td>\n",
       "      <td>0</td>\n",
       "      <td>1</td>\n",
       "      <td>0</td>\n",
       "      <td>0</td>\n",
       "      <td>1</td>\n",
       "      <td>0</td>\n",
       "    </tr>\n",
       "    <tr>\n",
       "      <th>1002</th>\n",
       "      <td>2551.0</td>\n",
       "      <td>47.0</td>\n",
       "      <td>No</td>\n",
       "      <td>0</td>\n",
       "      <td>0</td>\n",
       "      <td>0</td>\n",
       "      <td>1</td>\n",
       "      <td>1</td>\n",
       "      <td>0</td>\n",
       "      <td>0</td>\n",
       "      <td>...</td>\n",
       "      <td>1</td>\n",
       "      <td>0</td>\n",
       "      <td>1</td>\n",
       "      <td>0</td>\n",
       "      <td>0</td>\n",
       "      <td>0</td>\n",
       "      <td>1</td>\n",
       "      <td>0</td>\n",
       "      <td>1</td>\n",
       "      <td>0</td>\n",
       "    </tr>\n",
       "    <tr>\n",
       "      <th>1003</th>\n",
       "      <td>1587.0</td>\n",
       "      <td>35.0</td>\n",
       "      <td>Yes</td>\n",
       "      <td>0</td>\n",
       "      <td>0</td>\n",
       "      <td>0</td>\n",
       "      <td>1</td>\n",
       "      <td>1</td>\n",
       "      <td>0</td>\n",
       "      <td>0</td>\n",
       "      <td>...</td>\n",
       "      <td>1</td>\n",
       "      <td>0</td>\n",
       "      <td>1</td>\n",
       "      <td>0</td>\n",
       "      <td>0</td>\n",
       "      <td>0</td>\n",
       "      <td>1</td>\n",
       "      <td>0</td>\n",
       "      <td>1</td>\n",
       "      <td>0</td>\n",
       "    </tr>\n",
       "  </tbody>\n",
       "</table>\n",
       "<p>1000 rows × 49 columns</p>\n",
       "</div>"
      ],
      "text/plain": [
       "      Loan Amount   Age Good Loan  Type of Account_No Data  \\\n",
       "0          2116.0  47.0        No                        1   \n",
       "1          2438.0  52.0        No                        1   \n",
       "2          2144.0  48.0        No                        1   \n",
       "3          2073.0  25.0        No                        1   \n",
       "4          1276.0  59.0        No                        1   \n",
       "...           ...   ...       ...                      ...   \n",
       "999        3602.0  47.0        No                        0   \n",
       "1000       4473.0  35.0        No                        0   \n",
       "1001      12759.0  38.0       Yes                        0   \n",
       "1002       2551.0  47.0        No                        0   \n",
       "1003       1587.0  35.0       Yes                        0   \n",
       "\n",
       "      Type of Account_Type A  Type of Account_Type B  Type of Account_Type C  \\\n",
       "0                          0                       0                       0   \n",
       "1                          0                       0                       0   \n",
       "2                          0                       0                       0   \n",
       "3                          0                       0                       0   \n",
       "4                          0                       0                       0   \n",
       "...                      ...                     ...                     ...   \n",
       "999                        0                       0                       1   \n",
       "1000                       0                       0                       1   \n",
       "1001                       0                       0                       1   \n",
       "1002                       0                       0                       1   \n",
       "1003                       0                       0                       1   \n",
       "\n",
       "      Account History_Average (known delays)  Account History_Good  \\\n",
       "0                                          0                     0   \n",
       "1                                          0                     0   \n",
       "2                                          0                     0   \n",
       "3                                          0                     0   \n",
       "4                                          0                     0   \n",
       "...                                      ...                   ...   \n",
       "999                                        1                     0   \n",
       "1000                                       1                     0   \n",
       "1001                                       1                     0   \n",
       "1002                                       1                     0   \n",
       "1003                                       1                     0   \n",
       "\n",
       "      Account History_critical  ...  Security / Collateral_Vehicle  \\\n",
       "0                            1  ...                              0   \n",
       "1                            1  ...                              0   \n",
       "2                            1  ...                              1   \n",
       "3                            1  ...                              1   \n",
       "4                            1  ...                              0   \n",
       "...                        ...  ...                            ...   \n",
       "999                          0  ...                              0   \n",
       "1000                         0  ...                              0   \n",
       "1001                         0  ...                              1   \n",
       "1002                         0  ...                              1   \n",
       "1003                         0  ...                              1   \n",
       "\n",
       "      Residence Status_Free  Residence Status_House Owner  \\\n",
       "0                         0                             1   \n",
       "1                         0                             1   \n",
       "2                         0                             1   \n",
       "3                         0                             1   \n",
       "4                         0                             0   \n",
       "...                     ...                           ...   \n",
       "999                       0                             1   \n",
       "1000                      0                             1   \n",
       "1001                      0                             1   \n",
       "1002                      0                             1   \n",
       "1003                      0                             1   \n",
       "\n",
       "      Residence Status_Renting  Job_Not Employed  \\\n",
       "0                            0                 0   \n",
       "1                            0                 0   \n",
       "2                            0                 0   \n",
       "3                            0                 0   \n",
       "4                            1                 0   \n",
       "...                        ...               ...   \n",
       "999                          0                 0   \n",
       "1000                         0                 0   \n",
       "1001                         0                 0   \n",
       "1002                         0                 0   \n",
       "1003                         0                 0   \n",
       "\n",
       "      Job_Professional / Management  Job_Services  Job_Skilled Labor  \\\n",
       "0                                 0             1                  0   \n",
       "1                                 0             0                  1   \n",
       "2                                 0             0                  1   \n",
       "3                                 0             0                  1   \n",
       "4                                 0             1                  0   \n",
       "...                             ...           ...                ...   \n",
       "999                               0             1                  0   \n",
       "1000                              0             0                  1   \n",
       "1001                              1             0                  0   \n",
       "1002                              0             1                  0   \n",
       "1003                              0             1                  0   \n",
       "\n",
       "      Completed Other loan?_No  Completed Other loan?_Yes  \n",
       "0                            1                          0  \n",
       "1                            1                          0  \n",
       "2                            1                          0  \n",
       "3                            0                          1  \n",
       "4                            1                          0  \n",
       "...                        ...                        ...  \n",
       "999                          1                          0  \n",
       "1000                         1                          0  \n",
       "1001                         1                          0  \n",
       "1002                         1                          0  \n",
       "1003                         1                          0  \n",
       "\n",
       "[1000 rows x 49 columns]"
      ]
     },
     "execution_count": 131,
     "metadata": {},
     "output_type": "execute_result"
    }
   ],
   "source": [
    "#Handling Categorical feature by get_dummies for entire dataframe categorical feature\n",
    "#Numeric Representation of 0 & 1\n",
    "encoded_df=pd.get_dummies(df,columns=features)\n",
    "encoded_df"
   ]
  },
  {
   "cell_type": "code",
   "execution_count": 132,
   "metadata": {},
   "outputs": [],
   "source": [
    "# From above Two are Numerical features & one is Dependent feature which are excludede from get_dummies"
   ]
  },
  {
   "cell_type": "code",
   "execution_count": 133,
   "metadata": {},
   "outputs": [
    {
     "name": "stdout",
     "output_type": "stream",
     "text": [
      "(1000, 14)\n",
      "(1000, 49)\n"
     ]
    }
   ],
   "source": [
    "print(df.shape)\n",
    "print(encoded_df.shape)"
   ]
  },
  {
   "cell_type": "code",
   "execution_count": 134,
   "metadata": {},
   "outputs": [
    {
     "name": "stderr",
     "output_type": "stream",
     "text": [
      "C:\\Users\\Lokanathswami\\anaconda3\\lib\\site-packages\\ipykernel_launcher.py:3: SettingWithCopyWarning: \n",
      "A value is trying to be set on a copy of a slice from a DataFrame\n",
      "\n",
      "See the caveats in the documentation: https://pandas.pydata.org/pandas-docs/stable/user_guide/indexing.html#returning-a-view-versus-a-copy\n",
      "  This is separate from the ipykernel package so we can avoid doing imports until\n",
      "C:\\Users\\Lokanathswami\\anaconda3\\lib\\site-packages\\ipykernel_launcher.py:4: SettingWithCopyWarning: \n",
      "A value is trying to be set on a copy of a slice from a DataFrame\n",
      "\n",
      "See the caveats in the documentation: https://pandas.pydata.org/pandas-docs/stable/user_guide/indexing.html#returning-a-view-versus-a-copy\n",
      "  after removing the cwd from sys.path.\n"
     ]
    },
    {
     "data": {
      "text/html": [
       "<div>\n",
       "<style scoped>\n",
       "    .dataframe tbody tr th:only-of-type {\n",
       "        vertical-align: middle;\n",
       "    }\n",
       "\n",
       "    .dataframe tbody tr th {\n",
       "        vertical-align: top;\n",
       "    }\n",
       "\n",
       "    .dataframe thead th {\n",
       "        text-align: right;\n",
       "    }\n",
       "</style>\n",
       "<table border=\"1\" class=\"dataframe\">\n",
       "  <thead>\n",
       "    <tr style=\"text-align: right;\">\n",
       "      <th></th>\n",
       "      <th>Loan Amount</th>\n",
       "      <th>Age</th>\n",
       "      <th>Good Loan</th>\n",
       "      <th>Type of Account_No Data</th>\n",
       "      <th>Type of Account_Type A</th>\n",
       "      <th>Type of Account_Type B</th>\n",
       "      <th>Type of Account_Type C</th>\n",
       "      <th>Account History_Average (known delays)</th>\n",
       "      <th>Account History_Good</th>\n",
       "      <th>Account History_critical</th>\n",
       "      <th>...</th>\n",
       "      <th>Security / Collateral_Vehicle</th>\n",
       "      <th>Residence Status_Free</th>\n",
       "      <th>Residence Status_House Owner</th>\n",
       "      <th>Residence Status_Renting</th>\n",
       "      <th>Job_Not Employed</th>\n",
       "      <th>Job_Professional / Management</th>\n",
       "      <th>Job_Services</th>\n",
       "      <th>Job_Skilled Labor</th>\n",
       "      <th>Completed Other loan?_No</th>\n",
       "      <th>Completed Other loan?_Yes</th>\n",
       "    </tr>\n",
       "  </thead>\n",
       "  <tbody>\n",
       "    <tr>\n",
       "      <th>0</th>\n",
       "      <td>2116.0</td>\n",
       "      <td>47.0</td>\n",
       "      <td>0</td>\n",
       "      <td>1</td>\n",
       "      <td>0</td>\n",
       "      <td>0</td>\n",
       "      <td>0</td>\n",
       "      <td>0</td>\n",
       "      <td>0</td>\n",
       "      <td>1</td>\n",
       "      <td>...</td>\n",
       "      <td>0</td>\n",
       "      <td>0</td>\n",
       "      <td>1</td>\n",
       "      <td>0</td>\n",
       "      <td>0</td>\n",
       "      <td>0</td>\n",
       "      <td>1</td>\n",
       "      <td>0</td>\n",
       "      <td>1</td>\n",
       "      <td>0</td>\n",
       "    </tr>\n",
       "    <tr>\n",
       "      <th>1</th>\n",
       "      <td>2438.0</td>\n",
       "      <td>52.0</td>\n",
       "      <td>0</td>\n",
       "      <td>1</td>\n",
       "      <td>0</td>\n",
       "      <td>0</td>\n",
       "      <td>0</td>\n",
       "      <td>0</td>\n",
       "      <td>0</td>\n",
       "      <td>1</td>\n",
       "      <td>...</td>\n",
       "      <td>0</td>\n",
       "      <td>0</td>\n",
       "      <td>1</td>\n",
       "      <td>0</td>\n",
       "      <td>0</td>\n",
       "      <td>0</td>\n",
       "      <td>0</td>\n",
       "      <td>1</td>\n",
       "      <td>1</td>\n",
       "      <td>0</td>\n",
       "    </tr>\n",
       "    <tr>\n",
       "      <th>2</th>\n",
       "      <td>2144.0</td>\n",
       "      <td>48.0</td>\n",
       "      <td>0</td>\n",
       "      <td>1</td>\n",
       "      <td>0</td>\n",
       "      <td>0</td>\n",
       "      <td>0</td>\n",
       "      <td>0</td>\n",
       "      <td>0</td>\n",
       "      <td>1</td>\n",
       "      <td>...</td>\n",
       "      <td>1</td>\n",
       "      <td>0</td>\n",
       "      <td>1</td>\n",
       "      <td>0</td>\n",
       "      <td>0</td>\n",
       "      <td>0</td>\n",
       "      <td>0</td>\n",
       "      <td>1</td>\n",
       "      <td>1</td>\n",
       "      <td>0</td>\n",
       "    </tr>\n",
       "    <tr>\n",
       "      <th>3</th>\n",
       "      <td>2073.0</td>\n",
       "      <td>25.0</td>\n",
       "      <td>0</td>\n",
       "      <td>1</td>\n",
       "      <td>0</td>\n",
       "      <td>0</td>\n",
       "      <td>0</td>\n",
       "      <td>0</td>\n",
       "      <td>0</td>\n",
       "      <td>1</td>\n",
       "      <td>...</td>\n",
       "      <td>1</td>\n",
       "      <td>0</td>\n",
       "      <td>1</td>\n",
       "      <td>0</td>\n",
       "      <td>0</td>\n",
       "      <td>0</td>\n",
       "      <td>0</td>\n",
       "      <td>1</td>\n",
       "      <td>0</td>\n",
       "      <td>1</td>\n",
       "    </tr>\n",
       "    <tr>\n",
       "      <th>4</th>\n",
       "      <td>1276.0</td>\n",
       "      <td>59.0</td>\n",
       "      <td>0</td>\n",
       "      <td>1</td>\n",
       "      <td>0</td>\n",
       "      <td>0</td>\n",
       "      <td>0</td>\n",
       "      <td>0</td>\n",
       "      <td>0</td>\n",
       "      <td>1</td>\n",
       "      <td>...</td>\n",
       "      <td>0</td>\n",
       "      <td>0</td>\n",
       "      <td>0</td>\n",
       "      <td>1</td>\n",
       "      <td>0</td>\n",
       "      <td>0</td>\n",
       "      <td>1</td>\n",
       "      <td>0</td>\n",
       "      <td>1</td>\n",
       "      <td>0</td>\n",
       "    </tr>\n",
       "    <tr>\n",
       "      <th>...</th>\n",
       "      <td>...</td>\n",
       "      <td>...</td>\n",
       "      <td>...</td>\n",
       "      <td>...</td>\n",
       "      <td>...</td>\n",
       "      <td>...</td>\n",
       "      <td>...</td>\n",
       "      <td>...</td>\n",
       "      <td>...</td>\n",
       "      <td>...</td>\n",
       "      <td>...</td>\n",
       "      <td>...</td>\n",
       "      <td>...</td>\n",
       "      <td>...</td>\n",
       "      <td>...</td>\n",
       "      <td>...</td>\n",
       "      <td>...</td>\n",
       "      <td>...</td>\n",
       "      <td>...</td>\n",
       "      <td>...</td>\n",
       "      <td>...</td>\n",
       "    </tr>\n",
       "    <tr>\n",
       "      <th>999</th>\n",
       "      <td>3602.0</td>\n",
       "      <td>47.0</td>\n",
       "      <td>0</td>\n",
       "      <td>0</td>\n",
       "      <td>0</td>\n",
       "      <td>0</td>\n",
       "      <td>1</td>\n",
       "      <td>1</td>\n",
       "      <td>0</td>\n",
       "      <td>0</td>\n",
       "      <td>...</td>\n",
       "      <td>0</td>\n",
       "      <td>0</td>\n",
       "      <td>1</td>\n",
       "      <td>0</td>\n",
       "      <td>0</td>\n",
       "      <td>0</td>\n",
       "      <td>1</td>\n",
       "      <td>0</td>\n",
       "      <td>1</td>\n",
       "      <td>0</td>\n",
       "    </tr>\n",
       "    <tr>\n",
       "      <th>1000</th>\n",
       "      <td>4473.0</td>\n",
       "      <td>35.0</td>\n",
       "      <td>0</td>\n",
       "      <td>0</td>\n",
       "      <td>0</td>\n",
       "      <td>0</td>\n",
       "      <td>1</td>\n",
       "      <td>1</td>\n",
       "      <td>0</td>\n",
       "      <td>0</td>\n",
       "      <td>...</td>\n",
       "      <td>0</td>\n",
       "      <td>0</td>\n",
       "      <td>1</td>\n",
       "      <td>0</td>\n",
       "      <td>0</td>\n",
       "      <td>0</td>\n",
       "      <td>0</td>\n",
       "      <td>1</td>\n",
       "      <td>1</td>\n",
       "      <td>0</td>\n",
       "    </tr>\n",
       "    <tr>\n",
       "      <th>1001</th>\n",
       "      <td>12759.0</td>\n",
       "      <td>38.0</td>\n",
       "      <td>1</td>\n",
       "      <td>0</td>\n",
       "      <td>0</td>\n",
       "      <td>0</td>\n",
       "      <td>1</td>\n",
       "      <td>1</td>\n",
       "      <td>0</td>\n",
       "      <td>0</td>\n",
       "      <td>...</td>\n",
       "      <td>1</td>\n",
       "      <td>0</td>\n",
       "      <td>1</td>\n",
       "      <td>0</td>\n",
       "      <td>0</td>\n",
       "      <td>1</td>\n",
       "      <td>0</td>\n",
       "      <td>0</td>\n",
       "      <td>1</td>\n",
       "      <td>0</td>\n",
       "    </tr>\n",
       "    <tr>\n",
       "      <th>1002</th>\n",
       "      <td>2551.0</td>\n",
       "      <td>47.0</td>\n",
       "      <td>0</td>\n",
       "      <td>0</td>\n",
       "      <td>0</td>\n",
       "      <td>0</td>\n",
       "      <td>1</td>\n",
       "      <td>1</td>\n",
       "      <td>0</td>\n",
       "      <td>0</td>\n",
       "      <td>...</td>\n",
       "      <td>1</td>\n",
       "      <td>0</td>\n",
       "      <td>1</td>\n",
       "      <td>0</td>\n",
       "      <td>0</td>\n",
       "      <td>0</td>\n",
       "      <td>1</td>\n",
       "      <td>0</td>\n",
       "      <td>1</td>\n",
       "      <td>0</td>\n",
       "    </tr>\n",
       "    <tr>\n",
       "      <th>1003</th>\n",
       "      <td>1587.0</td>\n",
       "      <td>35.0</td>\n",
       "      <td>1</td>\n",
       "      <td>0</td>\n",
       "      <td>0</td>\n",
       "      <td>0</td>\n",
       "      <td>1</td>\n",
       "      <td>1</td>\n",
       "      <td>0</td>\n",
       "      <td>0</td>\n",
       "      <td>...</td>\n",
       "      <td>1</td>\n",
       "      <td>0</td>\n",
       "      <td>1</td>\n",
       "      <td>0</td>\n",
       "      <td>0</td>\n",
       "      <td>0</td>\n",
       "      <td>1</td>\n",
       "      <td>0</td>\n",
       "      <td>1</td>\n",
       "      <td>0</td>\n",
       "    </tr>\n",
       "  </tbody>\n",
       "</table>\n",
       "<p>1000 rows × 49 columns</p>\n",
       "</div>"
      ],
      "text/plain": [
       "      Loan Amount   Age Good Loan  Type of Account_No Data  \\\n",
       "0          2116.0  47.0         0                        1   \n",
       "1          2438.0  52.0         0                        1   \n",
       "2          2144.0  48.0         0                        1   \n",
       "3          2073.0  25.0         0                        1   \n",
       "4          1276.0  59.0         0                        1   \n",
       "...           ...   ...       ...                      ...   \n",
       "999        3602.0  47.0         0                        0   \n",
       "1000       4473.0  35.0         0                        0   \n",
       "1001      12759.0  38.0         1                        0   \n",
       "1002       2551.0  47.0         0                        0   \n",
       "1003       1587.0  35.0         1                        0   \n",
       "\n",
       "      Type of Account_Type A  Type of Account_Type B  Type of Account_Type C  \\\n",
       "0                          0                       0                       0   \n",
       "1                          0                       0                       0   \n",
       "2                          0                       0                       0   \n",
       "3                          0                       0                       0   \n",
       "4                          0                       0                       0   \n",
       "...                      ...                     ...                     ...   \n",
       "999                        0                       0                       1   \n",
       "1000                       0                       0                       1   \n",
       "1001                       0                       0                       1   \n",
       "1002                       0                       0                       1   \n",
       "1003                       0                       0                       1   \n",
       "\n",
       "      Account History_Average (known delays)  Account History_Good  \\\n",
       "0                                          0                     0   \n",
       "1                                          0                     0   \n",
       "2                                          0                     0   \n",
       "3                                          0                     0   \n",
       "4                                          0                     0   \n",
       "...                                      ...                   ...   \n",
       "999                                        1                     0   \n",
       "1000                                       1                     0   \n",
       "1001                                       1                     0   \n",
       "1002                                       1                     0   \n",
       "1003                                       1                     0   \n",
       "\n",
       "      Account History_critical  ...  Security / Collateral_Vehicle  \\\n",
       "0                            1  ...                              0   \n",
       "1                            1  ...                              0   \n",
       "2                            1  ...                              1   \n",
       "3                            1  ...                              1   \n",
       "4                            1  ...                              0   \n",
       "...                        ...  ...                            ...   \n",
       "999                          0  ...                              0   \n",
       "1000                         0  ...                              0   \n",
       "1001                         0  ...                              1   \n",
       "1002                         0  ...                              1   \n",
       "1003                         0  ...                              1   \n",
       "\n",
       "      Residence Status_Free  Residence Status_House Owner  \\\n",
       "0                         0                             1   \n",
       "1                         0                             1   \n",
       "2                         0                             1   \n",
       "3                         0                             1   \n",
       "4                         0                             0   \n",
       "...                     ...                           ...   \n",
       "999                       0                             1   \n",
       "1000                      0                             1   \n",
       "1001                      0                             1   \n",
       "1002                      0                             1   \n",
       "1003                      0                             1   \n",
       "\n",
       "      Residence Status_Renting  Job_Not Employed  \\\n",
       "0                            0                 0   \n",
       "1                            0                 0   \n",
       "2                            0                 0   \n",
       "3                            0                 0   \n",
       "4                            1                 0   \n",
       "...                        ...               ...   \n",
       "999                          0                 0   \n",
       "1000                         0                 0   \n",
       "1001                         0                 0   \n",
       "1002                         0                 0   \n",
       "1003                         0                 0   \n",
       "\n",
       "      Job_Professional / Management  Job_Services  Job_Skilled Labor  \\\n",
       "0                                 0             1                  0   \n",
       "1                                 0             0                  1   \n",
       "2                                 0             0                  1   \n",
       "3                                 0             0                  1   \n",
       "4                                 0             1                  0   \n",
       "...                             ...           ...                ...   \n",
       "999                               0             1                  0   \n",
       "1000                              0             0                  1   \n",
       "1001                              1             0                  0   \n",
       "1002                              0             1                  0   \n",
       "1003                              0             1                  0   \n",
       "\n",
       "      Completed Other loan?_No  Completed Other loan?_Yes  \n",
       "0                            1                          0  \n",
       "1                            1                          0  \n",
       "2                            1                          0  \n",
       "3                            0                          1  \n",
       "4                            1                          0  \n",
       "...                        ...                        ...  \n",
       "999                          1                          0  \n",
       "1000                         1                          0  \n",
       "1001                         1                          0  \n",
       "1002                         1                          0  \n",
       "1003                         1                          0  \n",
       "\n",
       "[1000 rows x 49 columns]"
      ]
     },
     "execution_count": 134,
     "metadata": {},
     "output_type": "execute_result"
    }
   ],
   "source": [
    "# Handling dependent Variable lebels with 0 and 1.We cannot apply get_dummies for Dependent feature\n",
    "#wherever Yes put 1 & wherever No Put 0\n",
    "encoded_df['Good Loan'][encoded_df['Good Loan']=='Yes']=1\n",
    "encoded_df['Good Loan'][encoded_df['Good Loan']=='No']=0\n",
    "\n",
    "encoded_df"
   ]
  },
  {
   "cell_type": "code",
   "execution_count": 135,
   "metadata": {},
   "outputs": [],
   "source": [
    "#Feature selection\n",
    "#Selecting Most Important feature for further process\n",
    "# based on how much feature contribute to y variable\n",
    "# Steps\n",
    "  # split dataframe in X & Y\n",
    "  #Run a Tree based estimators like (Decision Trees & Random Forest)"
   ]
  },
  {
   "cell_type": "code",
   "execution_count": 136,
   "metadata": {},
   "outputs": [
    {
     "data": {
      "text/html": [
       "<div>\n",
       "<style scoped>\n",
       "    .dataframe tbody tr th:only-of-type {\n",
       "        vertical-align: middle;\n",
       "    }\n",
       "\n",
       "    .dataframe tbody tr th {\n",
       "        vertical-align: top;\n",
       "    }\n",
       "\n",
       "    .dataframe thead th {\n",
       "        text-align: right;\n",
       "    }\n",
       "</style>\n",
       "<table border=\"1\" class=\"dataframe\">\n",
       "  <thead>\n",
       "    <tr style=\"text-align: right;\">\n",
       "      <th></th>\n",
       "      <th>Loan Amount</th>\n",
       "      <th>Age</th>\n",
       "      <th>Type of Account_No Data</th>\n",
       "      <th>Type of Account_Type A</th>\n",
       "      <th>Type of Account_Type B</th>\n",
       "      <th>Type of Account_Type C</th>\n",
       "      <th>Account History_Average (known delays)</th>\n",
       "      <th>Account History_Good</th>\n",
       "      <th>Account History_critical</th>\n",
       "      <th>Reason for the Loan_Advance Edu/training</th>\n",
       "      <th>...</th>\n",
       "      <th>Security / Collateral_Vehicle</th>\n",
       "      <th>Residence Status_Free</th>\n",
       "      <th>Residence Status_House Owner</th>\n",
       "      <th>Residence Status_Renting</th>\n",
       "      <th>Job_Not Employed</th>\n",
       "      <th>Job_Professional / Management</th>\n",
       "      <th>Job_Services</th>\n",
       "      <th>Job_Skilled Labor</th>\n",
       "      <th>Completed Other loan?_No</th>\n",
       "      <th>Completed Other loan?_Yes</th>\n",
       "    </tr>\n",
       "  </thead>\n",
       "  <tbody>\n",
       "    <tr>\n",
       "      <th>0</th>\n",
       "      <td>2116.0</td>\n",
       "      <td>47.0</td>\n",
       "      <td>1</td>\n",
       "      <td>0</td>\n",
       "      <td>0</td>\n",
       "      <td>0</td>\n",
       "      <td>0</td>\n",
       "      <td>0</td>\n",
       "      <td>1</td>\n",
       "      <td>0</td>\n",
       "      <td>...</td>\n",
       "      <td>0</td>\n",
       "      <td>0</td>\n",
       "      <td>1</td>\n",
       "      <td>0</td>\n",
       "      <td>0</td>\n",
       "      <td>0</td>\n",
       "      <td>1</td>\n",
       "      <td>0</td>\n",
       "      <td>1</td>\n",
       "      <td>0</td>\n",
       "    </tr>\n",
       "    <tr>\n",
       "      <th>1</th>\n",
       "      <td>2438.0</td>\n",
       "      <td>52.0</td>\n",
       "      <td>1</td>\n",
       "      <td>0</td>\n",
       "      <td>0</td>\n",
       "      <td>0</td>\n",
       "      <td>0</td>\n",
       "      <td>0</td>\n",
       "      <td>1</td>\n",
       "      <td>0</td>\n",
       "      <td>...</td>\n",
       "      <td>0</td>\n",
       "      <td>0</td>\n",
       "      <td>1</td>\n",
       "      <td>0</td>\n",
       "      <td>0</td>\n",
       "      <td>0</td>\n",
       "      <td>0</td>\n",
       "      <td>1</td>\n",
       "      <td>1</td>\n",
       "      <td>0</td>\n",
       "    </tr>\n",
       "    <tr>\n",
       "      <th>2</th>\n",
       "      <td>2144.0</td>\n",
       "      <td>48.0</td>\n",
       "      <td>1</td>\n",
       "      <td>0</td>\n",
       "      <td>0</td>\n",
       "      <td>0</td>\n",
       "      <td>0</td>\n",
       "      <td>0</td>\n",
       "      <td>1</td>\n",
       "      <td>0</td>\n",
       "      <td>...</td>\n",
       "      <td>1</td>\n",
       "      <td>0</td>\n",
       "      <td>1</td>\n",
       "      <td>0</td>\n",
       "      <td>0</td>\n",
       "      <td>0</td>\n",
       "      <td>0</td>\n",
       "      <td>1</td>\n",
       "      <td>1</td>\n",
       "      <td>0</td>\n",
       "    </tr>\n",
       "    <tr>\n",
       "      <th>3</th>\n",
       "      <td>2073.0</td>\n",
       "      <td>25.0</td>\n",
       "      <td>1</td>\n",
       "      <td>0</td>\n",
       "      <td>0</td>\n",
       "      <td>0</td>\n",
       "      <td>0</td>\n",
       "      <td>0</td>\n",
       "      <td>1</td>\n",
       "      <td>0</td>\n",
       "      <td>...</td>\n",
       "      <td>1</td>\n",
       "      <td>0</td>\n",
       "      <td>1</td>\n",
       "      <td>0</td>\n",
       "      <td>0</td>\n",
       "      <td>0</td>\n",
       "      <td>0</td>\n",
       "      <td>1</td>\n",
       "      <td>0</td>\n",
       "      <td>1</td>\n",
       "    </tr>\n",
       "    <tr>\n",
       "      <th>4</th>\n",
       "      <td>1276.0</td>\n",
       "      <td>59.0</td>\n",
       "      <td>1</td>\n",
       "      <td>0</td>\n",
       "      <td>0</td>\n",
       "      <td>0</td>\n",
       "      <td>0</td>\n",
       "      <td>0</td>\n",
       "      <td>1</td>\n",
       "      <td>0</td>\n",
       "      <td>...</td>\n",
       "      <td>0</td>\n",
       "      <td>0</td>\n",
       "      <td>0</td>\n",
       "      <td>1</td>\n",
       "      <td>0</td>\n",
       "      <td>0</td>\n",
       "      <td>1</td>\n",
       "      <td>0</td>\n",
       "      <td>1</td>\n",
       "      <td>0</td>\n",
       "    </tr>\n",
       "  </tbody>\n",
       "</table>\n",
       "<p>5 rows × 48 columns</p>\n",
       "</div>"
      ],
      "text/plain": [
       "   Loan Amount   Age  Type of Account_No Data  Type of Account_Type A  \\\n",
       "0       2116.0  47.0                        1                       0   \n",
       "1       2438.0  52.0                        1                       0   \n",
       "2       2144.0  48.0                        1                       0   \n",
       "3       2073.0  25.0                        1                       0   \n",
       "4       1276.0  59.0                        1                       0   \n",
       "\n",
       "   Type of Account_Type B  Type of Account_Type C  \\\n",
       "0                       0                       0   \n",
       "1                       0                       0   \n",
       "2                       0                       0   \n",
       "3                       0                       0   \n",
       "4                       0                       0   \n",
       "\n",
       "   Account History_Average (known delays)  Account History_Good  \\\n",
       "0                                       0                     0   \n",
       "1                                       0                     0   \n",
       "2                                       0                     0   \n",
       "3                                       0                     0   \n",
       "4                                       0                     0   \n",
       "\n",
       "   Account History_critical  Reason for the Loan_Advance Edu/training  ...  \\\n",
       "0                         1                                         0  ...   \n",
       "1                         1                                         0  ...   \n",
       "2                         1                                         0  ...   \n",
       "3                         1                                         0  ...   \n",
       "4                         1                                         0  ...   \n",
       "\n",
       "   Security / Collateral_Vehicle  Residence Status_Free  \\\n",
       "0                              0                      0   \n",
       "1                              0                      0   \n",
       "2                              1                      0   \n",
       "3                              1                      0   \n",
       "4                              0                      0   \n",
       "\n",
       "   Residence Status_House Owner  Residence Status_Renting  Job_Not Employed  \\\n",
       "0                             1                         0                 0   \n",
       "1                             1                         0                 0   \n",
       "2                             1                         0                 0   \n",
       "3                             1                         0                 0   \n",
       "4                             0                         1                 0   \n",
       "\n",
       "   Job_Professional / Management  Job_Services  Job_Skilled Labor  \\\n",
       "0                              0             1                  0   \n",
       "1                              0             0                  1   \n",
       "2                              0             0                  1   \n",
       "3                              0             0                  1   \n",
       "4                              0             1                  0   \n",
       "\n",
       "   Completed Other loan?_No  Completed Other loan?_Yes  \n",
       "0                         1                          0  \n",
       "1                         1                          0  \n",
       "2                         1                          0  \n",
       "3                         0                          1  \n",
       "4                         1                          0  \n",
       "\n",
       "[5 rows x 48 columns]"
      ]
     },
     "execution_count": 136,
     "metadata": {},
     "output_type": "execute_result"
    }
   ],
   "source": [
    "X=encoded_df.drop('Good Loan',axis=1)\n",
    "\n",
    "X.head()"
   ]
  },
  {
   "cell_type": "code",
   "execution_count": 137,
   "metadata": {},
   "outputs": [
    {
     "data": {
      "text/plain": [
       "array([[2.1160e+03, 4.7000e+01, 1.0000e+00, ..., 0.0000e+00, 1.0000e+00,\n",
       "        0.0000e+00],\n",
       "       [2.4380e+03, 5.2000e+01, 1.0000e+00, ..., 1.0000e+00, 1.0000e+00,\n",
       "        0.0000e+00],\n",
       "       [2.1440e+03, 4.8000e+01, 1.0000e+00, ..., 1.0000e+00, 1.0000e+00,\n",
       "        0.0000e+00],\n",
       "       ...,\n",
       "       [1.2759e+04, 3.8000e+01, 0.0000e+00, ..., 0.0000e+00, 1.0000e+00,\n",
       "        0.0000e+00],\n",
       "       [2.5510e+03, 4.7000e+01, 0.0000e+00, ..., 0.0000e+00, 1.0000e+00,\n",
       "        0.0000e+00],\n",
       "       [1.5870e+03, 3.5000e+01, 0.0000e+00, ..., 0.0000e+00, 1.0000e+00,\n",
       "        0.0000e+00]])"
      ]
     },
     "execution_count": 137,
     "metadata": {},
     "output_type": "execute_result"
    }
   ],
   "source": [
    "X=encoded_df.drop('Good Loan',axis=1).values  #.values for getting vector\n",
    "X"
   ]
  },
  {
   "cell_type": "code",
   "execution_count": 138,
   "metadata": {},
   "outputs": [
    {
     "data": {
      "text/plain": [
       "0       0\n",
       "1       0\n",
       "2       0\n",
       "3       0\n",
       "4       0\n",
       "       ..\n",
       "999     0\n",
       "1000    0\n",
       "1001    1\n",
       "1002    0\n",
       "1003    1\n",
       "Name: Good Loan, Length: 1000, dtype: object"
      ]
     },
     "execution_count": 138,
     "metadata": {},
     "output_type": "execute_result"
    }
   ],
   "source": [
    "Y=encoded_df['Good Loan']\n",
    "\n",
    "Y"
   ]
  },
  {
   "cell_type": "code",
   "execution_count": 139,
   "metadata": {},
   "outputs": [
    {
     "data": {
      "text/plain": [
       "0       0\n",
       "1       0\n",
       "2       0\n",
       "3       0\n",
       "4       0\n",
       "       ..\n",
       "999     0\n",
       "1000    0\n",
       "1001    1\n",
       "1002    0\n",
       "1003    1\n",
       "Name: Good Loan, Length: 1000, dtype: int32"
      ]
     },
     "execution_count": 139,
     "metadata": {},
     "output_type": "execute_result"
    }
   ],
   "source": [
    "Y=Y.astype(int)\n",
    "Y"
   ]
  },
  {
   "cell_type": "code",
   "execution_count": 140,
   "metadata": {},
   "outputs": [
    {
     "name": "stdout",
     "output_type": "stream",
     "text": [
      "(1000, 48)\n",
      "(1000,)\n"
     ]
    }
   ],
   "source": [
    "print(X.shape)\n",
    "print(Y.shape)"
   ]
  },
  {
   "cell_type": "code",
   "execution_count": 141,
   "metadata": {},
   "outputs": [
    {
     "data": {
      "text/plain": [
       "DecisionTreeClassifier(criterion='entropy', max_depth=10, random_state=15)"
      ]
     },
     "execution_count": 141,
     "metadata": {},
     "output_type": "execute_result"
    }
   ],
   "source": [
    "model=DecisionTreeClassifier(random_state=15,criterion='entropy',max_depth=10)#max_depth to avoid overfitting\n",
    "model.fit(X,Y)"
   ]
  },
  {
   "cell_type": "code",
   "execution_count": 142,
   "metadata": {},
   "outputs": [
    {
     "name": "stdout",
     "output_type": "stream",
     "text": [
      "The feature importance for Loan Amount is: 0.12122079844891431\n",
      "The feature importance for Age is: 0.07962988068108864\n",
      "The feature importance for Type of Account_No Data is: 0.054236275712355064\n",
      "The feature importance for Type of Account_Type A is: 0.04973253970745607\n",
      "The feature importance for Type of Account_Type B is: 0.0\n",
      "The feature importance for Type of Account_Type C is: 0.026698167265803152\n",
      "The feature importance for Account History_Average (known delays) is: 0.0026219295620499047\n",
      "The feature importance for Account History_Good is: 0.19131616315491018\n",
      "The feature importance for Account History_critical is: 0.0\n",
      "The feature importance for Reason for the Loan_Advance Edu/training is: 0.0\n",
      "The feature importance for Reason for the Loan_All other is: 0.0\n",
      "The feature importance for Reason for the Loan_Buying a New Car is: 0.012188194319512301\n",
      "The feature importance for Reason for the Loan_Buying a Used Car is: 0.00657340597791024\n",
      "The feature importance for Reason for the Loan_Home Devices is: 0.0\n",
      "The feature importance for Reason for the Loan_Home furniture is: 0.008716899473459725\n",
      "The feature importance for Reason for the Loan_Learning / Edu purposes is: 0.003611560491022109\n",
      "The feature importance for Reason for the Loan_Renovation is: 0.006946349151564907\n",
      "The feature importance for Reason for the Loan_Support for Business is: 0.01635801155358825\n",
      "The feature importance for Reason for the Loan_TV is: 0.015757955343115845\n",
      "The feature importance for Account Savings_0-200 is: 0.19751528849263766\n",
      "The feature importance for Account Savings_1000+ is: 0.01551506616006231\n",
      "The feature importance for Account Savings_200-500 is: 0.008634890888709078\n",
      "The feature importance for Account Savings_500-1000 is: 0.004931404726964006\n",
      "The feature importance for Account Savings_No Data is: 0.01647069096901392\n",
      "The feature importance for Employment History_0-2 Years is: 0.009679739345509012\n",
      "The feature importance for Employment History_2-5 Years is: 0.0\n",
      "The feature importance for Employment History_5-7 Years is: 0.007035635401499409\n",
      "The feature importance for Employment History_7+ Years is: 0.003611560491022109\n",
      "The feature importance for Employment History_Unemployed is: 0.006148367056514396\n",
      "The feature importance for Individual Stauts_Divorced is: 0.006927416502805433\n",
      "The feature importance for Individual Stauts_Female is: 0.0026219295620499047\n",
      "The feature importance for Individual Stauts_Male is: 0.003611560491022109\n",
      "The feature importance for Individual Stauts_Married is: 0.00835833354230273\n",
      "The feature importance for Other Loans_No is: 0.0\n",
      "The feature importance for Other Loans_Yes is: 0.017520438348625947\n",
      "The feature importance for Security / Collateral_No Security is: 0.008508456390255208\n",
      "The feature importance for Security / Collateral_Property - Real Estate is: 0.015355303904048401\n",
      "The feature importance for Security / Collateral_Savings Account is: 0.0033875043654293295\n",
      "The feature importance for Security / Collateral_Vehicle is: 0.007223120982044218\n",
      "The feature importance for Residence Status_Free is: 0.005435636285478234\n",
      "The feature importance for Residence Status_House Owner is: 0.009936504848684522\n",
      "The feature importance for Residence Status_Renting is: 0.0022411020862534996\n",
      "The feature importance for Job_Not Employed is: 0.0\n",
      "The feature importance for Job_Professional / Management is: 0.004793497648004599\n",
      "The feature importance for Job_Services is: 0.010006237670772399\n",
      "The feature importance for Job_Skilled Labor is: 0.020596682287826136\n",
      "The feature importance for Completed Other loan?_No is: 0.004254228195127604\n",
      "The feature importance for Completed Other loan?_Yes is: 0.0040712725145872625\n"
     ]
    }
   ],
   "source": [
    "for i,column in enumerate(encoded_df.drop('Good Loan',axis=1)):\n",
    "   print('The feature importance for {} is: {}'.format(column, model.feature_importances_[i]))"
   ]
  },
  {
   "cell_type": "code",
   "execution_count": 143,
   "metadata": {},
   "outputs": [
    {
     "name": "stdout",
     "output_type": "stream",
     "text": [
      "The feature importance for Loan Amount is: 0.12122079844891431\n",
      "The feature importance for Age is: 0.07962988068108864\n",
      "The feature importance for Type of Account_No Data is: 0.054236275712355064\n",
      "The feature importance for Type of Account_Type A is: 0.04973253970745607\n",
      "The feature importance for Type of Account_Type B is: 0.0\n",
      "The feature importance for Type of Account_Type C is: 0.026698167265803152\n",
      "The feature importance for Account History_Average (known delays) is: 0.0026219295620499047\n",
      "The feature importance for Account History_Good is: 0.19131616315491018\n",
      "The feature importance for Account History_critical is: 0.0\n",
      "The feature importance for Reason for the Loan_Advance Edu/training is: 0.0\n",
      "The feature importance for Reason for the Loan_All other is: 0.0\n",
      "The feature importance for Reason for the Loan_Buying a New Car is: 0.012188194319512301\n",
      "The feature importance for Reason for the Loan_Buying a Used Car is: 0.00657340597791024\n",
      "The feature importance for Reason for the Loan_Home Devices is: 0.0\n",
      "The feature importance for Reason for the Loan_Home furniture is: 0.008716899473459725\n",
      "The feature importance for Reason for the Loan_Learning / Edu purposes is: 0.003611560491022109\n",
      "The feature importance for Reason for the Loan_Renovation is: 0.006946349151564907\n",
      "The feature importance for Reason for the Loan_Support for Business is: 0.01635801155358825\n",
      "The feature importance for Reason for the Loan_TV is: 0.015757955343115845\n",
      "The feature importance for Account Savings_0-200 is: 0.19751528849263766\n",
      "The feature importance for Account Savings_1000+ is: 0.01551506616006231\n",
      "The feature importance for Account Savings_200-500 is: 0.008634890888709078\n",
      "The feature importance for Account Savings_500-1000 is: 0.004931404726964006\n",
      "The feature importance for Account Savings_No Data is: 0.01647069096901392\n",
      "The feature importance for Employment History_0-2 Years is: 0.009679739345509012\n",
      "The feature importance for Employment History_2-5 Years is: 0.0\n",
      "The feature importance for Employment History_5-7 Years is: 0.007035635401499409\n",
      "The feature importance for Employment History_7+ Years is: 0.003611560491022109\n",
      "The feature importance for Employment History_Unemployed is: 0.006148367056514396\n",
      "The feature importance for Individual Stauts_Divorced is: 0.006927416502805433\n",
      "The feature importance for Individual Stauts_Female is: 0.0026219295620499047\n",
      "The feature importance for Individual Stauts_Male is: 0.003611560491022109\n",
      "The feature importance for Individual Stauts_Married is: 0.00835833354230273\n",
      "The feature importance for Other Loans_No is: 0.0\n",
      "The feature importance for Other Loans_Yes is: 0.017520438348625947\n",
      "The feature importance for Security / Collateral_No Security is: 0.008508456390255208\n",
      "The feature importance for Security / Collateral_Property - Real Estate is: 0.015355303904048401\n",
      "The feature importance for Security / Collateral_Savings Account is: 0.0033875043654293295\n",
      "The feature importance for Security / Collateral_Vehicle is: 0.007223120982044218\n",
      "The feature importance for Residence Status_Free is: 0.005435636285478234\n",
      "The feature importance for Residence Status_House Owner is: 0.009936504848684522\n",
      "The feature importance for Residence Status_Renting is: 0.0022411020862534996\n",
      "The feature importance for Job_Not Employed is: 0.0\n",
      "The feature importance for Job_Professional / Management is: 0.004793497648004599\n",
      "The feature importance for Job_Services is: 0.010006237670772399\n",
      "The feature importance for Job_Skilled Labor is: 0.020596682287826136\n",
      "The feature importance for Completed Other loan?_No is: 0.004254228195127604\n",
      "The feature importance for Completed Other loan?_Yes is: 0.0040712725145872625\n"
     ]
    }
   ],
   "source": [
    "# Displaying in Dataframe format with Column Name & its feature importance value\n",
    "column_Name=[] #Name of Feature\n",
    "fi_score=[] #Feature importance Score\n",
    "\n",
    "for i,column in enumerate(encoded_df.drop('Good Loan',axis=1)):\n",
    "    print('The feature importance for {} is: {}'.format(column, model.feature_importances_[i]))\n",
    "    \n",
    "    \n",
    "    column_Name.append(column)\n",
    "    fi_score.append(model.feature_importances_[i])\n",
    "   \n",
    "    \n",
    "\n"
   ]
  },
  {
   "cell_type": "code",
   "execution_count": 144,
   "metadata": {},
   "outputs": [
    {
     "data": {
      "text/html": [
       "<div>\n",
       "<style scoped>\n",
       "    .dataframe tbody tr th:only-of-type {\n",
       "        vertical-align: middle;\n",
       "    }\n",
       "\n",
       "    .dataframe tbody tr th {\n",
       "        vertical-align: top;\n",
       "    }\n",
       "\n",
       "    .dataframe thead th {\n",
       "        text-align: right;\n",
       "    }\n",
       "</style>\n",
       "<table border=\"1\" class=\"dataframe\">\n",
       "  <thead>\n",
       "    <tr style=\"text-align: right;\">\n",
       "      <th></th>\n",
       "      <th>Feature</th>\n",
       "      <th>fi_score</th>\n",
       "    </tr>\n",
       "  </thead>\n",
       "  <tbody>\n",
       "    <tr>\n",
       "      <th>0</th>\n",
       "      <td>Loan Amount</td>\n",
       "      <td>0.121221</td>\n",
       "    </tr>\n",
       "    <tr>\n",
       "      <th>1</th>\n",
       "      <td>Age</td>\n",
       "      <td>0.079630</td>\n",
       "    </tr>\n",
       "    <tr>\n",
       "      <th>2</th>\n",
       "      <td>Type of Account_No Data</td>\n",
       "      <td>0.054236</td>\n",
       "    </tr>\n",
       "    <tr>\n",
       "      <th>3</th>\n",
       "      <td>Type of Account_Type A</td>\n",
       "      <td>0.049733</td>\n",
       "    </tr>\n",
       "    <tr>\n",
       "      <th>4</th>\n",
       "      <td>Type of Account_Type B</td>\n",
       "      <td>0.000000</td>\n",
       "    </tr>\n",
       "    <tr>\n",
       "      <th>5</th>\n",
       "      <td>Type of Account_Type C</td>\n",
       "      <td>0.026698</td>\n",
       "    </tr>\n",
       "    <tr>\n",
       "      <th>6</th>\n",
       "      <td>Account History_Average (known delays)</td>\n",
       "      <td>0.002622</td>\n",
       "    </tr>\n",
       "    <tr>\n",
       "      <th>7</th>\n",
       "      <td>Account History_Good</td>\n",
       "      <td>0.191316</td>\n",
       "    </tr>\n",
       "    <tr>\n",
       "      <th>8</th>\n",
       "      <td>Account History_critical</td>\n",
       "      <td>0.000000</td>\n",
       "    </tr>\n",
       "    <tr>\n",
       "      <th>9</th>\n",
       "      <td>Reason for the Loan_Advance Edu/training</td>\n",
       "      <td>0.000000</td>\n",
       "    </tr>\n",
       "    <tr>\n",
       "      <th>10</th>\n",
       "      <td>Reason for the Loan_All other</td>\n",
       "      <td>0.000000</td>\n",
       "    </tr>\n",
       "    <tr>\n",
       "      <th>11</th>\n",
       "      <td>Reason for the Loan_Buying a New Car</td>\n",
       "      <td>0.012188</td>\n",
       "    </tr>\n",
       "    <tr>\n",
       "      <th>12</th>\n",
       "      <td>Reason for the Loan_Buying a Used Car</td>\n",
       "      <td>0.006573</td>\n",
       "    </tr>\n",
       "    <tr>\n",
       "      <th>13</th>\n",
       "      <td>Reason for the Loan_Home Devices</td>\n",
       "      <td>0.000000</td>\n",
       "    </tr>\n",
       "    <tr>\n",
       "      <th>14</th>\n",
       "      <td>Reason for the Loan_Home furniture</td>\n",
       "      <td>0.008717</td>\n",
       "    </tr>\n",
       "    <tr>\n",
       "      <th>15</th>\n",
       "      <td>Reason for the Loan_Learning / Edu purposes</td>\n",
       "      <td>0.003612</td>\n",
       "    </tr>\n",
       "    <tr>\n",
       "      <th>16</th>\n",
       "      <td>Reason for the Loan_Renovation</td>\n",
       "      <td>0.006946</td>\n",
       "    </tr>\n",
       "    <tr>\n",
       "      <th>17</th>\n",
       "      <td>Reason for the Loan_Support for Business</td>\n",
       "      <td>0.016358</td>\n",
       "    </tr>\n",
       "    <tr>\n",
       "      <th>18</th>\n",
       "      <td>Reason for the Loan_TV</td>\n",
       "      <td>0.015758</td>\n",
       "    </tr>\n",
       "    <tr>\n",
       "      <th>19</th>\n",
       "      <td>Account Savings_0-200</td>\n",
       "      <td>0.197515</td>\n",
       "    </tr>\n",
       "    <tr>\n",
       "      <th>20</th>\n",
       "      <td>Account Savings_1000+</td>\n",
       "      <td>0.015515</td>\n",
       "    </tr>\n",
       "    <tr>\n",
       "      <th>21</th>\n",
       "      <td>Account Savings_200-500</td>\n",
       "      <td>0.008635</td>\n",
       "    </tr>\n",
       "    <tr>\n",
       "      <th>22</th>\n",
       "      <td>Account Savings_500-1000</td>\n",
       "      <td>0.004931</td>\n",
       "    </tr>\n",
       "    <tr>\n",
       "      <th>23</th>\n",
       "      <td>Account Savings_No Data</td>\n",
       "      <td>0.016471</td>\n",
       "    </tr>\n",
       "    <tr>\n",
       "      <th>24</th>\n",
       "      <td>Employment History_0-2 Years</td>\n",
       "      <td>0.009680</td>\n",
       "    </tr>\n",
       "    <tr>\n",
       "      <th>25</th>\n",
       "      <td>Employment History_2-5 Years</td>\n",
       "      <td>0.000000</td>\n",
       "    </tr>\n",
       "    <tr>\n",
       "      <th>26</th>\n",
       "      <td>Employment History_5-7 Years</td>\n",
       "      <td>0.007036</td>\n",
       "    </tr>\n",
       "    <tr>\n",
       "      <th>27</th>\n",
       "      <td>Employment History_7+ Years</td>\n",
       "      <td>0.003612</td>\n",
       "    </tr>\n",
       "    <tr>\n",
       "      <th>28</th>\n",
       "      <td>Employment History_Unemployed</td>\n",
       "      <td>0.006148</td>\n",
       "    </tr>\n",
       "    <tr>\n",
       "      <th>29</th>\n",
       "      <td>Individual Stauts_Divorced</td>\n",
       "      <td>0.006927</td>\n",
       "    </tr>\n",
       "    <tr>\n",
       "      <th>30</th>\n",
       "      <td>Individual Stauts_Female</td>\n",
       "      <td>0.002622</td>\n",
       "    </tr>\n",
       "    <tr>\n",
       "      <th>31</th>\n",
       "      <td>Individual Stauts_Male</td>\n",
       "      <td>0.003612</td>\n",
       "    </tr>\n",
       "    <tr>\n",
       "      <th>32</th>\n",
       "      <td>Individual Stauts_Married</td>\n",
       "      <td>0.008358</td>\n",
       "    </tr>\n",
       "    <tr>\n",
       "      <th>33</th>\n",
       "      <td>Other Loans_No</td>\n",
       "      <td>0.000000</td>\n",
       "    </tr>\n",
       "    <tr>\n",
       "      <th>34</th>\n",
       "      <td>Other Loans_Yes</td>\n",
       "      <td>0.017520</td>\n",
       "    </tr>\n",
       "    <tr>\n",
       "      <th>35</th>\n",
       "      <td>Security / Collateral_No Security</td>\n",
       "      <td>0.008508</td>\n",
       "    </tr>\n",
       "    <tr>\n",
       "      <th>36</th>\n",
       "      <td>Security / Collateral_Property - Real Estate</td>\n",
       "      <td>0.015355</td>\n",
       "    </tr>\n",
       "    <tr>\n",
       "      <th>37</th>\n",
       "      <td>Security / Collateral_Savings Account</td>\n",
       "      <td>0.003388</td>\n",
       "    </tr>\n",
       "    <tr>\n",
       "      <th>38</th>\n",
       "      <td>Security / Collateral_Vehicle</td>\n",
       "      <td>0.007223</td>\n",
       "    </tr>\n",
       "    <tr>\n",
       "      <th>39</th>\n",
       "      <td>Residence Status_Free</td>\n",
       "      <td>0.005436</td>\n",
       "    </tr>\n",
       "    <tr>\n",
       "      <th>40</th>\n",
       "      <td>Residence Status_House Owner</td>\n",
       "      <td>0.009937</td>\n",
       "    </tr>\n",
       "    <tr>\n",
       "      <th>41</th>\n",
       "      <td>Residence Status_Renting</td>\n",
       "      <td>0.002241</td>\n",
       "    </tr>\n",
       "    <tr>\n",
       "      <th>42</th>\n",
       "      <td>Job_Not Employed</td>\n",
       "      <td>0.000000</td>\n",
       "    </tr>\n",
       "    <tr>\n",
       "      <th>43</th>\n",
       "      <td>Job_Professional / Management</td>\n",
       "      <td>0.004793</td>\n",
       "    </tr>\n",
       "    <tr>\n",
       "      <th>44</th>\n",
       "      <td>Job_Services</td>\n",
       "      <td>0.010006</td>\n",
       "    </tr>\n",
       "    <tr>\n",
       "      <th>45</th>\n",
       "      <td>Job_Skilled Labor</td>\n",
       "      <td>0.020597</td>\n",
       "    </tr>\n",
       "    <tr>\n",
       "      <th>46</th>\n",
       "      <td>Completed Other loan?_No</td>\n",
       "      <td>0.004254</td>\n",
       "    </tr>\n",
       "    <tr>\n",
       "      <th>47</th>\n",
       "      <td>Completed Other loan?_Yes</td>\n",
       "      <td>0.004071</td>\n",
       "    </tr>\n",
       "  </tbody>\n",
       "</table>\n",
       "</div>"
      ],
      "text/plain": [
       "                                         Feature  fi_score\n",
       "0                                    Loan Amount  0.121221\n",
       "1                                            Age  0.079630\n",
       "2                        Type of Account_No Data  0.054236\n",
       "3                         Type of Account_Type A  0.049733\n",
       "4                         Type of Account_Type B  0.000000\n",
       "5                         Type of Account_Type C  0.026698\n",
       "6         Account History_Average (known delays)  0.002622\n",
       "7                           Account History_Good  0.191316\n",
       "8                       Account History_critical  0.000000\n",
       "9       Reason for the Loan_Advance Edu/training  0.000000\n",
       "10                 Reason for the Loan_All other  0.000000\n",
       "11          Reason for the Loan_Buying a New Car  0.012188\n",
       "12         Reason for the Loan_Buying a Used Car  0.006573\n",
       "13              Reason for the Loan_Home Devices  0.000000\n",
       "14            Reason for the Loan_Home furniture  0.008717\n",
       "15   Reason for the Loan_Learning / Edu purposes  0.003612\n",
       "16                Reason for the Loan_Renovation  0.006946\n",
       "17      Reason for the Loan_Support for Business  0.016358\n",
       "18                        Reason for the Loan_TV  0.015758\n",
       "19                         Account Savings_0-200  0.197515\n",
       "20                         Account Savings_1000+  0.015515\n",
       "21                       Account Savings_200-500  0.008635\n",
       "22                      Account Savings_500-1000  0.004931\n",
       "23                       Account Savings_No Data  0.016471\n",
       "24                  Employment History_0-2 Years  0.009680\n",
       "25                  Employment History_2-5 Years  0.000000\n",
       "26                  Employment History_5-7 Years  0.007036\n",
       "27                   Employment History_7+ Years  0.003612\n",
       "28                 Employment History_Unemployed  0.006148\n",
       "29                    Individual Stauts_Divorced  0.006927\n",
       "30                      Individual Stauts_Female  0.002622\n",
       "31                        Individual Stauts_Male  0.003612\n",
       "32                     Individual Stauts_Married  0.008358\n",
       "33                                Other Loans_No  0.000000\n",
       "34                               Other Loans_Yes  0.017520\n",
       "35             Security / Collateral_No Security  0.008508\n",
       "36  Security / Collateral_Property - Real Estate  0.015355\n",
       "37         Security / Collateral_Savings Account  0.003388\n",
       "38                 Security / Collateral_Vehicle  0.007223\n",
       "39                         Residence Status_Free  0.005436\n",
       "40                  Residence Status_House Owner  0.009937\n",
       "41                      Residence Status_Renting  0.002241\n",
       "42                              Job_Not Employed  0.000000\n",
       "43                 Job_Professional / Management  0.004793\n",
       "44                                  Job_Services  0.010006\n",
       "45                             Job_Skilled Labor  0.020597\n",
       "46                      Completed Other loan?_No  0.004254\n",
       "47                     Completed Other loan?_Yes  0.004071"
      ]
     },
     "execution_count": 144,
     "metadata": {},
     "output_type": "execute_result"
    }
   ],
   "source": [
    "column_Name\n",
    "fi_score\n",
    "feature_importance_df=zip(column_Name,fi_score)\n",
    "feature_importance_df=pd.DataFrame(feature_importance_df,columns=['Feature','fi_score'])\n",
    "\n",
    "feature_importance_df\n",
    "\n"
   ]
  },
  {
   "cell_type": "code",
   "execution_count": 145,
   "metadata": {},
   "outputs": [
    {
     "data": {
      "text/html": [
       "<div>\n",
       "<style scoped>\n",
       "    .dataframe tbody tr th:only-of-type {\n",
       "        vertical-align: middle;\n",
       "    }\n",
       "\n",
       "    .dataframe tbody tr th {\n",
       "        vertical-align: top;\n",
       "    }\n",
       "\n",
       "    .dataframe thead th {\n",
       "        text-align: right;\n",
       "    }\n",
       "</style>\n",
       "<table border=\"1\" class=\"dataframe\">\n",
       "  <thead>\n",
       "    <tr style=\"text-align: right;\">\n",
       "      <th></th>\n",
       "      <th>index</th>\n",
       "      <th>Feature</th>\n",
       "      <th>fi_score</th>\n",
       "    </tr>\n",
       "  </thead>\n",
       "  <tbody>\n",
       "    <tr>\n",
       "      <th>0</th>\n",
       "      <td>19</td>\n",
       "      <td>Account Savings_0-200</td>\n",
       "      <td>0.197515</td>\n",
       "    </tr>\n",
       "    <tr>\n",
       "      <th>1</th>\n",
       "      <td>7</td>\n",
       "      <td>Account History_Good</td>\n",
       "      <td>0.191316</td>\n",
       "    </tr>\n",
       "    <tr>\n",
       "      <th>2</th>\n",
       "      <td>0</td>\n",
       "      <td>Loan Amount</td>\n",
       "      <td>0.121221</td>\n",
       "    </tr>\n",
       "    <tr>\n",
       "      <th>3</th>\n",
       "      <td>1</td>\n",
       "      <td>Age</td>\n",
       "      <td>0.079630</td>\n",
       "    </tr>\n",
       "    <tr>\n",
       "      <th>4</th>\n",
       "      <td>2</td>\n",
       "      <td>Type of Account_No Data</td>\n",
       "      <td>0.054236</td>\n",
       "    </tr>\n",
       "    <tr>\n",
       "      <th>5</th>\n",
       "      <td>3</td>\n",
       "      <td>Type of Account_Type A</td>\n",
       "      <td>0.049733</td>\n",
       "    </tr>\n",
       "    <tr>\n",
       "      <th>6</th>\n",
       "      <td>5</td>\n",
       "      <td>Type of Account_Type C</td>\n",
       "      <td>0.026698</td>\n",
       "    </tr>\n",
       "    <tr>\n",
       "      <th>7</th>\n",
       "      <td>45</td>\n",
       "      <td>Job_Skilled Labor</td>\n",
       "      <td>0.020597</td>\n",
       "    </tr>\n",
       "    <tr>\n",
       "      <th>8</th>\n",
       "      <td>34</td>\n",
       "      <td>Other Loans_Yes</td>\n",
       "      <td>0.017520</td>\n",
       "    </tr>\n",
       "    <tr>\n",
       "      <th>9</th>\n",
       "      <td>23</td>\n",
       "      <td>Account Savings_No Data</td>\n",
       "      <td>0.016471</td>\n",
       "    </tr>\n",
       "    <tr>\n",
       "      <th>10</th>\n",
       "      <td>17</td>\n",
       "      <td>Reason for the Loan_Support for Business</td>\n",
       "      <td>0.016358</td>\n",
       "    </tr>\n",
       "    <tr>\n",
       "      <th>11</th>\n",
       "      <td>18</td>\n",
       "      <td>Reason for the Loan_TV</td>\n",
       "      <td>0.015758</td>\n",
       "    </tr>\n",
       "    <tr>\n",
       "      <th>12</th>\n",
       "      <td>20</td>\n",
       "      <td>Account Savings_1000+</td>\n",
       "      <td>0.015515</td>\n",
       "    </tr>\n",
       "    <tr>\n",
       "      <th>13</th>\n",
       "      <td>36</td>\n",
       "      <td>Security / Collateral_Property - Real Estate</td>\n",
       "      <td>0.015355</td>\n",
       "    </tr>\n",
       "    <tr>\n",
       "      <th>14</th>\n",
       "      <td>11</td>\n",
       "      <td>Reason for the Loan_Buying a New Car</td>\n",
       "      <td>0.012188</td>\n",
       "    </tr>\n",
       "    <tr>\n",
       "      <th>15</th>\n",
       "      <td>44</td>\n",
       "      <td>Job_Services</td>\n",
       "      <td>0.010006</td>\n",
       "    </tr>\n",
       "    <tr>\n",
       "      <th>16</th>\n",
       "      <td>40</td>\n",
       "      <td>Residence Status_House Owner</td>\n",
       "      <td>0.009937</td>\n",
       "    </tr>\n",
       "    <tr>\n",
       "      <th>17</th>\n",
       "      <td>24</td>\n",
       "      <td>Employment History_0-2 Years</td>\n",
       "      <td>0.009680</td>\n",
       "    </tr>\n",
       "    <tr>\n",
       "      <th>18</th>\n",
       "      <td>14</td>\n",
       "      <td>Reason for the Loan_Home furniture</td>\n",
       "      <td>0.008717</td>\n",
       "    </tr>\n",
       "    <tr>\n",
       "      <th>19</th>\n",
       "      <td>21</td>\n",
       "      <td>Account Savings_200-500</td>\n",
       "      <td>0.008635</td>\n",
       "    </tr>\n",
       "    <tr>\n",
       "      <th>20</th>\n",
       "      <td>35</td>\n",
       "      <td>Security / Collateral_No Security</td>\n",
       "      <td>0.008508</td>\n",
       "    </tr>\n",
       "    <tr>\n",
       "      <th>21</th>\n",
       "      <td>32</td>\n",
       "      <td>Individual Stauts_Married</td>\n",
       "      <td>0.008358</td>\n",
       "    </tr>\n",
       "    <tr>\n",
       "      <th>22</th>\n",
       "      <td>38</td>\n",
       "      <td>Security / Collateral_Vehicle</td>\n",
       "      <td>0.007223</td>\n",
       "    </tr>\n",
       "    <tr>\n",
       "      <th>23</th>\n",
       "      <td>26</td>\n",
       "      <td>Employment History_5-7 Years</td>\n",
       "      <td>0.007036</td>\n",
       "    </tr>\n",
       "    <tr>\n",
       "      <th>24</th>\n",
       "      <td>16</td>\n",
       "      <td>Reason for the Loan_Renovation</td>\n",
       "      <td>0.006946</td>\n",
       "    </tr>\n",
       "    <tr>\n",
       "      <th>25</th>\n",
       "      <td>29</td>\n",
       "      <td>Individual Stauts_Divorced</td>\n",
       "      <td>0.006927</td>\n",
       "    </tr>\n",
       "    <tr>\n",
       "      <th>26</th>\n",
       "      <td>12</td>\n",
       "      <td>Reason for the Loan_Buying a Used Car</td>\n",
       "      <td>0.006573</td>\n",
       "    </tr>\n",
       "    <tr>\n",
       "      <th>27</th>\n",
       "      <td>28</td>\n",
       "      <td>Employment History_Unemployed</td>\n",
       "      <td>0.006148</td>\n",
       "    </tr>\n",
       "    <tr>\n",
       "      <th>28</th>\n",
       "      <td>39</td>\n",
       "      <td>Residence Status_Free</td>\n",
       "      <td>0.005436</td>\n",
       "    </tr>\n",
       "    <tr>\n",
       "      <th>29</th>\n",
       "      <td>22</td>\n",
       "      <td>Account Savings_500-1000</td>\n",
       "      <td>0.004931</td>\n",
       "    </tr>\n",
       "    <tr>\n",
       "      <th>30</th>\n",
       "      <td>43</td>\n",
       "      <td>Job_Professional / Management</td>\n",
       "      <td>0.004793</td>\n",
       "    </tr>\n",
       "    <tr>\n",
       "      <th>31</th>\n",
       "      <td>46</td>\n",
       "      <td>Completed Other loan?_No</td>\n",
       "      <td>0.004254</td>\n",
       "    </tr>\n",
       "    <tr>\n",
       "      <th>32</th>\n",
       "      <td>47</td>\n",
       "      <td>Completed Other loan?_Yes</td>\n",
       "      <td>0.004071</td>\n",
       "    </tr>\n",
       "    <tr>\n",
       "      <th>33</th>\n",
       "      <td>15</td>\n",
       "      <td>Reason for the Loan_Learning / Edu purposes</td>\n",
       "      <td>0.003612</td>\n",
       "    </tr>\n",
       "    <tr>\n",
       "      <th>34</th>\n",
       "      <td>31</td>\n",
       "      <td>Individual Stauts_Male</td>\n",
       "      <td>0.003612</td>\n",
       "    </tr>\n",
       "    <tr>\n",
       "      <th>35</th>\n",
       "      <td>27</td>\n",
       "      <td>Employment History_7+ Years</td>\n",
       "      <td>0.003612</td>\n",
       "    </tr>\n",
       "    <tr>\n",
       "      <th>36</th>\n",
       "      <td>37</td>\n",
       "      <td>Security / Collateral_Savings Account</td>\n",
       "      <td>0.003388</td>\n",
       "    </tr>\n",
       "    <tr>\n",
       "      <th>37</th>\n",
       "      <td>30</td>\n",
       "      <td>Individual Stauts_Female</td>\n",
       "      <td>0.002622</td>\n",
       "    </tr>\n",
       "    <tr>\n",
       "      <th>38</th>\n",
       "      <td>6</td>\n",
       "      <td>Account History_Average (known delays)</td>\n",
       "      <td>0.002622</td>\n",
       "    </tr>\n",
       "    <tr>\n",
       "      <th>39</th>\n",
       "      <td>41</td>\n",
       "      <td>Residence Status_Renting</td>\n",
       "      <td>0.002241</td>\n",
       "    </tr>\n",
       "    <tr>\n",
       "      <th>40</th>\n",
       "      <td>10</td>\n",
       "      <td>Reason for the Loan_All other</td>\n",
       "      <td>0.000000</td>\n",
       "    </tr>\n",
       "    <tr>\n",
       "      <th>41</th>\n",
       "      <td>9</td>\n",
       "      <td>Reason for the Loan_Advance Edu/training</td>\n",
       "      <td>0.000000</td>\n",
       "    </tr>\n",
       "    <tr>\n",
       "      <th>42</th>\n",
       "      <td>8</td>\n",
       "      <td>Account History_critical</td>\n",
       "      <td>0.000000</td>\n",
       "    </tr>\n",
       "    <tr>\n",
       "      <th>43</th>\n",
       "      <td>42</td>\n",
       "      <td>Job_Not Employed</td>\n",
       "      <td>0.000000</td>\n",
       "    </tr>\n",
       "    <tr>\n",
       "      <th>44</th>\n",
       "      <td>25</td>\n",
       "      <td>Employment History_2-5 Years</td>\n",
       "      <td>0.000000</td>\n",
       "    </tr>\n",
       "    <tr>\n",
       "      <th>45</th>\n",
       "      <td>4</td>\n",
       "      <td>Type of Account_Type B</td>\n",
       "      <td>0.000000</td>\n",
       "    </tr>\n",
       "    <tr>\n",
       "      <th>46</th>\n",
       "      <td>13</td>\n",
       "      <td>Reason for the Loan_Home Devices</td>\n",
       "      <td>0.000000</td>\n",
       "    </tr>\n",
       "    <tr>\n",
       "      <th>47</th>\n",
       "      <td>33</td>\n",
       "      <td>Other Loans_No</td>\n",
       "      <td>0.000000</td>\n",
       "    </tr>\n",
       "  </tbody>\n",
       "</table>\n",
       "</div>"
      ],
      "text/plain": [
       "    index                                       Feature  fi_score\n",
       "0      19                         Account Savings_0-200  0.197515\n",
       "1       7                          Account History_Good  0.191316\n",
       "2       0                                   Loan Amount  0.121221\n",
       "3       1                                           Age  0.079630\n",
       "4       2                       Type of Account_No Data  0.054236\n",
       "5       3                        Type of Account_Type A  0.049733\n",
       "6       5                        Type of Account_Type C  0.026698\n",
       "7      45                             Job_Skilled Labor  0.020597\n",
       "8      34                               Other Loans_Yes  0.017520\n",
       "9      23                       Account Savings_No Data  0.016471\n",
       "10     17      Reason for the Loan_Support for Business  0.016358\n",
       "11     18                        Reason for the Loan_TV  0.015758\n",
       "12     20                         Account Savings_1000+  0.015515\n",
       "13     36  Security / Collateral_Property - Real Estate  0.015355\n",
       "14     11          Reason for the Loan_Buying a New Car  0.012188\n",
       "15     44                                  Job_Services  0.010006\n",
       "16     40                  Residence Status_House Owner  0.009937\n",
       "17     24                  Employment History_0-2 Years  0.009680\n",
       "18     14            Reason for the Loan_Home furniture  0.008717\n",
       "19     21                       Account Savings_200-500  0.008635\n",
       "20     35             Security / Collateral_No Security  0.008508\n",
       "21     32                     Individual Stauts_Married  0.008358\n",
       "22     38                 Security / Collateral_Vehicle  0.007223\n",
       "23     26                  Employment History_5-7 Years  0.007036\n",
       "24     16                Reason for the Loan_Renovation  0.006946\n",
       "25     29                    Individual Stauts_Divorced  0.006927\n",
       "26     12         Reason for the Loan_Buying a Used Car  0.006573\n",
       "27     28                 Employment History_Unemployed  0.006148\n",
       "28     39                         Residence Status_Free  0.005436\n",
       "29     22                      Account Savings_500-1000  0.004931\n",
       "30     43                 Job_Professional / Management  0.004793\n",
       "31     46                      Completed Other loan?_No  0.004254\n",
       "32     47                     Completed Other loan?_Yes  0.004071\n",
       "33     15   Reason for the Loan_Learning / Edu purposes  0.003612\n",
       "34     31                        Individual Stauts_Male  0.003612\n",
       "35     27                   Employment History_7+ Years  0.003612\n",
       "36     37         Security / Collateral_Savings Account  0.003388\n",
       "37     30                      Individual Stauts_Female  0.002622\n",
       "38      6        Account History_Average (known delays)  0.002622\n",
       "39     41                      Residence Status_Renting  0.002241\n",
       "40     10                 Reason for the Loan_All other  0.000000\n",
       "41      9      Reason for the Loan_Advance Edu/training  0.000000\n",
       "42      8                      Account History_critical  0.000000\n",
       "43     42                              Job_Not Employed  0.000000\n",
       "44     25                  Employment History_2-5 Years  0.000000\n",
       "45      4                        Type of Account_Type B  0.000000\n",
       "46     13              Reason for the Loan_Home Devices  0.000000\n",
       "47     33                                Other Loans_No  0.000000"
      ]
     },
     "execution_count": 145,
     "metadata": {},
     "output_type": "execute_result"
    }
   ],
   "source": [
    "feature_importance_df=feature_importance_df.sort_values('fi_score',ascending=False).reset_index()\n",
    "feature_importance_df\n",
    "#displays new index and old indexs"
   ]
  },
  {
   "cell_type": "code",
   "execution_count": 146,
   "metadata": {},
   "outputs": [
    {
     "data": {
      "text/plain": [
       "0                            Account Savings_0-200\n",
       "1                             Account History_Good\n",
       "2                                      Loan Amount\n",
       "3                                              Age\n",
       "4                          Type of Account_No Data\n",
       "5                           Type of Account_Type A\n",
       "6                           Type of Account_Type C\n",
       "7                                Job_Skilled Labor\n",
       "8                                  Other Loans_Yes\n",
       "9                          Account Savings_No Data\n",
       "10        Reason for the Loan_Support for Business\n",
       "11                          Reason for the Loan_TV\n",
       "12                           Account Savings_1000+\n",
       "13    Security / Collateral_Property - Real Estate\n",
       "14            Reason for the Loan_Buying a New Car\n",
       "15                                    Job_Services\n",
       "16                    Residence Status_House Owner\n",
       "17                    Employment History_0-2 Years\n",
       "18              Reason for the Loan_Home furniture\n",
       "19                         Account Savings_200-500\n",
       "20               Security / Collateral_No Security\n",
       "21                       Individual Stauts_Married\n",
       "22                   Security / Collateral_Vehicle\n",
       "23                    Employment History_5-7 Years\n",
       "24                  Reason for the Loan_Renovation\n",
       "25                      Individual Stauts_Divorced\n",
       "26           Reason for the Loan_Buying a Used Car\n",
       "27                   Employment History_Unemployed\n",
       "28                           Residence Status_Free\n",
       "29                        Account Savings_500-1000\n",
       "30                   Job_Professional / Management\n",
       "31                        Completed Other loan?_No\n",
       "32                       Completed Other loan?_Yes\n",
       "33     Reason for the Loan_Learning / Edu purposes\n",
       "34                          Individual Stauts_Male\n",
       "35                     Employment History_7+ Years\n",
       "36           Security / Collateral_Savings Account\n",
       "37                        Individual Stauts_Female\n",
       "38          Account History_Average (known delays)\n",
       "39                        Residence Status_Renting\n",
       "Name: Feature, dtype: object"
      ]
     },
     "execution_count": 146,
     "metadata": {},
     "output_type": "execute_result"
    }
   ],
   "source": [
    "#upto index no 39 features are contributuing but after index no 39 features doenot contribute anything\n",
    "#selecting only important features based on index no\n",
    "selected_features=feature_importance_df['Feature'][0:40] #selcts 0 to 39\n",
    "selected_features"
   ]
  },
  {
   "cell_type": "code",
   "execution_count": 147,
   "metadata": {},
   "outputs": [],
   "source": [
    "#No need to standerding data while logistic Regression"
   ]
  },
  {
   "cell_type": "code",
   "execution_count": 148,
   "metadata": {},
   "outputs": [
    {
     "name": "stdout",
     "output_type": "stream",
     "text": [
      "(1000, 49)\n",
      "(1000, 40)\n"
     ]
    }
   ],
   "source": [
    "print(encoded_df.shape)\n",
    "print(encoded_df[selected_features].shape)"
   ]
  },
  {
   "cell_type": "code",
   "execution_count": 149,
   "metadata": {},
   "outputs": [
    {
     "data": {
      "text/html": [
       "<div>\n",
       "<style scoped>\n",
       "    .dataframe tbody tr th:only-of-type {\n",
       "        vertical-align: middle;\n",
       "    }\n",
       "\n",
       "    .dataframe tbody tr th {\n",
       "        vertical-align: top;\n",
       "    }\n",
       "\n",
       "    .dataframe thead th {\n",
       "        text-align: right;\n",
       "    }\n",
       "</style>\n",
       "<table border=\"1\" class=\"dataframe\">\n",
       "  <thead>\n",
       "    <tr style=\"text-align: right;\">\n",
       "      <th></th>\n",
       "      <th>Account Savings_0-200</th>\n",
       "      <th>Account History_Good</th>\n",
       "      <th>Loan Amount</th>\n",
       "      <th>Age</th>\n",
       "      <th>Type of Account_No Data</th>\n",
       "      <th>Type of Account_Type A</th>\n",
       "      <th>Type of Account_Type C</th>\n",
       "      <th>Job_Skilled Labor</th>\n",
       "      <th>Other Loans_Yes</th>\n",
       "      <th>Account Savings_No Data</th>\n",
       "      <th>...</th>\n",
       "      <th>Job_Professional / Management</th>\n",
       "      <th>Completed Other loan?_No</th>\n",
       "      <th>Completed Other loan?_Yes</th>\n",
       "      <th>Reason for the Loan_Learning / Edu purposes</th>\n",
       "      <th>Individual Stauts_Male</th>\n",
       "      <th>Employment History_7+ Years</th>\n",
       "      <th>Security / Collateral_Savings Account</th>\n",
       "      <th>Individual Stauts_Female</th>\n",
       "      <th>Account History_Average (known delays)</th>\n",
       "      <th>Residence Status_Renting</th>\n",
       "    </tr>\n",
       "  </thead>\n",
       "  <tbody>\n",
       "    <tr>\n",
       "      <th>0</th>\n",
       "      <td>1</td>\n",
       "      <td>0</td>\n",
       "      <td>2116.0</td>\n",
       "      <td>47.0</td>\n",
       "      <td>1</td>\n",
       "      <td>0</td>\n",
       "      <td>0</td>\n",
       "      <td>0</td>\n",
       "      <td>0</td>\n",
       "      <td>0</td>\n",
       "      <td>...</td>\n",
       "      <td>0</td>\n",
       "      <td>1</td>\n",
       "      <td>0</td>\n",
       "      <td>1</td>\n",
       "      <td>1</td>\n",
       "      <td>0</td>\n",
       "      <td>0</td>\n",
       "      <td>0</td>\n",
       "      <td>0</td>\n",
       "      <td>0</td>\n",
       "    </tr>\n",
       "    <tr>\n",
       "      <th>1</th>\n",
       "      <td>0</td>\n",
       "      <td>0</td>\n",
       "      <td>2438.0</td>\n",
       "      <td>52.0</td>\n",
       "      <td>1</td>\n",
       "      <td>0</td>\n",
       "      <td>0</td>\n",
       "      <td>1</td>\n",
       "      <td>0</td>\n",
       "      <td>1</td>\n",
       "      <td>...</td>\n",
       "      <td>0</td>\n",
       "      <td>1</td>\n",
       "      <td>0</td>\n",
       "      <td>0</td>\n",
       "      <td>1</td>\n",
       "      <td>1</td>\n",
       "      <td>1</td>\n",
       "      <td>0</td>\n",
       "      <td>0</td>\n",
       "      <td>0</td>\n",
       "    </tr>\n",
       "    <tr>\n",
       "      <th>2</th>\n",
       "      <td>1</td>\n",
       "      <td>0</td>\n",
       "      <td>2144.0</td>\n",
       "      <td>48.0</td>\n",
       "      <td>1</td>\n",
       "      <td>0</td>\n",
       "      <td>0</td>\n",
       "      <td>1</td>\n",
       "      <td>0</td>\n",
       "      <td>0</td>\n",
       "      <td>...</td>\n",
       "      <td>0</td>\n",
       "      <td>1</td>\n",
       "      <td>0</td>\n",
       "      <td>0</td>\n",
       "      <td>1</td>\n",
       "      <td>0</td>\n",
       "      <td>0</td>\n",
       "      <td>0</td>\n",
       "      <td>0</td>\n",
       "      <td>0</td>\n",
       "    </tr>\n",
       "    <tr>\n",
       "      <th>3</th>\n",
       "      <td>0</td>\n",
       "      <td>0</td>\n",
       "      <td>2073.0</td>\n",
       "      <td>25.0</td>\n",
       "      <td>1</td>\n",
       "      <td>0</td>\n",
       "      <td>0</td>\n",
       "      <td>1</td>\n",
       "      <td>0</td>\n",
       "      <td>1</td>\n",
       "      <td>...</td>\n",
       "      <td>0</td>\n",
       "      <td>0</td>\n",
       "      <td>1</td>\n",
       "      <td>0</td>\n",
       "      <td>0</td>\n",
       "      <td>0</td>\n",
       "      <td>0</td>\n",
       "      <td>0</td>\n",
       "      <td>0</td>\n",
       "      <td>0</td>\n",
       "    </tr>\n",
       "    <tr>\n",
       "      <th>4</th>\n",
       "      <td>0</td>\n",
       "      <td>0</td>\n",
       "      <td>1276.0</td>\n",
       "      <td>59.0</td>\n",
       "      <td>1</td>\n",
       "      <td>0</td>\n",
       "      <td>0</td>\n",
       "      <td>0</td>\n",
       "      <td>0</td>\n",
       "      <td>1</td>\n",
       "      <td>...</td>\n",
       "      <td>0</td>\n",
       "      <td>1</td>\n",
       "      <td>0</td>\n",
       "      <td>0</td>\n",
       "      <td>1</td>\n",
       "      <td>1</td>\n",
       "      <td>0</td>\n",
       "      <td>0</td>\n",
       "      <td>0</td>\n",
       "      <td>1</td>\n",
       "    </tr>\n",
       "    <tr>\n",
       "      <th>...</th>\n",
       "      <td>...</td>\n",
       "      <td>...</td>\n",
       "      <td>...</td>\n",
       "      <td>...</td>\n",
       "      <td>...</td>\n",
       "      <td>...</td>\n",
       "      <td>...</td>\n",
       "      <td>...</td>\n",
       "      <td>...</td>\n",
       "      <td>...</td>\n",
       "      <td>...</td>\n",
       "      <td>...</td>\n",
       "      <td>...</td>\n",
       "      <td>...</td>\n",
       "      <td>...</td>\n",
       "      <td>...</td>\n",
       "      <td>...</td>\n",
       "      <td>...</td>\n",
       "      <td>...</td>\n",
       "      <td>...</td>\n",
       "      <td>...</td>\n",
       "    </tr>\n",
       "    <tr>\n",
       "      <th>999</th>\n",
       "      <td>1</td>\n",
       "      <td>0</td>\n",
       "      <td>3602.0</td>\n",
       "      <td>47.0</td>\n",
       "      <td>0</td>\n",
       "      <td>0</td>\n",
       "      <td>1</td>\n",
       "      <td>0</td>\n",
       "      <td>0</td>\n",
       "      <td>0</td>\n",
       "      <td>...</td>\n",
       "      <td>0</td>\n",
       "      <td>1</td>\n",
       "      <td>0</td>\n",
       "      <td>0</td>\n",
       "      <td>0</td>\n",
       "      <td>0</td>\n",
       "      <td>1</td>\n",
       "      <td>1</td>\n",
       "      <td>1</td>\n",
       "      <td>0</td>\n",
       "    </tr>\n",
       "    <tr>\n",
       "      <th>1000</th>\n",
       "      <td>1</td>\n",
       "      <td>0</td>\n",
       "      <td>4473.0</td>\n",
       "      <td>35.0</td>\n",
       "      <td>0</td>\n",
       "      <td>0</td>\n",
       "      <td>1</td>\n",
       "      <td>1</td>\n",
       "      <td>0</td>\n",
       "      <td>0</td>\n",
       "      <td>...</td>\n",
       "      <td>0</td>\n",
       "      <td>1</td>\n",
       "      <td>0</td>\n",
       "      <td>0</td>\n",
       "      <td>0</td>\n",
       "      <td>0</td>\n",
       "      <td>0</td>\n",
       "      <td>1</td>\n",
       "      <td>1</td>\n",
       "      <td>0</td>\n",
       "    </tr>\n",
       "    <tr>\n",
       "      <th>1001</th>\n",
       "      <td>0</td>\n",
       "      <td>0</td>\n",
       "      <td>12759.0</td>\n",
       "      <td>38.0</td>\n",
       "      <td>0</td>\n",
       "      <td>0</td>\n",
       "      <td>1</td>\n",
       "      <td>0</td>\n",
       "      <td>0</td>\n",
       "      <td>0</td>\n",
       "      <td>...</td>\n",
       "      <td>1</td>\n",
       "      <td>1</td>\n",
       "      <td>0</td>\n",
       "      <td>0</td>\n",
       "      <td>1</td>\n",
       "      <td>0</td>\n",
       "      <td>0</td>\n",
       "      <td>0</td>\n",
       "      <td>1</td>\n",
       "      <td>0</td>\n",
       "    </tr>\n",
       "    <tr>\n",
       "      <th>1002</th>\n",
       "      <td>1</td>\n",
       "      <td>0</td>\n",
       "      <td>2551.0</td>\n",
       "      <td>47.0</td>\n",
       "      <td>0</td>\n",
       "      <td>0</td>\n",
       "      <td>1</td>\n",
       "      <td>0</td>\n",
       "      <td>0</td>\n",
       "      <td>0</td>\n",
       "      <td>...</td>\n",
       "      <td>0</td>\n",
       "      <td>1</td>\n",
       "      <td>0</td>\n",
       "      <td>0</td>\n",
       "      <td>1</td>\n",
       "      <td>1</td>\n",
       "      <td>0</td>\n",
       "      <td>0</td>\n",
       "      <td>1</td>\n",
       "      <td>0</td>\n",
       "    </tr>\n",
       "    <tr>\n",
       "      <th>1003</th>\n",
       "      <td>0</td>\n",
       "      <td>0</td>\n",
       "      <td>1587.0</td>\n",
       "      <td>35.0</td>\n",
       "      <td>0</td>\n",
       "      <td>0</td>\n",
       "      <td>1</td>\n",
       "      <td>0</td>\n",
       "      <td>0</td>\n",
       "      <td>0</td>\n",
       "      <td>...</td>\n",
       "      <td>0</td>\n",
       "      <td>1</td>\n",
       "      <td>0</td>\n",
       "      <td>0</td>\n",
       "      <td>1</td>\n",
       "      <td>1</td>\n",
       "      <td>0</td>\n",
       "      <td>0</td>\n",
       "      <td>1</td>\n",
       "      <td>0</td>\n",
       "    </tr>\n",
       "  </tbody>\n",
       "</table>\n",
       "<p>1000 rows × 40 columns</p>\n",
       "</div>"
      ],
      "text/plain": [
       "      Account Savings_0-200  Account History_Good  Loan Amount   Age  \\\n",
       "0                         1                     0       2116.0  47.0   \n",
       "1                         0                     0       2438.0  52.0   \n",
       "2                         1                     0       2144.0  48.0   \n",
       "3                         0                     0       2073.0  25.0   \n",
       "4                         0                     0       1276.0  59.0   \n",
       "...                     ...                   ...          ...   ...   \n",
       "999                       1                     0       3602.0  47.0   \n",
       "1000                      1                     0       4473.0  35.0   \n",
       "1001                      0                     0      12759.0  38.0   \n",
       "1002                      1                     0       2551.0  47.0   \n",
       "1003                      0                     0       1587.0  35.0   \n",
       "\n",
       "      Type of Account_No Data  Type of Account_Type A  Type of Account_Type C  \\\n",
       "0                           1                       0                       0   \n",
       "1                           1                       0                       0   \n",
       "2                           1                       0                       0   \n",
       "3                           1                       0                       0   \n",
       "4                           1                       0                       0   \n",
       "...                       ...                     ...                     ...   \n",
       "999                         0                       0                       1   \n",
       "1000                        0                       0                       1   \n",
       "1001                        0                       0                       1   \n",
       "1002                        0                       0                       1   \n",
       "1003                        0                       0                       1   \n",
       "\n",
       "      Job_Skilled Labor  Other Loans_Yes  Account Savings_No Data  ...  \\\n",
       "0                     0                0                        0  ...   \n",
       "1                     1                0                        1  ...   \n",
       "2                     1                0                        0  ...   \n",
       "3                     1                0                        1  ...   \n",
       "4                     0                0                        1  ...   \n",
       "...                 ...              ...                      ...  ...   \n",
       "999                   0                0                        0  ...   \n",
       "1000                  1                0                        0  ...   \n",
       "1001                  0                0                        0  ...   \n",
       "1002                  0                0                        0  ...   \n",
       "1003                  0                0                        0  ...   \n",
       "\n",
       "      Job_Professional / Management  Completed Other loan?_No  \\\n",
       "0                                 0                         1   \n",
       "1                                 0                         1   \n",
       "2                                 0                         1   \n",
       "3                                 0                         0   \n",
       "4                                 0                         1   \n",
       "...                             ...                       ...   \n",
       "999                               0                         1   \n",
       "1000                              0                         1   \n",
       "1001                              1                         1   \n",
       "1002                              0                         1   \n",
       "1003                              0                         1   \n",
       "\n",
       "      Completed Other loan?_Yes  Reason for the Loan_Learning / Edu purposes  \\\n",
       "0                             0                                            1   \n",
       "1                             0                                            0   \n",
       "2                             0                                            0   \n",
       "3                             1                                            0   \n",
       "4                             0                                            0   \n",
       "...                         ...                                          ...   \n",
       "999                           0                                            0   \n",
       "1000                          0                                            0   \n",
       "1001                          0                                            0   \n",
       "1002                          0                                            0   \n",
       "1003                          0                                            0   \n",
       "\n",
       "      Individual Stauts_Male  Employment History_7+ Years  \\\n",
       "0                          1                            0   \n",
       "1                          1                            1   \n",
       "2                          1                            0   \n",
       "3                          0                            0   \n",
       "4                          1                            1   \n",
       "...                      ...                          ...   \n",
       "999                        0                            0   \n",
       "1000                       0                            0   \n",
       "1001                       1                            0   \n",
       "1002                       1                            1   \n",
       "1003                       1                            1   \n",
       "\n",
       "      Security / Collateral_Savings Account  Individual Stauts_Female  \\\n",
       "0                                         0                         0   \n",
       "1                                         1                         0   \n",
       "2                                         0                         0   \n",
       "3                                         0                         0   \n",
       "4                                         0                         0   \n",
       "...                                     ...                       ...   \n",
       "999                                       1                         1   \n",
       "1000                                      0                         1   \n",
       "1001                                      0                         0   \n",
       "1002                                      0                         0   \n",
       "1003                                      0                         0   \n",
       "\n",
       "      Account History_Average (known delays)  Residence Status_Renting  \n",
       "0                                          0                         0  \n",
       "1                                          0                         0  \n",
       "2                                          0                         0  \n",
       "3                                          0                         0  \n",
       "4                                          0                         1  \n",
       "...                                      ...                       ...  \n",
       "999                                        1                         0  \n",
       "1000                                       1                         0  \n",
       "1001                                       1                         0  \n",
       "1002                                       1                         0  \n",
       "1003                                       1                         0  \n",
       "\n",
       "[1000 rows x 40 columns]"
      ]
     },
     "execution_count": 149,
     "metadata": {},
     "output_type": "execute_result"
    }
   ],
   "source": [
    "#Making two X and Y Dataframes\n",
    "X=encoded_df[selected_features]\n",
    "\n",
    "X"
   ]
  },
  {
   "cell_type": "code",
   "execution_count": 150,
   "metadata": {},
   "outputs": [
    {
     "data": {
      "text/plain": [
       "array([[1.0000e+00, 0.0000e+00, 2.1160e+03, ..., 0.0000e+00, 0.0000e+00,\n",
       "        0.0000e+00],\n",
       "       [0.0000e+00, 0.0000e+00, 2.4380e+03, ..., 0.0000e+00, 0.0000e+00,\n",
       "        0.0000e+00],\n",
       "       [1.0000e+00, 0.0000e+00, 2.1440e+03, ..., 0.0000e+00, 0.0000e+00,\n",
       "        0.0000e+00],\n",
       "       ...,\n",
       "       [0.0000e+00, 0.0000e+00, 1.2759e+04, ..., 0.0000e+00, 1.0000e+00,\n",
       "        0.0000e+00],\n",
       "       [1.0000e+00, 0.0000e+00, 2.5510e+03, ..., 0.0000e+00, 1.0000e+00,\n",
       "        0.0000e+00],\n",
       "       [0.0000e+00, 0.0000e+00, 1.5870e+03, ..., 0.0000e+00, 1.0000e+00,\n",
       "        0.0000e+00]])"
      ]
     },
     "execution_count": 150,
     "metadata": {},
     "output_type": "execute_result"
    }
   ],
   "source": [
    "#Converting into Numpy Arrays i.e into integer values\n",
    "X=encoded_df[selected_features].values\n",
    "X"
   ]
  },
  {
   "cell_type": "code",
   "execution_count": 151,
   "metadata": {},
   "outputs": [
    {
     "data": {
      "text/html": [
       "<div>\n",
       "<style scoped>\n",
       "    .dataframe tbody tr th:only-of-type {\n",
       "        vertical-align: middle;\n",
       "    }\n",
       "\n",
       "    .dataframe tbody tr th {\n",
       "        vertical-align: top;\n",
       "    }\n",
       "\n",
       "    .dataframe thead th {\n",
       "        text-align: right;\n",
       "    }\n",
       "</style>\n",
       "<table border=\"1\" class=\"dataframe\">\n",
       "  <thead>\n",
       "    <tr style=\"text-align: right;\">\n",
       "      <th></th>\n",
       "      <th>Loan Amount</th>\n",
       "      <th>Age</th>\n",
       "      <th>Good Loan</th>\n",
       "      <th>Type of Account_No Data</th>\n",
       "      <th>Type of Account_Type A</th>\n",
       "      <th>Type of Account_Type B</th>\n",
       "      <th>Type of Account_Type C</th>\n",
       "      <th>Account History_Average (known delays)</th>\n",
       "      <th>Account History_Good</th>\n",
       "      <th>Account History_critical</th>\n",
       "      <th>...</th>\n",
       "      <th>Security / Collateral_Vehicle</th>\n",
       "      <th>Residence Status_Free</th>\n",
       "      <th>Residence Status_House Owner</th>\n",
       "      <th>Residence Status_Renting</th>\n",
       "      <th>Job_Not Employed</th>\n",
       "      <th>Job_Professional / Management</th>\n",
       "      <th>Job_Services</th>\n",
       "      <th>Job_Skilled Labor</th>\n",
       "      <th>Completed Other loan?_No</th>\n",
       "      <th>Completed Other loan?_Yes</th>\n",
       "    </tr>\n",
       "  </thead>\n",
       "  <tbody>\n",
       "    <tr>\n",
       "      <th>0</th>\n",
       "      <td>2116.0</td>\n",
       "      <td>47.0</td>\n",
       "      <td>0</td>\n",
       "      <td>1</td>\n",
       "      <td>0</td>\n",
       "      <td>0</td>\n",
       "      <td>0</td>\n",
       "      <td>0</td>\n",
       "      <td>0</td>\n",
       "      <td>1</td>\n",
       "      <td>...</td>\n",
       "      <td>0</td>\n",
       "      <td>0</td>\n",
       "      <td>1</td>\n",
       "      <td>0</td>\n",
       "      <td>0</td>\n",
       "      <td>0</td>\n",
       "      <td>1</td>\n",
       "      <td>0</td>\n",
       "      <td>1</td>\n",
       "      <td>0</td>\n",
       "    </tr>\n",
       "    <tr>\n",
       "      <th>1</th>\n",
       "      <td>2438.0</td>\n",
       "      <td>52.0</td>\n",
       "      <td>0</td>\n",
       "      <td>1</td>\n",
       "      <td>0</td>\n",
       "      <td>0</td>\n",
       "      <td>0</td>\n",
       "      <td>0</td>\n",
       "      <td>0</td>\n",
       "      <td>1</td>\n",
       "      <td>...</td>\n",
       "      <td>0</td>\n",
       "      <td>0</td>\n",
       "      <td>1</td>\n",
       "      <td>0</td>\n",
       "      <td>0</td>\n",
       "      <td>0</td>\n",
       "      <td>0</td>\n",
       "      <td>1</td>\n",
       "      <td>1</td>\n",
       "      <td>0</td>\n",
       "    </tr>\n",
       "    <tr>\n",
       "      <th>2</th>\n",
       "      <td>2144.0</td>\n",
       "      <td>48.0</td>\n",
       "      <td>0</td>\n",
       "      <td>1</td>\n",
       "      <td>0</td>\n",
       "      <td>0</td>\n",
       "      <td>0</td>\n",
       "      <td>0</td>\n",
       "      <td>0</td>\n",
       "      <td>1</td>\n",
       "      <td>...</td>\n",
       "      <td>1</td>\n",
       "      <td>0</td>\n",
       "      <td>1</td>\n",
       "      <td>0</td>\n",
       "      <td>0</td>\n",
       "      <td>0</td>\n",
       "      <td>0</td>\n",
       "      <td>1</td>\n",
       "      <td>1</td>\n",
       "      <td>0</td>\n",
       "    </tr>\n",
       "    <tr>\n",
       "      <th>3</th>\n",
       "      <td>2073.0</td>\n",
       "      <td>25.0</td>\n",
       "      <td>0</td>\n",
       "      <td>1</td>\n",
       "      <td>0</td>\n",
       "      <td>0</td>\n",
       "      <td>0</td>\n",
       "      <td>0</td>\n",
       "      <td>0</td>\n",
       "      <td>1</td>\n",
       "      <td>...</td>\n",
       "      <td>1</td>\n",
       "      <td>0</td>\n",
       "      <td>1</td>\n",
       "      <td>0</td>\n",
       "      <td>0</td>\n",
       "      <td>0</td>\n",
       "      <td>0</td>\n",
       "      <td>1</td>\n",
       "      <td>0</td>\n",
       "      <td>1</td>\n",
       "    </tr>\n",
       "    <tr>\n",
       "      <th>4</th>\n",
       "      <td>1276.0</td>\n",
       "      <td>59.0</td>\n",
       "      <td>0</td>\n",
       "      <td>1</td>\n",
       "      <td>0</td>\n",
       "      <td>0</td>\n",
       "      <td>0</td>\n",
       "      <td>0</td>\n",
       "      <td>0</td>\n",
       "      <td>1</td>\n",
       "      <td>...</td>\n",
       "      <td>0</td>\n",
       "      <td>0</td>\n",
       "      <td>0</td>\n",
       "      <td>1</td>\n",
       "      <td>0</td>\n",
       "      <td>0</td>\n",
       "      <td>1</td>\n",
       "      <td>0</td>\n",
       "      <td>1</td>\n",
       "      <td>0</td>\n",
       "    </tr>\n",
       "  </tbody>\n",
       "</table>\n",
       "<p>5 rows × 49 columns</p>\n",
       "</div>"
      ],
      "text/plain": [
       "   Loan Amount   Age Good Loan  Type of Account_No Data  \\\n",
       "0       2116.0  47.0         0                        1   \n",
       "1       2438.0  52.0         0                        1   \n",
       "2       2144.0  48.0         0                        1   \n",
       "3       2073.0  25.0         0                        1   \n",
       "4       1276.0  59.0         0                        1   \n",
       "\n",
       "   Type of Account_Type A  Type of Account_Type B  Type of Account_Type C  \\\n",
       "0                       0                       0                       0   \n",
       "1                       0                       0                       0   \n",
       "2                       0                       0                       0   \n",
       "3                       0                       0                       0   \n",
       "4                       0                       0                       0   \n",
       "\n",
       "   Account History_Average (known delays)  Account History_Good  \\\n",
       "0                                       0                     0   \n",
       "1                                       0                     0   \n",
       "2                                       0                     0   \n",
       "3                                       0                     0   \n",
       "4                                       0                     0   \n",
       "\n",
       "   Account History_critical  ...  Security / Collateral_Vehicle  \\\n",
       "0                         1  ...                              0   \n",
       "1                         1  ...                              0   \n",
       "2                         1  ...                              1   \n",
       "3                         1  ...                              1   \n",
       "4                         1  ...                              0   \n",
       "\n",
       "   Residence Status_Free  Residence Status_House Owner  \\\n",
       "0                      0                             1   \n",
       "1                      0                             1   \n",
       "2                      0                             1   \n",
       "3                      0                             1   \n",
       "4                      0                             0   \n",
       "\n",
       "   Residence Status_Renting  Job_Not Employed  Job_Professional / Management  \\\n",
       "0                         0                 0                              0   \n",
       "1                         0                 0                              0   \n",
       "2                         0                 0                              0   \n",
       "3                         0                 0                              0   \n",
       "4                         1                 0                              0   \n",
       "\n",
       "   Job_Services  Job_Skilled Labor  Completed Other loan?_No  \\\n",
       "0             1                  0                         1   \n",
       "1             0                  1                         1   \n",
       "2             0                  1                         1   \n",
       "3             0                  1                         0   \n",
       "4             1                  0                         1   \n",
       "\n",
       "   Completed Other loan?_Yes  \n",
       "0                          0  \n",
       "1                          0  \n",
       "2                          0  \n",
       "3                          1  \n",
       "4                          0  \n",
       "\n",
       "[5 rows x 49 columns]"
      ]
     },
     "execution_count": 151,
     "metadata": {},
     "output_type": "execute_result"
    }
   ],
   "source": [
    "encoded_df.head()"
   ]
  },
  {
   "cell_type": "code",
   "execution_count": 152,
   "metadata": {},
   "outputs": [
    {
     "data": {
      "text/plain": [
       "0    0\n",
       "1    0\n",
       "2    0\n",
       "3    0\n",
       "4    0\n",
       "Name: Good Loan, dtype: object"
      ]
     },
     "execution_count": 152,
     "metadata": {},
     "output_type": "execute_result"
    }
   ],
   "source": [
    "Y=encoded_df['Good Loan']\n",
    "Y.head()"
   ]
  },
  {
   "cell_type": "code",
   "execution_count": 153,
   "metadata": {},
   "outputs": [
    {
     "data": {
      "text/plain": [
       "0    0\n",
       "1    0\n",
       "2    0\n",
       "3    0\n",
       "4    0\n",
       "Name: Good Loan, dtype: int32"
      ]
     },
     "execution_count": 153,
     "metadata": {},
     "output_type": "execute_result"
    }
   ],
   "source": [
    "# Changing Object dtype to Int\n",
    "Y=Y.astype(int)\n",
    "Y.head()"
   ]
  },
  {
   "cell_type": "code",
   "execution_count": 154,
   "metadata": {},
   "outputs": [
    {
     "name": "stdout",
     "output_type": "stream",
     "text": [
      "(1000, 40)\n",
      "(1000,)\n"
     ]
    }
   ],
   "source": [
    "print(X.shape)\n",
    "print(Y.shape)"
   ]
  },
  {
   "cell_type": "code",
   "execution_count": 155,
   "metadata": {},
   "outputs": [],
   "source": [
    "#Splitting X & Y dataframes into Training & Testing Dataframes 4 subsets\n",
    "#For Trainging before hyperparameter tunning\n",
    "x_train, x_test, y_train, y_test = train_test_split(X, Y, test_size=0.2,random_state=15)\n",
    "#For After hyperparameter Tunning ,Total Unseen Data\n",
    "x_train, x_validate, y_train, y_validate = train_test_split(x_train,y_train, test_size=0.1,random_state=15)"
   ]
  },
  {
   "cell_type": "code",
   "execution_count": 156,
   "metadata": {},
   "outputs": [
    {
     "name": "stdout",
     "output_type": "stream",
     "text": [
      "(720, 40)\n",
      "(200, 40)\n",
      "(80, 40)\n",
      "(720,)\n",
      "(200,)\n",
      "(80,)\n"
     ]
    }
   ],
   "source": [
    "print(x_train.shape)\n",
    "print(x_test.shape)\n",
    "print(x_validate.shape)\n",
    "\n",
    "print(y_train.shape)\n",
    "print(y_test.shape)\n",
    "print(y_validate.shape)\n"
   ]
  },
  {
   "cell_type": "code",
   "execution_count": 157,
   "metadata": {},
   "outputs": [
    {
     "data": {
      "image/png": "[encoded data removed]",
      "text/plain": [
       "<Figure size 432x288 with 1 Axes>"
      ]
     },
     "metadata": {
      "needs_background": "light"
     },
     "output_type": "display_data"
    }
   ],
   "source": [
    "#Checking Distribution Of Y\n",
    "ax=sns.countplot(x=y_train)"
   ]
  },
  {
   "cell_type": "code",
   "execution_count": 158,
   "metadata": {},
   "outputs": [
    {
     "data": {
      "image/png": "[encoded data removed]",
      "text/plain": [
       "<Figure size 432x288 with 1 Axes>"
      ]
     },
     "metadata": {
      "needs_background": "light"
     },
     "output_type": "display_data"
    }
   ],
   "source": [
    "ax=sns.countplot(x=y_test)"
   ]
  },
  {
   "cell_type": "code",
   "execution_count": 159,
   "metadata": {},
   "outputs": [
    {
     "data": {
      "image/png": "[encoded data removed]",
      "text/plain": [
       "<Figure size 432x288 with 1 Axes>"
      ]
     },
     "metadata": {
      "needs_background": "light"
     },
     "output_type": "display_data"
    }
   ],
   "source": [
    "ax=sns.countplot(x=y_validate)"
   ]
  },
  {
   "cell_type": "code",
   "execution_count": 160,
   "metadata": {},
   "outputs": [],
   "source": [
    "# All y-train.y_test and y_validate distributions are OK"
   ]
  },
  {
   "cell_type": "code",
   "execution_count": 161,
   "metadata": {},
   "outputs": [],
   "source": [
    "#Logistic Regression is used for Binary prediction Not for Contineous value prediction \n",
    "#instead of linear regresiion we use logistic regression for good fit of data"
   ]
  },
  {
   "cell_type": "code",
   "execution_count": 162,
   "metadata": {},
   "outputs": [
    {
     "data": {
      "text/plain": [
       "LogisticRegression(random_state=10)"
      ]
     },
     "execution_count": 162,
     "metadata": {},
     "output_type": "execute_result"
    }
   ],
   "source": [
    "#Checking default Parameters of logistic Regression\n",
    "from sklearn.linear_model import LogisticRegression\n",
    "model=LogisticRegression(random_state=10,solver='lbfgs')\n",
    "model.fit(x_train,y_train)"
   ]
  },
  {
   "cell_type": "code",
   "execution_count": 163,
   "metadata": {},
   "outputs": [
    {
     "data": {
      "text/plain": [
       "array([0, 0, 1, 0, 0, 0, 0, 0, 1, 1, 0, 0, 0, 1, 1, 1, 1, 0, 0, 0, 0, 1,\n",
       "       1, 0, 0, 1, 1, 0, 1, 0, 1, 1, 1, 0, 0, 0, 1, 1, 0, 0, 1, 1, 0, 1,\n",
       "       0, 0, 0, 0, 0, 1, 0, 0, 1, 0, 0, 1, 0, 0, 0, 0, 1, 1, 1, 1, 0, 0,\n",
       "       1, 1, 0, 1, 0, 1, 0, 0, 1, 1, 1, 1, 0, 1, 1, 1, 0, 0, 1, 1, 0, 0,\n",
       "       0, 0, 0, 0, 0, 0, 0, 0, 1, 0, 1, 0, 0, 0, 1, 0, 1, 1, 0, 0, 0, 0,\n",
       "       1, 1, 1, 1, 1, 1, 1, 1, 1, 0, 1, 1, 1, 0, 1, 0, 1, 0, 0, 1, 0, 0,\n",
       "       1, 1, 0, 1, 1, 0, 0, 0, 1, 0, 1, 0, 1, 1, 1, 1, 0, 0, 0, 0, 1, 1,\n",
       "       0, 0, 1, 1, 0, 0, 0, 0, 1, 1, 0, 1, 1, 0, 1, 1, 1, 1, 0, 1, 0, 1,\n",
       "       0, 0, 1, 0, 1, 0, 1, 1, 0, 0, 0, 1, 0, 1, 1, 0, 0, 1, 1, 1, 1, 0,\n",
       "       1, 1, 0, 0, 0, 1, 0, 0, 1, 1, 1, 0, 0, 0, 0, 1, 0, 0, 0, 0, 0, 1,\n",
       "       0, 0, 1, 0, 1, 0, 0, 1, 0, 0, 1, 1, 1, 0, 1, 0, 1, 0, 0, 0, 0, 0,\n",
       "       0, 0, 0, 0, 1, 0, 0, 0, 0, 1, 0, 0, 1, 0, 1, 0, 0, 0, 1, 0, 1, 0,\n",
       "       0, 0, 0, 1, 1, 0, 1, 1, 1, 0, 1, 1, 0, 0, 0, 0, 1, 0, 1, 0, 1, 1,\n",
       "       0, 1, 0, 1, 1, 0, 0, 0, 0, 0, 1, 0, 1, 0, 1, 0, 1, 0, 1, 1, 1, 1,\n",
       "       0, 1, 1, 1, 0, 1, 1, 0, 1, 1, 0, 1, 0, 0, 0, 1, 1, 0, 1, 0, 0, 1,\n",
       "       0, 1, 0, 0, 0, 0, 0, 0, 0, 1, 1, 0, 1, 1, 1, 0, 0, 0, 1, 0, 1, 0,\n",
       "       0, 1, 0, 1, 1, 1, 0, 0, 1, 0, 1, 0, 1, 0, 1, 1, 0, 1, 1, 0, 0, 0,\n",
       "       0, 0, 0, 1, 0, 1, 1, 0, 0, 1, 0, 0, 1, 0, 1, 1, 1, 1, 1, 0, 0, 0,\n",
       "       1, 0, 1, 0, 1, 0, 1, 0, 0, 0, 1, 0, 0, 1, 1, 0, 1, 1, 1, 0, 0, 1,\n",
       "       1, 1, 0, 1, 0, 1, 0, 0, 1, 0, 1, 0, 0, 1, 1, 0, 0, 0, 1, 0, 0, 1,\n",
       "       1, 0, 0, 0, 1, 0, 0, 0, 1, 1, 0, 0, 0, 1, 1, 1, 0, 0, 1, 0, 0, 0,\n",
       "       0, 1, 1, 1, 1, 0, 0, 1, 1, 0, 1, 0, 1, 0, 0, 1, 0, 0, 1, 1, 0, 0,\n",
       "       0, 1, 1, 1, 1, 1, 0, 1, 0, 0, 1, 0, 1, 0, 0, 0, 1, 1, 1, 1, 1, 1,\n",
       "       0, 1, 0, 1, 0, 0, 0, 0, 0, 1, 0, 0, 0, 0, 0, 0, 1, 0, 1, 1, 1, 0,\n",
       "       1, 0, 1, 1, 0, 1, 1, 0, 0, 1, 0, 0, 1, 1, 1, 0, 0, 0, 0, 1, 0, 1,\n",
       "       0, 0, 0, 0, 1, 1, 0, 1, 1, 1, 1, 0, 1, 1, 0, 0, 0, 0, 0, 1, 0, 0,\n",
       "       1, 1, 0, 0, 1, 1, 1, 1, 1, 0, 0, 1, 1, 1, 1, 0, 0, 1, 1, 1, 1, 1,\n",
       "       0, 0, 1, 0, 1, 1, 1, 1, 0, 0, 0, 1, 0, 0, 0, 1, 0, 0, 0, 0, 1, 0,\n",
       "       1, 1, 0, 0, 0, 0, 1, 0, 1, 0, 0, 0, 0, 0, 0, 0, 1, 1, 0, 0, 0, 0,\n",
       "       1, 0, 0, 0, 0, 1, 0, 0, 0, 0, 1, 0, 1, 1, 1, 0, 0, 1, 0, 0, 0, 0,\n",
       "       1, 0, 1, 1, 0, 0, 1, 1, 0, 0, 0, 0, 0, 0, 1, 0, 0, 0, 0, 1, 1, 1,\n",
       "       1, 1, 1, 0, 1, 1, 0, 1, 1, 1, 0, 1, 1, 1, 1, 1, 1, 1, 0, 0, 1, 0,\n",
       "       0, 0, 0, 1, 0, 1, 0, 0, 0, 0, 0, 0, 0, 0, 0, 1])"
      ]
     },
     "execution_count": 163,
     "metadata": {},
     "output_type": "execute_result"
    }
   ],
   "source": [
    "y_predicted=model.predict(x_train)\n",
    "y_predicted"
   ]
  },
  {
   "cell_type": "code",
   "execution_count": 164,
   "metadata": {},
   "outputs": [],
   "source": [
    "# o=Bad Loan  & 1=Good Loan"
   ]
  },
  {
   "cell_type": "code",
   "execution_count": 165,
   "metadata": {},
   "outputs": [
    {
     "data": {
      "text/plain": [
       "(720,)"
      ]
     },
     "execution_count": 165,
     "metadata": {},
     "output_type": "execute_result"
    }
   ],
   "source": [
    "model.predict(x_train).shape"
   ]
  },
  {
   "cell_type": "code",
   "execution_count": 166,
   "metadata": {},
   "outputs": [
    {
     "data": {
      "text/plain": [
       "array([[0.6336635 , 0.3663365 ],\n",
       "       [0.86178827, 0.13821173],\n",
       "       [0.29264276, 0.70735724],\n",
       "       ...,\n",
       "       [0.84040785, 0.15959215],\n",
       "       [0.92392387, 0.07607613],\n",
       "       [0.09262042, 0.90737958]])"
      ]
     },
     "execution_count": 166,
     "metadata": {},
     "output_type": "execute_result"
    }
   ],
   "source": [
    "predicted_training_proba=model.predict_proba(x_train)\n",
    "predicted_training_proba"
   ]
  },
  {
   "cell_type": "code",
   "execution_count": 167,
   "metadata": {},
   "outputs": [
    {
     "data": {
      "text/plain": [
       "array([[0.14873311, 0.85126689],\n",
       "       [0.79699251, 0.20300749],\n",
       "       [0.59926042, 0.40073958],\n",
       "       [0.37470906, 0.62529094],\n",
       "       [0.97725139, 0.02274861],\n",
       "       [0.72273245, 0.27726755],\n",
       "       [0.45231341, 0.54768659],\n",
       "       [0.23199975, 0.76800025],\n",
       "       [0.28871095, 0.71128905],\n",
       "       [0.76116368, 0.23883632],\n",
       "       [0.74252882, 0.25747118],\n",
       "       [0.93037938, 0.06962062],\n",
       "       [0.8599564 , 0.1400436 ],\n",
       "       [0.87029376, 0.12970624],\n",
       "       [0.23890492, 0.76109508],\n",
       "       [0.23217944, 0.76782056],\n",
       "       [0.93868727, 0.06131273],\n",
       "       [0.30142946, 0.69857054],\n",
       "       [0.97212116, 0.02787884],\n",
       "       [0.78927852, 0.21072148],\n",
       "       [0.89574259, 0.10425741],\n",
       "       [0.41088656, 0.58911344],\n",
       "       [0.18509203, 0.81490797],\n",
       "       [0.9472629 , 0.0527371 ],\n",
       "       [0.08418427, 0.91581573],\n",
       "       [0.42752882, 0.57247118],\n",
       "       [0.69976587, 0.30023413],\n",
       "       [0.96437423, 0.03562577],\n",
       "       [0.20803534, 0.79196466],\n",
       "       [0.91299319, 0.08700681],\n",
       "       [0.10703732, 0.89296268],\n",
       "       [0.77846612, 0.22153388],\n",
       "       [0.45472962, 0.54527038],\n",
       "       [0.82715092, 0.17284908],\n",
       "       [0.94647295, 0.05352705],\n",
       "       [0.59566629, 0.40433371],\n",
       "       [0.90677717, 0.09322283],\n",
       "       [0.20492959, 0.79507041],\n",
       "       [0.36070145, 0.63929855],\n",
       "       [0.14153899, 0.85846101],\n",
       "       [0.49133869, 0.50866131],\n",
       "       [0.94729984, 0.05270016],\n",
       "       [0.8640043 , 0.1359957 ],\n",
       "       [0.04906611, 0.95093389],\n",
       "       [0.82552181, 0.17447819],\n",
       "       [0.26890821, 0.73109179],\n",
       "       [0.24223006, 0.75776994],\n",
       "       [0.0766901 , 0.9233099 ],\n",
       "       [0.59765989, 0.40234011],\n",
       "       [0.58445837, 0.41554163],\n",
       "       [0.96611864, 0.03388136],\n",
       "       [0.28101573, 0.71898427],\n",
       "       [0.52643214, 0.47356786],\n",
       "       [0.57731013, 0.42268987],\n",
       "       [0.71539717, 0.28460283],\n",
       "       [0.7328009 , 0.2671991 ],\n",
       "       [0.0329299 , 0.9670701 ],\n",
       "       [0.90570589, 0.09429411],\n",
       "       [0.98968628, 0.01031372],\n",
       "       [0.9150666 , 0.0849334 ],\n",
       "       [0.46784047, 0.53215953],\n",
       "       [0.37067584, 0.62932416],\n",
       "       [0.83967587, 0.16032413],\n",
       "       [0.44900649, 0.55099351],\n",
       "       [0.08859402, 0.91140598],\n",
       "       [0.03978654, 0.96021346],\n",
       "       [0.69842216, 0.30157784],\n",
       "       [0.05168647, 0.94831353],\n",
       "       [0.18778305, 0.81221695],\n",
       "       [0.79029849, 0.20970151],\n",
       "       [0.9707435 , 0.0292565 ],\n",
       "       [0.70291333, 0.29708667],\n",
       "       [0.22241925, 0.77758075],\n",
       "       [0.76246305, 0.23753695],\n",
       "       [0.13202782, 0.86797218],\n",
       "       [0.45713056, 0.54286944],\n",
       "       [0.99034894, 0.00965106],\n",
       "       [0.25954696, 0.74045304],\n",
       "       [0.96623916, 0.03376084],\n",
       "       [0.21014487, 0.78985513],\n",
       "       [0.76822601, 0.23177399],\n",
       "       [0.55168501, 0.44831499],\n",
       "       [0.17035593, 0.82964407],\n",
       "       [0.35344004, 0.64655996],\n",
       "       [0.40012246, 0.59987754],\n",
       "       [0.36867037, 0.63132963],\n",
       "       [0.44413652, 0.55586348],\n",
       "       [0.75041673, 0.24958327],\n",
       "       [0.53269137, 0.46730863],\n",
       "       [0.91771424, 0.08228576],\n",
       "       [0.62602039, 0.37397961],\n",
       "       [0.6800643 , 0.3199357 ],\n",
       "       [0.44468873, 0.55531127],\n",
       "       [0.91436252, 0.08563748],\n",
       "       [0.62017962, 0.37982038],\n",
       "       [0.95114962, 0.04885038],\n",
       "       [0.62425026, 0.37574974],\n",
       "       [0.36861707, 0.63138293],\n",
       "       [0.88804798, 0.11195202],\n",
       "       [0.31423364, 0.68576636],\n",
       "       [0.62112954, 0.37887046],\n",
       "       [0.10094502, 0.89905498],\n",
       "       [0.21319878, 0.78680122],\n",
       "       [0.42902847, 0.57097153],\n",
       "       [0.49484088, 0.50515912],\n",
       "       [0.2677205 , 0.7322795 ],\n",
       "       [0.53578549, 0.46421451],\n",
       "       [0.98763685, 0.01236315],\n",
       "       [0.97133466, 0.02866534],\n",
       "       [0.76502717, 0.23497283],\n",
       "       [0.61753851, 0.38246149],\n",
       "       [0.37557506, 0.62442494],\n",
       "       [0.81233807, 0.18766193],\n",
       "       [0.98674125, 0.01325875],\n",
       "       [0.78789429, 0.21210571],\n",
       "       [0.79851612, 0.20148388],\n",
       "       [0.49474535, 0.50525465],\n",
       "       [0.16044238, 0.83955762],\n",
       "       [0.9854122 , 0.0145878 ],\n",
       "       [0.07085339, 0.92914661],\n",
       "       [0.38108223, 0.61891777],\n",
       "       [0.15666086, 0.84333914],\n",
       "       [0.48241186, 0.51758814],\n",
       "       [0.75939622, 0.24060378],\n",
       "       [0.90310446, 0.09689554],\n",
       "       [0.51585754, 0.48414246],\n",
       "       [0.97066456, 0.02933544],\n",
       "       [0.96882701, 0.03117299],\n",
       "       [0.17477604, 0.82522396],\n",
       "       [0.50495466, 0.49504534],\n",
       "       [0.29042472, 0.70957528],\n",
       "       [0.43261456, 0.56738544],\n",
       "       [0.07613596, 0.92386404],\n",
       "       [0.49538832, 0.50461168],\n",
       "       [0.92871542, 0.07128458],\n",
       "       [0.49558584, 0.50441416],\n",
       "       [0.24315715, 0.75684285],\n",
       "       [0.14110454, 0.85889546],\n",
       "       [0.79632568, 0.20367432],\n",
       "       [0.46061899, 0.53938101],\n",
       "       [0.02961167, 0.97038833],\n",
       "       [0.1452751 , 0.8547249 ],\n",
       "       [0.35842714, 0.64157286],\n",
       "       [0.3980942 , 0.6019058 ],\n",
       "       [0.23833165, 0.76166835],\n",
       "       [0.97755278, 0.02244722],\n",
       "       [0.49500803, 0.50499197],\n",
       "       [0.37804003, 0.62195997],\n",
       "       [0.18118821, 0.81881179],\n",
       "       [0.78458399, 0.21541601],\n",
       "       [0.09649571, 0.90350429],\n",
       "       [0.46198268, 0.53801732],\n",
       "       [0.23162184, 0.76837816],\n",
       "       [0.27249488, 0.72750512],\n",
       "       [0.74725033, 0.25274967],\n",
       "       [0.94843889, 0.05156111],\n",
       "       [0.22555238, 0.77444762],\n",
       "       [0.12874939, 0.87125061],\n",
       "       [0.88513941, 0.11486059],\n",
       "       [0.59851538, 0.40148462],\n",
       "       [0.63773046, 0.36226954],\n",
       "       [0.23295842, 0.76704158],\n",
       "       [0.0482671 , 0.9517329 ],\n",
       "       [0.85530368, 0.14469632],\n",
       "       [0.65051055, 0.34948945],\n",
       "       [0.48717693, 0.51282307],\n",
       "       [0.83467519, 0.16532481],\n",
       "       [0.47172675, 0.52827325],\n",
       "       [0.62420037, 0.37579963],\n",
       "       [0.32680266, 0.67319734],\n",
       "       [0.73020417, 0.26979583],\n",
       "       [0.13753634, 0.86246366],\n",
       "       [0.22721773, 0.77278227],\n",
       "       [0.91831168, 0.08168832],\n",
       "       [0.93969494, 0.06030506],\n",
       "       [0.69301069, 0.30698931],\n",
       "       [0.92707359, 0.07292641],\n",
       "       [0.38806153, 0.61193847],\n",
       "       [0.70081964, 0.29918036],\n",
       "       [0.84688394, 0.15311606],\n",
       "       [0.25634362, 0.74365638],\n",
       "       [0.33889167, 0.66110833],\n",
       "       [0.43215201, 0.56784799],\n",
       "       [0.97076259, 0.02923741],\n",
       "       [0.5429568 , 0.4570432 ],\n",
       "       [0.2211164 , 0.7788836 ],\n",
       "       [0.90019031, 0.09980969],\n",
       "       [0.13648706, 0.86351294],\n",
       "       [0.3654244 , 0.6345756 ],\n",
       "       [0.81273623, 0.18726377],\n",
       "       [0.08499745, 0.91500255],\n",
       "       [0.94731965, 0.05268035],\n",
       "       [0.32836949, 0.67163051],\n",
       "       [0.8305753 , 0.1694247 ],\n",
       "       [0.92496839, 0.07503161],\n",
       "       [0.68106667, 0.31893333],\n",
       "       [0.54668165, 0.45331835],\n",
       "       [0.97426922, 0.02573078],\n",
       "       [0.96317824, 0.03682176],\n",
       "       [0.83718013, 0.16281987]])"
      ]
     },
     "execution_count": 167,
     "metadata": {},
     "output_type": "execute_result"
    }
   ],
   "source": [
    "predicted_testing_proba=model.predict_proba(x_test)\n",
    "predicted_testing_proba"
   ]
  },
  {
   "cell_type": "code",
   "execution_count": 168,
   "metadata": {},
   "outputs": [],
   "source": [
    "#above we are getting probability of class being 1 and 0"
   ]
  },
  {
   "cell_type": "code",
   "execution_count": 169,
   "metadata": {},
   "outputs": [
    {
     "data": {
      "text/plain": [
       "array([[-1.41441462e+00,  1.89551502e+00, -1.24171735e-04,\n",
       "         6.60322020e-03, -1.45175927e+00,  9.71756098e-01,\n",
       "        -1.91489362e-01, -8.90671400e-02,  2.58479573e-01,\n",
       "         5.29939055e-01,  1.61084244e-01,  5.01415647e-02,\n",
       "         2.39664489e-01,  4.42354322e-01, -6.90157846e-01,\n",
       "        -1.17223567e-01,  4.17369806e-02, -4.51682360e-01,\n",
       "         3.13925412e-01,  1.69194101e-01, -3.79968216e-01,\n",
       "         3.41166778e-02, -1.70529333e-01,  5.08263158e-01,\n",
       "        -1.35459350e-01,  1.39613624e-02,  3.92004098e-01,\n",
       "         4.73274722e-02, -3.69502821e-02,  3.65565900e-01,\n",
       "         1.27444016e-01, -2.42493271e-01,  1.32442194e-01,\n",
       "        -2.78851441e-01,  1.01799476e-01, -6.65916792e-02,\n",
       "        -1.90785010e-03, -2.59928593e-01,  1.12388833e-01,\n",
       "        -1.14837775e-01]])"
      ]
     },
     "execution_count": 169,
     "metadata": {},
     "output_type": "execute_result"
    }
   ],
   "source": [
    "#getting coefficients of feature\n",
    "model.coef_"
   ]
  },
  {
   "cell_type": "code",
   "execution_count": 170,
   "metadata": {},
   "outputs": [
    {
     "data": {
      "text/plain": [
       "(1, 40)"
      ]
     },
     "execution_count": 170,
     "metadata": {},
     "output_type": "execute_result"
    }
   ],
   "source": [
    "model.coef_.shape"
   ]
  },
  {
   "cell_type": "code",
   "execution_count": 171,
   "metadata": {},
   "outputs": [
    {
     "name": "stdout",
     "output_type": "stream",
     "text": [
      "The Training Accuracy is : 0.7791666666666667\n",
      "The Testing Accuracy is : 0.75\n"
     ]
    }
   ],
   "source": [
    "print('The Training Accuracy is :',model.score(x_train,y_train))\n",
    "print('The Testing Accuracy is :',model.score(x_test,y_test))"
   ]
  },
  {
   "cell_type": "code",
   "execution_count": 172,
   "metadata": {},
   "outputs": [
    {
     "name": "stdout",
     "output_type": "stream",
     "text": [
      "              precision    recall  f1-score   support\n",
      "\n",
      "           0       0.79      0.80      0.80       387\n",
      "           1       0.77      0.75      0.76       333\n",
      "\n",
      "    accuracy                           0.78       720\n",
      "   macro avg       0.78      0.78      0.78       720\n",
      "weighted avg       0.78      0.78      0.78       720\n",
      "\n"
     ]
    }
   ],
   "source": [
    "#Classification Report\n",
    "from sklearn.metrics import classification_report\n",
    "print(classification_report(y_train,y_predicted) )"
   ]
  },
  {
   "cell_type": "code",
   "execution_count": 173,
   "metadata": {},
   "outputs": [
    {
     "data": {
      "text/plain": [
       "array([[311,  76],\n",
       "       [ 83, 250]], dtype=int64)"
      ]
     },
     "execution_count": 173,
     "metadata": {},
     "output_type": "execute_result"
    }
   ],
   "source": [
    "#Another way to check Accuracy is by Confusion Matrix\n",
    "from sklearn.metrics import confusion_matrix\n",
    "cm=confusion_matrix(y_train, y_predicted)\n",
    "cm"
   ]
  },
  {
   "cell_type": "code",
   "execution_count": 174,
   "metadata": {},
   "outputs": [
    {
     "data": {
      "text/plain": [
       "<matplotlib.axes._subplots.AxesSubplot at 0x2212805f688>"
      ]
     },
     "execution_count": 174,
     "metadata": {},
     "output_type": "execute_result"
    },
    {
     "data": {
      "image/png": "[encoded data removed]",
      "text/plain": [
       "<Figure size 432x288 with 2 Axes>"
      ]
     },
     "metadata": {
      "needs_background": "light"
     },
     "output_type": "display_data"
    }
   ],
   "source": [
    "import seaborn as sns\n",
    "fig=sns.heatmap(cm, annot=True)\n",
    "fig"
   ]
  },
  {
   "cell_type": "code",
   "execution_count": 175,
   "metadata": {},
   "outputs": [],
   "source": [
    "#Explanation of confusion Matrix\n",
    "#311 zeros correctly classified as zeos & at the same time 76 zeros that are actually zeros but model predicted as 1\n",
    "#250 ones are correctly classifies as 1 & 83 ones are classified as 0"
   ]
  },
  {
   "cell_type": "code",
   "execution_count": 176,
   "metadata": {},
   "outputs": [
    {
     "data": {
      "text/plain": [
       "array([[0.80361757, 0.19638243],\n",
       "       [0.24924925, 0.75075075]])"
      ]
     },
     "execution_count": 176,
     "metadata": {},
     "output_type": "execute_result"
    }
   ],
   "source": [
    "#Normalizing Confusion Matrix\n",
    "Normalized_cm=cm/cm.sum(axis=1).reshape(-1,1)\n",
    "Normalized_cm"
   ]
  },
  {
   "cell_type": "code",
   "execution_count": 177,
   "metadata": {},
   "outputs": [
    {
     "data": {
      "text/plain": [
       "<matplotlib.axes._subplots.AxesSubplot at 0x2212823fd08>"
      ]
     },
     "execution_count": 177,
     "metadata": {},
     "output_type": "execute_result"
    },
    {
     "data": {
      "image/png": "[encoded data removed]",
      "text/plain": [
       "<Figure size 432x288 with 2 Axes>"
      ]
     },
     "metadata": {
      "needs_background": "light"
     },
     "output_type": "display_data"
    }
   ],
   "source": [
    "sns.heatmap(Normalized_cm,annot=True)"
   ]
  },
  {
   "cell_type": "code",
   "execution_count": 178,
   "metadata": {},
   "outputs": [
    {
     "data": {
      "text/plain": [
       "array([[311,  76],\n",
       "       [ 83, 250]], dtype=int64)"
      ]
     },
     "execution_count": 178,
     "metadata": {},
     "output_type": "execute_result"
    }
   ],
   "source": [
    "cm"
   ]
  },
  {
   "cell_type": "code",
   "execution_count": 179,
   "metadata": {},
   "outputs": [
    {
     "data": {
      "text/plain": [
       "array([394, 326], dtype=int64)"
      ]
     },
     "execution_count": 179,
     "metadata": {},
     "output_type": "execute_result"
    }
   ],
   "source": [
    "# Operation on array\n",
    "cm.sum(axis=0) #adding 311+83 ,76+250\n"
   ]
  },
  {
   "cell_type": "code",
   "execution_count": 180,
   "metadata": {},
   "outputs": [
    {
     "data": {
      "text/plain": [
       "array([311, 250], dtype=int64)"
      ]
     },
     "execution_count": 180,
     "metadata": {},
     "output_type": "execute_result"
    }
   ],
   "source": [
    "# taking only diagonal elements\n",
    "np.diag(cm)"
   ]
  },
  {
   "cell_type": "code",
   "execution_count": 181,
   "metadata": {},
   "outputs": [],
   "source": [
    "# Calulations for any confusion matrix.Manully it is diffult for more classes\n",
    "FP=cm.sum(axis=0)-np.diag(cm)\n",
    "FN=cm.sum(axis=1)-np.diag(cm)\n",
    "TP=np.diag(cm)\n",
    "TN=cm.sum()-(FP+FN+TP)"
   ]
  },
  {
   "cell_type": "code",
   "execution_count": 182,
   "metadata": {},
   "outputs": [
    {
     "name": "stdout",
     "output_type": "stream",
     "text": [
      "The True Positive Rate is  [0.80361757 0.75075075]\n",
      "\n",
      "The Average True Positive Rate ,Hit rate or sensitivity or Recall is  0.7771841609050911\n"
     ]
    }
   ],
   "source": [
    "#True positive Rate or sensitivity or Recall or hit Rate\n",
    "TPR=TP/(TP+FN)\n",
    "print('The True Positive Rate is ',TPR)\n",
    "print(\"\")\n",
    "print('The Average True Positive Rate ,Hit rate or sensitivity or Recall is ',TPR.sum()/2)"
   ]
  },
  {
   "cell_type": "code",
   "execution_count": 183,
   "metadata": {},
   "outputs": [],
   "source": [
    "#Explanation of True Positive Rate\n",
    "#Out of Total [0 and 1] 80% correctly classified as 0 and out of total 75% correctly classified as 1"
   ]
  },
  {
   "cell_type": "code",
   "execution_count": 184,
   "metadata": {},
   "outputs": [
    {
     "name": "stdout",
     "output_type": "stream",
     "text": [
      "The Precision is [0.7893401  0.76687117]\n",
      "The Average Precision is  0.7781056335835073\n"
     ]
    }
   ],
   "source": [
    "#Precision or Positive Predictive value\n",
    "PPV=TP/(TP+FP)\n",
    "print('The Precision is',PPV)\n",
    "print('The Average Precision is ',PPV.sum()/2)"
   ]
  },
  {
   "cell_type": "code",
   "execution_count": 185,
   "metadata": {},
   "outputs": [],
   "source": [
    "#out of Total zeros 78% predicted as correct & out of total 1 76% predicted as 1"
   ]
  },
  {
   "cell_type": "code",
   "execution_count": 186,
   "metadata": {},
   "outputs": [
    {
     "name": "stdout",
     "output_type": "stream",
     "text": [
      "The False Positive Rate  [0.24924925 0.19638243]\n",
      "The Average False Positive Rate is  0.22281583909490887\n"
     ]
    }
   ],
   "source": [
    "#False Positive Rate or alarm rate\n",
    "FPR=FP/(FP+TN)\n",
    "print('The False Positive Rate ',FPR)\n",
    "print('The Average False Positive Rate is ',FPR.sum()/2)"
   ]
  },
  {
   "cell_type": "code",
   "execution_count": 187,
   "metadata": {},
   "outputs": [
    {
     "name": "stdout",
     "output_type": "stream",
     "text": [
      "The False Negative Rate [0.19638243 0.24924925]\n",
      "The Average False Negative Rateis  0.22281583909490887\n"
     ]
    }
   ],
   "source": [
    "#False Negative Rate Or Miss Rate\n",
    "FNR=FN/(FN+TP)\n",
    "print('The False Negative Rate',FNR)\n",
    "print('The Average False Negative Rateis ',FNR.sum()/2)\n"
   ]
  },
  {
   "cell_type": "code",
   "execution_count": 188,
   "metadata": {},
   "outputs": [
    {
     "name": "stdout",
     "output_type": "stream",
     "text": [
      "The log Loss on Training is 0.4561218471655459\n"
     ]
    }
   ],
   "source": [
    "#Logaritmic Loss or Log Loss or Cross entropy loss \n",
    "# Also Called as Error Metrics\n",
    "from sklearn.metrics import log_loss\n",
    "log_loss(y_train,predicted_training_proba)\n",
    "print('The log Loss on Training is',log_loss(y_train,predicted_training_proba))"
   ]
  },
  {
   "cell_type": "code",
   "execution_count": 189,
   "metadata": {},
   "outputs": [
    {
     "name": "stdout",
     "output_type": "stream",
     "text": [
      "The log Loss on Testing is 0.49358753586633086\n"
     ]
    }
   ],
   "source": [
    "log_loss(y_test,predicted_testing_proba)\n",
    "print('The log Loss on Testing is',log_loss(y_test,predicted_testing_proba))"
   ]
  },
  {
   "cell_type": "code",
   "execution_count": 190,
   "metadata": {},
   "outputs": [],
   "source": [
    "#HyperParameter Tunning in Logistic Regression\n",
    "# C-Inverse of regularization Strength\n",
    "#penlizes the larger value of Paramerters\n",
    "#Helps to Avoid Overfitting\n",
    "#Helps to find local minimum to global minimum"
   ]
  },
  {
   "cell_type": "code",
   "execution_count": 191,
   "metadata": {},
   "outputs": [
    {
     "data": {
      "text/plain": [
       "array([1.00000000e-05, 3.35981829e-05, 1.12883789e-04, 3.79269019e-04,\n",
       "       1.27427499e-03, 4.28133240e-03, 1.43844989e-02, 4.83293024e-02,\n",
       "       1.62377674e-01, 5.45559478e-01, 1.83298071e+00, 6.15848211e+00,\n",
       "       2.06913808e+01, 6.95192796e+01, 2.33572147e+02, 7.84759970e+02,\n",
       "       2.63665090e+03, 8.85866790e+03, 2.97635144e+04, 1.00000000e+05])"
      ]
     },
     "execution_count": 191,
     "metadata": {},
     "output_type": "execute_result"
    }
   ],
   "source": [
    "#Understanding geomspace & linspace\n",
    "np.geomspace(1e-5,1e5,num=20)#Uniformaly Distributed in log space"
   ]
  },
  {
   "cell_type": "code",
   "execution_count": 192,
   "metadata": {},
   "outputs": [
    {
     "data": {
      "text/plain": [
       "array([1.00000000e-05, 5.26315790e+03, 1.05263158e+04, 1.57894737e+04,\n",
       "       2.10526316e+04, 2.63157895e+04, 3.15789474e+04, 3.68421053e+04,\n",
       "       4.21052632e+04, 4.73684211e+04, 5.26315790e+04, 5.78947368e+04,\n",
       "       6.31578947e+04, 6.84210526e+04, 7.36842105e+04, 7.89473684e+04,\n",
       "       8.42105263e+04, 8.94736842e+04, 9.47368421e+04, 1.00000000e+05])"
      ]
     },
     "execution_count": 192,
     "metadata": {},
     "output_type": "execute_result"
    }
   ],
   "source": [
    "#Understanding geomspace & linspace\n",
    "np.linspace(1e-5,1e5,num=20)"
   ]
  },
  {
   "cell_type": "code",
   "execution_count": 193,
   "metadata": {},
   "outputs": [
    {
     "data": {
      "text/plain": [
       "[<matplotlib.lines.Line2D at 0x221284134c8>]"
      ]
     },
     "execution_count": 193,
     "metadata": {},
     "output_type": "execute_result"
    },
    {
     "data": {
      "image/png": "[encoded data removed]",
      "text/plain": [
       "<Figure size 432x288 with 1 Axes>"
      ]
     },
     "metadata": {
      "needs_background": "light"
     },
     "output_type": "display_data"
    }
   ],
   "source": [
    "#Visualizing geomspace & linspace\n",
    "plt.plot(np.geomspace(1e-5,1e5,num=20))"
   ]
  },
  {
   "cell_type": "code",
   "execution_count": 194,
   "metadata": {},
   "outputs": [
    {
     "data": {
      "text/plain": [
       "[<matplotlib.lines.Line2D at 0x221289855c8>]"
      ]
     },
     "execution_count": 194,
     "metadata": {},
     "output_type": "execute_result"
    },
    {
     "data": {
      "image/png": "[encoded data removed]",
      "text/plain": [
       "<Figure size 432x288 with 1 Axes>"
      ]
     },
     "metadata": {
      "needs_background": "light"
     },
     "output_type": "display_data"
    }
   ],
   "source": [
    "plt.plot(np.linspace(1e-5,1e5,num=20))"
   ]
  },
  {
   "cell_type": "code",
   "execution_count": 195,
   "metadata": {},
   "outputs": [
    {
     "data": {
      "text/plain": [
       "[<matplotlib.lines.Line2D at 0x2212835c648>]"
      ]
     },
     "execution_count": 195,
     "metadata": {},
     "output_type": "execute_result"
    },
    {
     "data": {
      "image/png": "[encoded data removed]",
      "text/plain": [
       "<Figure size 432x288 with 1 Axes>"
      ]
     },
     "metadata": {
      "needs_background": "light"
     },
     "output_type": "display_data"
    }
   ],
   "source": [
    "#Combining Both\n",
    "plt.plot(np.geomspace(1e-5,1e5,num=20))\n",
    "plt.plot(np.linspace(1e-5,1e5,num=20))\n"
   ]
  },
  {
   "cell_type": "code",
   "execution_count": 196,
   "metadata": {},
   "outputs": [
    {
     "name": "stdout",
     "output_type": "stream",
     "text": [
      "The Classification accuracy of c parameter 1e-05 is 0.535\n",
      "The log loss of c Parameter 1e-05 is 0.6962402407697195 \n",
      "\n",
      "The Classification accuracy of c parameter 3.359818286283781e-05 is 0.54\n",
      "The log loss of c Parameter 3.359818286283781e-05 is 0.6942639549968309 \n",
      "\n",
      "The Classification accuracy of c parameter 0.00011288378916846884 is 0.54\n",
      "The log loss of c Parameter 0.00011288378916846884 is 0.692752630814025 \n",
      "\n",
      "The Classification accuracy of c parameter 0.000379269019073225 is 0.545\n",
      "The log loss of c Parameter 0.000379269019073225 is 0.687507944380954 \n",
      "\n",
      "The Classification accuracy of c parameter 0.0012742749857031334 is 0.64\n",
      "The log loss of c Parameter 0.0012742749857031334 is 0.6714766139172699 \n",
      "\n",
      "The Classification accuracy of c parameter 0.004281332398719391 is 0.67\n",
      "The log loss of c Parameter 0.004281332398719391 is 0.6329923109464188 \n",
      "\n",
      "The Classification accuracy of c parameter 0.01438449888287663 is 0.725\n",
      "The log loss of c Parameter 0.01438449888287663 is 0.5733419963610441 \n",
      "\n",
      "The Classification accuracy of c parameter 0.04832930238571752 is 0.705\n",
      "The log loss of c Parameter 0.04832930238571752 is 0.5223217514726768 \n",
      "\n",
      "The Classification accuracy of c parameter 0.1623776739188721 is 0.745\n",
      "The log loss of c Parameter 0.1623776739188721 is 0.49871561226941635 \n",
      "\n",
      "The Classification accuracy of c parameter 0.5455594781168515 is 0.745\n",
      "The log loss of c Parameter 0.5455594781168515 is 0.4935207009163183 \n",
      "\n",
      "The Classification accuracy of c parameter 1.8329807108324339 is 0.75\n",
      "The log loss of c Parameter 1.8329807108324339 is 0.49355091962259245 \n",
      "\n"
     ]
    },
    {
     "name": "stderr",
     "output_type": "stream",
     "text": [
      "C:\\Users\\Lokanathswami\\anaconda3\\lib\\site-packages\\sklearn\\linear_model\\_logistic.py:764: ConvergenceWarning: lbfgs failed to converge (status=1):\n",
      "STOP: TOTAL NO. of ITERATIONS REACHED LIMIT.\n",
      "\n",
      "Increase the number of iterations (max_iter) or scale the data as shown in:\n",
      "    https://scikit-learn.org/stable/modules/preprocessing.html\n",
      "Please also refer to the documentation for alternative solver options:\n",
      "    https://scikit-learn.org/stable/modules/linear_model.html#logistic-regression\n",
      "  extra_warning_msg=_LOGISTIC_SOLVER_CONVERGENCE_MSG)\n",
      "C:\\Users\\Lokanathswami\\anaconda3\\lib\\site-packages\\sklearn\\linear_model\\_logistic.py:764: ConvergenceWarning: lbfgs failed to converge (status=1):\n",
      "STOP: TOTAL NO. of ITERATIONS REACHED LIMIT.\n",
      "\n",
      "Increase the number of iterations (max_iter) or scale the data as shown in:\n",
      "    https://scikit-learn.org/stable/modules/preprocessing.html\n",
      "Please also refer to the documentation for alternative solver options:\n",
      "    https://scikit-learn.org/stable/modules/linear_model.html#logistic-regression\n",
      "  extra_warning_msg=_LOGISTIC_SOLVER_CONVERGENCE_MSG)\n"
     ]
    },
    {
     "name": "stdout",
     "output_type": "stream",
     "text": [
      "The Classification accuracy of c parameter 6.1584821106602545 is 0.76\n",
      "The log loss of c Parameter 6.1584821106602545 is 0.4947365959567163 \n",
      "\n",
      "The Classification accuracy of c parameter 20.6913808111479 is 0.77\n",
      "The log loss of c Parameter 20.6913808111479 is 0.4930782437544778 \n",
      "\n",
      "The Classification accuracy of c parameter 69.51927961775606 is 0.755\n",
      "The log loss of c Parameter 69.51927961775606 is 0.4908494646177061 \n",
      "\n",
      "The Classification accuracy of c parameter 233.57214690901213 is 0.755\n",
      "The log loss of c Parameter 233.57214690901213 is 0.49414558241880946 "
     ]
    },
    {
     "name": "stderr",
     "output_type": "stream",
     "text": [
      "C:\\Users\\Lokanathswami\\anaconda3\\lib\\site-packages\\sklearn\\linear_model\\_logistic.py:764: ConvergenceWarning: lbfgs failed to converge (status=1):\n",
      "STOP: TOTAL NO. of ITERATIONS REACHED LIMIT.\n",
      "\n",
      "Increase the number of iterations (max_iter) or scale the data as shown in:\n",
      "    https://scikit-learn.org/stable/modules/preprocessing.html\n",
      "Please also refer to the documentation for alternative solver options:\n",
      "    https://scikit-learn.org/stable/modules/linear_model.html#logistic-regression\n",
      "  extra_warning_msg=_LOGISTIC_SOLVER_CONVERGENCE_MSG)\n",
      "C:\\Users\\Lokanathswami\\anaconda3\\lib\\site-packages\\sklearn\\linear_model\\_logistic.py:764: ConvergenceWarning: lbfgs failed to converge (status=1):\n",
      "STOP: TOTAL NO. of ITERATIONS REACHED LIMIT.\n",
      "\n",
      "Increase the number of iterations (max_iter) or scale the data as shown in:\n",
      "    https://scikit-learn.org/stable/modules/preprocessing.html\n",
      "Please also refer to the documentation for alternative solver options:\n",
      "    https://scikit-learn.org/stable/modules/linear_model.html#logistic-regression\n",
      "  extra_warning_msg=_LOGISTIC_SOLVER_CONVERGENCE_MSG)\n"
     ]
    },
    {
     "name": "stdout",
     "output_type": "stream",
     "text": [
      "\n",
      "\n",
      "The Classification accuracy of c parameter 784.7599703514607 is 0.775\n",
      "The log loss of c Parameter 784.7599703514607 is 0.4874530459194341 \n",
      "\n",
      "The Classification accuracy of c parameter 2636.6508987303555 is 0.77\n",
      "The log loss of c Parameter 2636.6508987303555 is 0.4931925962570105 \n",
      "\n",
      "The Classification accuracy of c parameter 8858.667904100832 is 0.77\n",
      "The log loss of c Parameter 8858.667904100832 is 0.49322711907658173 \n",
      "\n",
      "The Classification accuracy of c parameter 29763.51441631313 is 0.77\n",
      "The log loss of c Parameter 29763.51441631313 is 0.49320162682086943 \n",
      "\n",
      "The Classification accuracy of c parameter 100000.0 is 0.76\n",
      "The log loss of c Parameter 100000.0 is 0.49172277920203156 \n",
      "\n"
     ]
    },
    {
     "name": "stderr",
     "output_type": "stream",
     "text": [
      "C:\\Users\\Lokanathswami\\anaconda3\\lib\\site-packages\\sklearn\\linear_model\\_logistic.py:764: ConvergenceWarning: lbfgs failed to converge (status=1):\n",
      "STOP: TOTAL NO. of ITERATIONS REACHED LIMIT.\n",
      "\n",
      "Increase the number of iterations (max_iter) or scale the data as shown in:\n",
      "    https://scikit-learn.org/stable/modules/preprocessing.html\n",
      "Please also refer to the documentation for alternative solver options:\n",
      "    https://scikit-learn.org/stable/modules/linear_model.html#logistic-regression\n",
      "  extra_warning_msg=_LOGISTIC_SOLVER_CONVERGENCE_MSG)\n"
     ]
    }
   ],
   "source": [
    "# C values \n",
    "c_list=np.geomspace(1e-5,1e5,num=20)\n",
    "classification_accuracy=[] #Saving the value\n",
    "logarithmic_loss=[]\n",
    "\n",
    "for c in c_list:\n",
    "    model2=LogisticRegression(random_state=10,solver='lbfgs',C=c)\n",
    "    model2.fit(x_train,y_train)\n",
    "    score=model2.score(x_test,y_test)\n",
    "    classification_accuracy.append(score)\n",
    "    print('The Classification accuracy of c parameter {} is {}'.format(c,score))\n",
    "    predicted_testing_proba=model2.predict_proba(x_test)\n",
    "    log_loss2=log_loss(y_test,predicted_testing_proba)\n",
    "    logarithmic_loss.append(log_loss2)\n",
    "    print('The log loss of c Parameter {} is {} '.format(c,log_loss2))\n",
    "    print(\"\")\n"
   ]
  },
  {
   "cell_type": "code",
   "execution_count": 197,
   "metadata": {},
   "outputs": [],
   "source": [
    "#From Above we have to choose one which has lowest logarithmic loss and highest classification accuracy"
   ]
  },
  {
   "cell_type": "code",
   "execution_count": 198,
   "metadata": {},
   "outputs": [],
   "source": [
    "#Putting results into dataframe"
   ]
  },
  {
   "cell_type": "code",
   "execution_count": 199,
   "metadata": {},
   "outputs": [
    {
     "data": {
      "text/plain": [
       "[0.535,\n",
       " 0.54,\n",
       " 0.54,\n",
       " 0.545,\n",
       " 0.64,\n",
       " 0.67,\n",
       " 0.725,\n",
       " 0.705,\n",
       " 0.745,\n",
       " 0.745,\n",
       " 0.75,\n",
       " 0.76,\n",
       " 0.77,\n",
       " 0.755,\n",
       " 0.755,\n",
       " 0.775,\n",
       " 0.77,\n",
       " 0.77,\n",
       " 0.77,\n",
       " 0.76]"
      ]
     },
     "execution_count": 199,
     "metadata": {},
     "output_type": "execute_result"
    }
   ],
   "source": [
    "classification_accuracy"
   ]
  },
  {
   "cell_type": "code",
   "execution_count": 200,
   "metadata": {},
   "outputs": [
    {
     "data": {
      "text/plain": [
       "array([0.535, 0.54 , 0.54 , 0.545, 0.64 , 0.67 , 0.725, 0.705, 0.745,\n",
       "       0.745, 0.75 , 0.76 , 0.77 , 0.755, 0.755, 0.775, 0.77 , 0.77 ,\n",
       "       0.77 , 0.76 ])"
      ]
     },
     "execution_count": 200,
     "metadata": {},
     "output_type": "execute_result"
    }
   ],
   "source": [
    "#Understanding Making Numpy Array\n",
    "np.array(classification_accuracy)"
   ]
  },
  {
   "cell_type": "code",
   "execution_count": 202,
   "metadata": {},
   "outputs": [
    {
     "data": {
      "text/plain": [
       "[0.6962402407697195,\n",
       " 0.6942639549968309,\n",
       " 0.692752630814025,\n",
       " 0.687507944380954,\n",
       " 0.6714766139172699,\n",
       " 0.6329923109464188,\n",
       " 0.5733419963610441,\n",
       " 0.5223217514726768,\n",
       " 0.49871561226941635,\n",
       " 0.4935207009163183,\n",
       " 0.49355091962259245,\n",
       " 0.4947365959567163,\n",
       " 0.4930782437544778,\n",
       " 0.4908494646177061,\n",
       " 0.49414558241880946,\n",
       " 0.4874530459194341,\n",
       " 0.4931925962570105,\n",
       " 0.49322711907658173,\n",
       " 0.49320162682086943,\n",
       " 0.49172277920203156]"
      ]
     },
     "execution_count": 202,
     "metadata": {},
     "output_type": "execute_result"
    }
   ],
   "source": [
    "logarithmic_loss"
   ]
  },
  {
   "cell_type": "code",
   "execution_count": 203,
   "metadata": {},
   "outputs": [
    {
     "data": {
      "text/plain": [
       "array([0.69624024, 0.69426395, 0.69275263, 0.68750794, 0.67147661,\n",
       "       0.63299231, 0.573342  , 0.52232175, 0.49871561, 0.4935207 ,\n",
       "       0.49355092, 0.4947366 , 0.49307824, 0.49084946, 0.49414558,\n",
       "       0.48745305, 0.4931926 , 0.49322712, 0.49320163, 0.49172278])"
      ]
     },
     "execution_count": 203,
     "metadata": {},
     "output_type": "execute_result"
    }
   ],
   "source": [
    "np.array(logarithmic_loss)"
   ]
  },
  {
   "cell_type": "code",
   "execution_count": 201,
   "metadata": {},
   "outputs": [
    {
     "data": {
      "text/plain": [
       "array([0.535, 0.54 , 0.54 , 0.545, 0.64 , 0.67 , 0.725, 0.705, 0.745,\n",
       "       0.745, 0.75 , 0.76 , 0.77 , 0.755, 0.755, 0.775, 0.77 , 0.77 ,\n",
       "       0.77 , 0.76 ])"
      ]
     },
     "execution_count": 201,
     "metadata": {},
     "output_type": "execute_result"
    }
   ],
   "source": [
    "np.array(classification_accuracy).reshape(20,)"
   ]
  },
  {
   "cell_type": "code",
   "execution_count": 204,
   "metadata": {},
   "outputs": [
    {
     "data": {
      "text/plain": [
       "array([0.69624024, 0.69426395, 0.69275263, 0.68750794, 0.67147661,\n",
       "       0.63299231, 0.573342  , 0.52232175, 0.49871561, 0.4935207 ,\n",
       "       0.49355092, 0.4947366 , 0.49307824, 0.49084946, 0.49414558,\n",
       "       0.48745305, 0.4931926 , 0.49322712, 0.49320163, 0.49172278])"
      ]
     },
     "execution_count": 204,
     "metadata": {},
     "output_type": "execute_result"
    }
   ],
   "source": [
    "np.array(logarithmic_loss).reshape(20,)"
   ]
  },
  {
   "cell_type": "code",
   "execution_count": 205,
   "metadata": {},
   "outputs": [],
   "source": [
    "classification_accuracy2=np.array(classification_accuracy).reshape(20,)\n",
    "logarithmic_loss2=np.array(logarithmic_loss).reshape(20,)\n"
   ]
  },
  {
   "cell_type": "code",
   "execution_count": 209,
   "metadata": {},
   "outputs": [],
   "source": [
    "#Zipping\n",
    "outcomes=zip(c_list,classification_accuracy2,logarithmic_loss2)"
   ]
  },
  {
   "cell_type": "code",
   "execution_count": 210,
   "metadata": {},
   "outputs": [
    {
     "data": {
      "text/html": [
       "<div>\n",
       "<style scoped>\n",
       "    .dataframe tbody tr th:only-of-type {\n",
       "        vertical-align: middle;\n",
       "    }\n",
       "\n",
       "    .dataframe tbody tr th {\n",
       "        vertical-align: top;\n",
       "    }\n",
       "\n",
       "    .dataframe thead th {\n",
       "        text-align: right;\n",
       "    }\n",
       "</style>\n",
       "<table border=\"1\" class=\"dataframe\">\n",
       "  <thead>\n",
       "    <tr style=\"text-align: right;\">\n",
       "      <th></th>\n",
       "      <th>c_list</th>\n",
       "      <th>classification_accuracy</th>\n",
       "      <th>logarithmic_loss</th>\n",
       "    </tr>\n",
       "  </thead>\n",
       "  <tbody>\n",
       "    <tr>\n",
       "      <th>0</th>\n",
       "      <td>0.000010</td>\n",
       "      <td>0.535</td>\n",
       "      <td>0.696240</td>\n",
       "    </tr>\n",
       "    <tr>\n",
       "      <th>1</th>\n",
       "      <td>0.000034</td>\n",
       "      <td>0.540</td>\n",
       "      <td>0.694264</td>\n",
       "    </tr>\n",
       "    <tr>\n",
       "      <th>2</th>\n",
       "      <td>0.000113</td>\n",
       "      <td>0.540</td>\n",
       "      <td>0.692753</td>\n",
       "    </tr>\n",
       "    <tr>\n",
       "      <th>3</th>\n",
       "      <td>0.000379</td>\n",
       "      <td>0.545</td>\n",
       "      <td>0.687508</td>\n",
       "    </tr>\n",
       "    <tr>\n",
       "      <th>4</th>\n",
       "      <td>0.001274</td>\n",
       "      <td>0.640</td>\n",
       "      <td>0.671477</td>\n",
       "    </tr>\n",
       "    <tr>\n",
       "      <th>5</th>\n",
       "      <td>0.004281</td>\n",
       "      <td>0.670</td>\n",
       "      <td>0.632992</td>\n",
       "    </tr>\n",
       "    <tr>\n",
       "      <th>6</th>\n",
       "      <td>0.014384</td>\n",
       "      <td>0.725</td>\n",
       "      <td>0.573342</td>\n",
       "    </tr>\n",
       "    <tr>\n",
       "      <th>7</th>\n",
       "      <td>0.048329</td>\n",
       "      <td>0.705</td>\n",
       "      <td>0.522322</td>\n",
       "    </tr>\n",
       "    <tr>\n",
       "      <th>8</th>\n",
       "      <td>0.162378</td>\n",
       "      <td>0.745</td>\n",
       "      <td>0.498716</td>\n",
       "    </tr>\n",
       "    <tr>\n",
       "      <th>9</th>\n",
       "      <td>0.545559</td>\n",
       "      <td>0.745</td>\n",
       "      <td>0.493521</td>\n",
       "    </tr>\n",
       "    <tr>\n",
       "      <th>10</th>\n",
       "      <td>1.832981</td>\n",
       "      <td>0.750</td>\n",
       "      <td>0.493551</td>\n",
       "    </tr>\n",
       "    <tr>\n",
       "      <th>11</th>\n",
       "      <td>6.158482</td>\n",
       "      <td>0.760</td>\n",
       "      <td>0.494737</td>\n",
       "    </tr>\n",
       "    <tr>\n",
       "      <th>12</th>\n",
       "      <td>20.691381</td>\n",
       "      <td>0.770</td>\n",
       "      <td>0.493078</td>\n",
       "    </tr>\n",
       "    <tr>\n",
       "      <th>13</th>\n",
       "      <td>69.519280</td>\n",
       "      <td>0.755</td>\n",
       "      <td>0.490849</td>\n",
       "    </tr>\n",
       "    <tr>\n",
       "      <th>14</th>\n",
       "      <td>233.572147</td>\n",
       "      <td>0.755</td>\n",
       "      <td>0.494146</td>\n",
       "    </tr>\n",
       "    <tr>\n",
       "      <th>15</th>\n",
       "      <td>784.759970</td>\n",
       "      <td>0.775</td>\n",
       "      <td>0.487453</td>\n",
       "    </tr>\n",
       "    <tr>\n",
       "      <th>16</th>\n",
       "      <td>2636.650899</td>\n",
       "      <td>0.770</td>\n",
       "      <td>0.493193</td>\n",
       "    </tr>\n",
       "    <tr>\n",
       "      <th>17</th>\n",
       "      <td>8858.667904</td>\n",
       "      <td>0.770</td>\n",
       "      <td>0.493227</td>\n",
       "    </tr>\n",
       "    <tr>\n",
       "      <th>18</th>\n",
       "      <td>29763.514416</td>\n",
       "      <td>0.770</td>\n",
       "      <td>0.493202</td>\n",
       "    </tr>\n",
       "    <tr>\n",
       "      <th>19</th>\n",
       "      <td>100000.000000</td>\n",
       "      <td>0.760</td>\n",
       "      <td>0.491723</td>\n",
       "    </tr>\n",
       "  </tbody>\n",
       "</table>\n",
       "</div>"
      ],
      "text/plain": [
       "           c_list  classification_accuracy  logarithmic_loss\n",
       "0        0.000010                    0.535          0.696240\n",
       "1        0.000034                    0.540          0.694264\n",
       "2        0.000113                    0.540          0.692753\n",
       "3        0.000379                    0.545          0.687508\n",
       "4        0.001274                    0.640          0.671477\n",
       "5        0.004281                    0.670          0.632992\n",
       "6        0.014384                    0.725          0.573342\n",
       "7        0.048329                    0.705          0.522322\n",
       "8        0.162378                    0.745          0.498716\n",
       "9        0.545559                    0.745          0.493521\n",
       "10       1.832981                    0.750          0.493551\n",
       "11       6.158482                    0.760          0.494737\n",
       "12      20.691381                    0.770          0.493078\n",
       "13      69.519280                    0.755          0.490849\n",
       "14     233.572147                    0.755          0.494146\n",
       "15     784.759970                    0.775          0.487453\n",
       "16    2636.650899                    0.770          0.493193\n",
       "17    8858.667904                    0.770          0.493227\n",
       "18   29763.514416                    0.770          0.493202\n",
       "19  100000.000000                    0.760          0.491723"
      ]
     },
     "execution_count": 210,
     "metadata": {},
     "output_type": "execute_result"
    }
   ],
   "source": [
    "df_outcomes=pd.DataFrame(outcomes,columns=['c_list','classification_accuracy','logarithmic_loss'])\n",
    "df_outcomes"
   ]
  },
  {
   "cell_type": "code",
   "execution_count": 211,
   "metadata": {},
   "outputs": [
    {
     "data": {
      "text/html": [
       "<div>\n",
       "<style scoped>\n",
       "    .dataframe tbody tr th:only-of-type {\n",
       "        vertical-align: middle;\n",
       "    }\n",
       "\n",
       "    .dataframe tbody tr th {\n",
       "        vertical-align: top;\n",
       "    }\n",
       "\n",
       "    .dataframe thead th {\n",
       "        text-align: right;\n",
       "    }\n",
       "</style>\n",
       "<table border=\"1\" class=\"dataframe\">\n",
       "  <thead>\n",
       "    <tr style=\"text-align: right;\">\n",
       "      <th></th>\n",
       "      <th>c_list</th>\n",
       "      <th>classification_accuracy</th>\n",
       "      <th>logarithmic_loss</th>\n",
       "    </tr>\n",
       "  </thead>\n",
       "  <tbody>\n",
       "    <tr>\n",
       "      <th>15</th>\n",
       "      <td>784.759970</td>\n",
       "      <td>0.775</td>\n",
       "      <td>0.487453</td>\n",
       "    </tr>\n",
       "    <tr>\n",
       "      <th>13</th>\n",
       "      <td>69.519280</td>\n",
       "      <td>0.755</td>\n",
       "      <td>0.490849</td>\n",
       "    </tr>\n",
       "    <tr>\n",
       "      <th>19</th>\n",
       "      <td>100000.000000</td>\n",
       "      <td>0.760</td>\n",
       "      <td>0.491723</td>\n",
       "    </tr>\n",
       "    <tr>\n",
       "      <th>12</th>\n",
       "      <td>20.691381</td>\n",
       "      <td>0.770</td>\n",
       "      <td>0.493078</td>\n",
       "    </tr>\n",
       "    <tr>\n",
       "      <th>16</th>\n",
       "      <td>2636.650899</td>\n",
       "      <td>0.770</td>\n",
       "      <td>0.493193</td>\n",
       "    </tr>\n",
       "    <tr>\n",
       "      <th>18</th>\n",
       "      <td>29763.514416</td>\n",
       "      <td>0.770</td>\n",
       "      <td>0.493202</td>\n",
       "    </tr>\n",
       "    <tr>\n",
       "      <th>17</th>\n",
       "      <td>8858.667904</td>\n",
       "      <td>0.770</td>\n",
       "      <td>0.493227</td>\n",
       "    </tr>\n",
       "    <tr>\n",
       "      <th>9</th>\n",
       "      <td>0.545559</td>\n",
       "      <td>0.745</td>\n",
       "      <td>0.493521</td>\n",
       "    </tr>\n",
       "    <tr>\n",
       "      <th>10</th>\n",
       "      <td>1.832981</td>\n",
       "      <td>0.750</td>\n",
       "      <td>0.493551</td>\n",
       "    </tr>\n",
       "    <tr>\n",
       "      <th>14</th>\n",
       "      <td>233.572147</td>\n",
       "      <td>0.755</td>\n",
       "      <td>0.494146</td>\n",
       "    </tr>\n",
       "    <tr>\n",
       "      <th>11</th>\n",
       "      <td>6.158482</td>\n",
       "      <td>0.760</td>\n",
       "      <td>0.494737</td>\n",
       "    </tr>\n",
       "    <tr>\n",
       "      <th>8</th>\n",
       "      <td>0.162378</td>\n",
       "      <td>0.745</td>\n",
       "      <td>0.498716</td>\n",
       "    </tr>\n",
       "    <tr>\n",
       "      <th>7</th>\n",
       "      <td>0.048329</td>\n",
       "      <td>0.705</td>\n",
       "      <td>0.522322</td>\n",
       "    </tr>\n",
       "    <tr>\n",
       "      <th>6</th>\n",
       "      <td>0.014384</td>\n",
       "      <td>0.725</td>\n",
       "      <td>0.573342</td>\n",
       "    </tr>\n",
       "    <tr>\n",
       "      <th>5</th>\n",
       "      <td>0.004281</td>\n",
       "      <td>0.670</td>\n",
       "      <td>0.632992</td>\n",
       "    </tr>\n",
       "    <tr>\n",
       "      <th>4</th>\n",
       "      <td>0.001274</td>\n",
       "      <td>0.640</td>\n",
       "      <td>0.671477</td>\n",
       "    </tr>\n",
       "    <tr>\n",
       "      <th>3</th>\n",
       "      <td>0.000379</td>\n",
       "      <td>0.545</td>\n",
       "      <td>0.687508</td>\n",
       "    </tr>\n",
       "    <tr>\n",
       "      <th>2</th>\n",
       "      <td>0.000113</td>\n",
       "      <td>0.540</td>\n",
       "      <td>0.692753</td>\n",
       "    </tr>\n",
       "    <tr>\n",
       "      <th>1</th>\n",
       "      <td>0.000034</td>\n",
       "      <td>0.540</td>\n",
       "      <td>0.694264</td>\n",
       "    </tr>\n",
       "    <tr>\n",
       "      <th>0</th>\n",
       "      <td>0.000010</td>\n",
       "      <td>0.535</td>\n",
       "      <td>0.696240</td>\n",
       "    </tr>\n",
       "  </tbody>\n",
       "</table>\n",
       "</div>"
      ],
      "text/plain": [
       "           c_list  classification_accuracy  logarithmic_loss\n",
       "15     784.759970                    0.775          0.487453\n",
       "13      69.519280                    0.755          0.490849\n",
       "19  100000.000000                    0.760          0.491723\n",
       "12      20.691381                    0.770          0.493078\n",
       "16    2636.650899                    0.770          0.493193\n",
       "18   29763.514416                    0.770          0.493202\n",
       "17    8858.667904                    0.770          0.493227\n",
       "9        0.545559                    0.745          0.493521\n",
       "10       1.832981                    0.750          0.493551\n",
       "14     233.572147                    0.755          0.494146\n",
       "11       6.158482                    0.760          0.494737\n",
       "8        0.162378                    0.745          0.498716\n",
       "7        0.048329                    0.705          0.522322\n",
       "6        0.014384                    0.725          0.573342\n",
       "5        0.004281                    0.670          0.632992\n",
       "4        0.001274                    0.640          0.671477\n",
       "3        0.000379                    0.545          0.687508\n",
       "2        0.000113                    0.540          0.692753\n",
       "1        0.000034                    0.540          0.694264\n",
       "0        0.000010                    0.535          0.696240"
      ]
     },
     "execution_count": 211,
     "metadata": {},
     "output_type": "execute_result"
    }
   ],
   "source": [
    "df_outcomes.sort_values('logarithmic_loss',ascending=True)"
   ]
  },
  {
   "cell_type": "code",
   "execution_count": 212,
   "metadata": {},
   "outputs": [
    {
     "data": {
      "text/html": [
       "<div>\n",
       "<style scoped>\n",
       "    .dataframe tbody tr th:only-of-type {\n",
       "        vertical-align: middle;\n",
       "    }\n",
       "\n",
       "    .dataframe tbody tr th {\n",
       "        vertical-align: top;\n",
       "    }\n",
       "\n",
       "    .dataframe thead th {\n",
       "        text-align: right;\n",
       "    }\n",
       "</style>\n",
       "<table border=\"1\" class=\"dataframe\">\n",
       "  <thead>\n",
       "    <tr style=\"text-align: right;\">\n",
       "      <th></th>\n",
       "      <th>index</th>\n",
       "      <th>c_list</th>\n",
       "      <th>classification_accuracy</th>\n",
       "      <th>logarithmic_loss</th>\n",
       "    </tr>\n",
       "  </thead>\n",
       "  <tbody>\n",
       "    <tr>\n",
       "      <th>0</th>\n",
       "      <td>15</td>\n",
       "      <td>784.759970</td>\n",
       "      <td>0.775</td>\n",
       "      <td>0.487453</td>\n",
       "    </tr>\n",
       "    <tr>\n",
       "      <th>1</th>\n",
       "      <td>13</td>\n",
       "      <td>69.519280</td>\n",
       "      <td>0.755</td>\n",
       "      <td>0.490849</td>\n",
       "    </tr>\n",
       "    <tr>\n",
       "      <th>2</th>\n",
       "      <td>19</td>\n",
       "      <td>100000.000000</td>\n",
       "      <td>0.760</td>\n",
       "      <td>0.491723</td>\n",
       "    </tr>\n",
       "    <tr>\n",
       "      <th>3</th>\n",
       "      <td>12</td>\n",
       "      <td>20.691381</td>\n",
       "      <td>0.770</td>\n",
       "      <td>0.493078</td>\n",
       "    </tr>\n",
       "    <tr>\n",
       "      <th>4</th>\n",
       "      <td>16</td>\n",
       "      <td>2636.650899</td>\n",
       "      <td>0.770</td>\n",
       "      <td>0.493193</td>\n",
       "    </tr>\n",
       "    <tr>\n",
       "      <th>5</th>\n",
       "      <td>18</td>\n",
       "      <td>29763.514416</td>\n",
       "      <td>0.770</td>\n",
       "      <td>0.493202</td>\n",
       "    </tr>\n",
       "    <tr>\n",
       "      <th>6</th>\n",
       "      <td>17</td>\n",
       "      <td>8858.667904</td>\n",
       "      <td>0.770</td>\n",
       "      <td>0.493227</td>\n",
       "    </tr>\n",
       "    <tr>\n",
       "      <th>7</th>\n",
       "      <td>9</td>\n",
       "      <td>0.545559</td>\n",
       "      <td>0.745</td>\n",
       "      <td>0.493521</td>\n",
       "    </tr>\n",
       "    <tr>\n",
       "      <th>8</th>\n",
       "      <td>10</td>\n",
       "      <td>1.832981</td>\n",
       "      <td>0.750</td>\n",
       "      <td>0.493551</td>\n",
       "    </tr>\n",
       "    <tr>\n",
       "      <th>9</th>\n",
       "      <td>14</td>\n",
       "      <td>233.572147</td>\n",
       "      <td>0.755</td>\n",
       "      <td>0.494146</td>\n",
       "    </tr>\n",
       "    <tr>\n",
       "      <th>10</th>\n",
       "      <td>11</td>\n",
       "      <td>6.158482</td>\n",
       "      <td>0.760</td>\n",
       "      <td>0.494737</td>\n",
       "    </tr>\n",
       "    <tr>\n",
       "      <th>11</th>\n",
       "      <td>8</td>\n",
       "      <td>0.162378</td>\n",
       "      <td>0.745</td>\n",
       "      <td>0.498716</td>\n",
       "    </tr>\n",
       "    <tr>\n",
       "      <th>12</th>\n",
       "      <td>7</td>\n",
       "      <td>0.048329</td>\n",
       "      <td>0.705</td>\n",
       "      <td>0.522322</td>\n",
       "    </tr>\n",
       "    <tr>\n",
       "      <th>13</th>\n",
       "      <td>6</td>\n",
       "      <td>0.014384</td>\n",
       "      <td>0.725</td>\n",
       "      <td>0.573342</td>\n",
       "    </tr>\n",
       "    <tr>\n",
       "      <th>14</th>\n",
       "      <td>5</td>\n",
       "      <td>0.004281</td>\n",
       "      <td>0.670</td>\n",
       "      <td>0.632992</td>\n",
       "    </tr>\n",
       "    <tr>\n",
       "      <th>15</th>\n",
       "      <td>4</td>\n",
       "      <td>0.001274</td>\n",
       "      <td>0.640</td>\n",
       "      <td>0.671477</td>\n",
       "    </tr>\n",
       "    <tr>\n",
       "      <th>16</th>\n",
       "      <td>3</td>\n",
       "      <td>0.000379</td>\n",
       "      <td>0.545</td>\n",
       "      <td>0.687508</td>\n",
       "    </tr>\n",
       "    <tr>\n",
       "      <th>17</th>\n",
       "      <td>2</td>\n",
       "      <td>0.000113</td>\n",
       "      <td>0.540</td>\n",
       "      <td>0.692753</td>\n",
       "    </tr>\n",
       "    <tr>\n",
       "      <th>18</th>\n",
       "      <td>1</td>\n",
       "      <td>0.000034</td>\n",
       "      <td>0.540</td>\n",
       "      <td>0.694264</td>\n",
       "    </tr>\n",
       "    <tr>\n",
       "      <th>19</th>\n",
       "      <td>0</td>\n",
       "      <td>0.000010</td>\n",
       "      <td>0.535</td>\n",
       "      <td>0.696240</td>\n",
       "    </tr>\n",
       "  </tbody>\n",
       "</table>\n",
       "</div>"
      ],
      "text/plain": [
       "    index         c_list  classification_accuracy  logarithmic_loss\n",
       "0      15     784.759970                    0.775          0.487453\n",
       "1      13      69.519280                    0.755          0.490849\n",
       "2      19  100000.000000                    0.760          0.491723\n",
       "3      12      20.691381                    0.770          0.493078\n",
       "4      16    2636.650899                    0.770          0.493193\n",
       "5      18   29763.514416                    0.770          0.493202\n",
       "6      17    8858.667904                    0.770          0.493227\n",
       "7       9       0.545559                    0.745          0.493521\n",
       "8      10       1.832981                    0.750          0.493551\n",
       "9      14     233.572147                    0.755          0.494146\n",
       "10     11       6.158482                    0.760          0.494737\n",
       "11      8       0.162378                    0.745          0.498716\n",
       "12      7       0.048329                    0.705          0.522322\n",
       "13      6       0.014384                    0.725          0.573342\n",
       "14      5       0.004281                    0.670          0.632992\n",
       "15      4       0.001274                    0.640          0.671477\n",
       "16      3       0.000379                    0.545          0.687508\n",
       "17      2       0.000113                    0.540          0.692753\n",
       "18      1       0.000034                    0.540          0.694264\n",
       "19      0       0.000010                    0.535          0.696240"
      ]
     },
     "execution_count": 212,
     "metadata": {},
     "output_type": "execute_result"
    }
   ],
   "source": [
    "df_outcomes.sort_values('logarithmic_loss',ascending=True).reset_index()"
   ]
  },
  {
   "cell_type": "code",
   "execution_count": null,
   "metadata": {},
   "outputs": [],
   "source": [
    "#by choosing Optimal C value and rerun the Logistic regression"
   ]
  },
  {
   "cell_type": "code",
   "execution_count": 218,
   "metadata": {},
   "outputs": [
    {
     "name": "stdout",
     "output_type": "stream",
     "text": [
      "The Classification Accuracy is : 0.775\n",
      "The Logistic Loss is : 0.49123682916276906\n",
      "The Optimal C parameter is : [1.83298071]\n"
     ]
    }
   ],
   "source": [
    "#Another way of finding best C parameter by using Logistic Regression CV module\n",
    "from sklearn.model_selection import KFold\n",
    "cv=KFold(n_splits=3, random_state=0, shuffle=True)\n",
    "\n",
    "from sklearn.linear_model import LogisticRegressionCV\n",
    "clf = LogisticRegressionCV(cv=cv, random_state=15,Cs=c_list)\n",
    "clf.fit(x_train,y_train)\n",
    "print('The Classification Accuracy is :',clf.score(x_test,y_test))\n",
    "predicted_testing_proba3=clf.predict_proba(x_test)\n",
    "log_loss3=log_loss(y_test,predicted_testing_proba3)\n",
    "print('The Logistic Loss is :',log_loss3)\n",
    "print('The Optimal C parameter is :',clf.C_)"
   ]
  },
  {
   "cell_type": "code",
   "execution_count": 221,
   "metadata": {},
   "outputs": [
    {
     "name": "stdout",
     "output_type": "stream",
     "text": [
      "The Classification accuracy of c parameter 1e-05 is 0.535\n",
      "The log loss of c Parameter 1e-05 is 0.6962402407697195 \n",
      "\n"
     ]
    },
    {
     "data": {
      "image/png": "[encoded data removed]",
      "text/plain": [
       "<Figure size 432x288 with 2 Axes>"
      ]
     },
     "metadata": {
      "needs_background": "light"
     },
     "output_type": "display_data"
    },
    {
     "name": "stdout",
     "output_type": "stream",
     "text": [
      "The Classification accuracy of c parameter 3.359818286283781e-05 is 0.54\n",
      "The log loss of c Parameter 3.359818286283781e-05 is 0.6942639549968309 \n",
      "\n"
     ]
    },
    {
     "data": {
      "image/png": "[encoded data removed]",
      "text/plain": [
       "<Figure size 432x288 with 2 Axes>"
      ]
     },
     "metadata": {
      "needs_background": "light"
     },
     "output_type": "display_data"
    },
    {
     "name": "stdout",
     "output_type": "stream",
     "text": [
      "The Classification accuracy of c parameter 0.00011288378916846884 is 0.54\n",
      "The log loss of c Parameter 0.00011288378916846884 is 0.692752630814025 \n",
      "\n"
     ]
    },
    {
     "data": {
      "image/png": "[encoded data removed]",
      "text/plain": [
       "<Figure size 432x288 with 2 Axes>"
      ]
     },
     "metadata": {
      "needs_background": "light"
     },
     "output_type": "display_data"
    },
    {
     "name": "stdout",
     "output_type": "stream",
     "text": [
      "The Classification accuracy of c parameter 0.000379269019073225 is 0.545\n",
      "The log loss of c Parameter 0.000379269019073225 is 0.687507944380954 \n",
      "\n"
     ]
    },
    {
     "data": {
      "image/png": "[encoded data removed]",
      "text/plain": [
       "<Figure size 432x288 with 2 Axes>"
      ]
     },
     "metadata": {
      "needs_background": "light"
     },
     "output_type": "display_data"
    },
    {
     "name": "stdout",
     "output_type": "stream",
     "text": [
      "The Classification accuracy of c parameter 0.0012742749857031334 is 0.64\n",
      "The log loss of c Parameter 0.0012742749857031334 is 0.6714766139172699 \n",
      "\n"
     ]
    },
    {
     "data": {
      "image/png": "[encoded data removed]",
      "text/plain": [
       "<Figure size 432x288 with 2 Axes>"
      ]
     },
     "metadata": {
      "needs_background": "light"
     },
     "output_type": "display_data"
    },
    {
     "name": "stdout",
     "output_type": "stream",
     "text": [
      "The Classification accuracy of c parameter 0.004281332398719391 is 0.67\n",
      "The log loss of c Parameter 0.004281332398719391 is 0.6329923109464188 \n",
      "\n"
     ]
    },
    {
     "data": {
      "image/png": "[encoded data removed]",
      "text/plain": [
       "<Figure size 432x288 with 2 Axes>"
      ]
     },
     "metadata": {
      "needs_background": "light"
     },
     "output_type": "display_data"
    },
    {
     "name": "stdout",
     "output_type": "stream",
     "text": [
      "The Classification accuracy of c parameter 0.01438449888287663 is 0.725\n",
      "The log loss of c Parameter 0.01438449888287663 is 0.5733419963610441 \n",
      "\n"
     ]
    },
    {
     "data": {
      "image/png": "[encoded data removed]",
      "text/plain": [
       "<Figure size 432x288 with 2 Axes>"
      ]
     },
     "metadata": {
      "needs_background": "light"
     },
     "output_type": "display_data"
    },
    {
     "name": "stdout",
     "output_type": "stream",
     "text": [
      "The Classification accuracy of c parameter 0.04832930238571752 is 0.705\n",
      "The log loss of c Parameter 0.04832930238571752 is 0.5223217514726768 \n",
      "\n"
     ]
    },
    {
     "data": {
      "image/png": "[encoded data removed]",
      "text/plain": [
       "<Figure size 432x288 with 2 Axes>"
      ]
     },
     "metadata": {
      "needs_background": "light"
     },
     "output_type": "display_data"
    },
    {
     "name": "stdout",
     "output_type": "stream",
     "text": [
      "The Classification accuracy of c parameter 0.1623776739188721 is 0.745\n",
      "The log loss of c Parameter 0.1623776739188721 is 0.49871561226941635 \n",
      "\n"
     ]
    },
    {
     "data": {
      "image/png": "[encoded data removed]",
      "text/plain": [
       "<Figure size 432x288 with 2 Axes>"
      ]
     },
     "metadata": {
      "needs_background": "light"
     },
     "output_type": "display_data"
    },
    {
     "name": "stdout",
     "output_type": "stream",
     "text": [
      "The Classification accuracy of c parameter 0.5455594781168515 is 0.745\n",
      "The log loss of c Parameter 0.5455594781168515 is 0.4935207009163183 \n",
      "\n"
     ]
    },
    {
     "data": {
      "image/png": "[encoded data removed]",
      "text/plain": [
       "<Figure size 432x288 with 2 Axes>"
      ]
     },
     "metadata": {
      "needs_background": "light"
     },
     "output_type": "display_data"
    },
    {
     "name": "stdout",
     "output_type": "stream",
     "text": [
      "The Classification accuracy of c parameter 1.8329807108324339 is 0.75\n",
      "The log loss of c Parameter 1.8329807108324339 is 0.49355091962259245 \n",
      "\n"
     ]
    },
    {
     "data": {
      "image/png": "[encoded data removed]",
      "text/plain": [
       "<Figure size 432x288 with 2 Axes>"
      ]
     },
     "metadata": {
      "needs_background": "light"
     },
     "output_type": "display_data"
    },
    {
     "name": "stderr",
     "output_type": "stream",
     "text": [
      "C:\\Users\\Lokanathswami\\anaconda3\\lib\\site-packages\\sklearn\\linear_model\\_logistic.py:764: ConvergenceWarning: lbfgs failed to converge (status=1):\n",
      "STOP: TOTAL NO. of ITERATIONS REACHED LIMIT.\n",
      "\n",
      "Increase the number of iterations (max_iter) or scale the data as shown in:\n",
      "    https://scikit-learn.org/stable/modules/preprocessing.html\n",
      "Please also refer to the documentation for alternative solver options:\n",
      "    https://scikit-learn.org/stable/modules/linear_model.html#logistic-regression\n",
      "  extra_warning_msg=_LOGISTIC_SOLVER_CONVERGENCE_MSG)\n"
     ]
    },
    {
     "name": "stdout",
     "output_type": "stream",
     "text": [
      "The Classification accuracy of c parameter 6.1584821106602545 is 0.76\n",
      "The log loss of c Parameter 6.1584821106602545 is 0.4947365959567163 \n",
      "\n"
     ]
    },
    {
     "data": {
      "image/png": "[encoded data removed]",
      "text/plain": [
       "<Figure size 432x288 with 2 Axes>"
      ]
     },
     "metadata": {
      "needs_background": "light"
     },
     "output_type": "display_data"
    },
    {
     "name": "stdout",
     "output_type": "stream",
     "text": [
      "The Classification accuracy of c parameter 20.6913808111479 is 0.77\n",
      "The log loss of c Parameter 20.6913808111479 is 0.4930782437544778 \n",
      "\n"
     ]
    },
    {
     "data": {
      "image/png": "[encoded data removed]",
      "text/plain": [
       "<Figure size 432x288 with 2 Axes>"
      ]
     },
     "metadata": {
      "needs_background": "light"
     },
     "output_type": "display_data"
    },
    {
     "name": "stdout",
     "output_type": "stream",
     "text": [
      "The Classification accuracy of c parameter 69.51927961775606 is 0.755\n",
      "The log loss of c Parameter 69.51927961775606 is 0.4908494646177061 \n",
      "\n"
     ]
    },
    {
     "name": "stderr",
     "output_type": "stream",
     "text": [
      "C:\\Users\\Lokanathswami\\anaconda3\\lib\\site-packages\\sklearn\\linear_model\\_logistic.py:764: ConvergenceWarning: lbfgs failed to converge (status=1):\n",
      "STOP: TOTAL NO. of ITERATIONS REACHED LIMIT.\n",
      "\n",
      "Increase the number of iterations (max_iter) or scale the data as shown in:\n",
      "    https://scikit-learn.org/stable/modules/preprocessing.html\n",
      "Please also refer to the documentation for alternative solver options:\n",
      "    https://scikit-learn.org/stable/modules/linear_model.html#logistic-regression\n",
      "  extra_warning_msg=_LOGISTIC_SOLVER_CONVERGENCE_MSG)\n"
     ]
    },
    {
     "data": {
      "image/png": "[encoded data removed]",
      "text/plain": [
       "<Figure size 432x288 with 2 Axes>"
      ]
     },
     "metadata": {
      "needs_background": "light"
     },
     "output_type": "display_data"
    },
    {
     "name": "stdout",
     "output_type": "stream",
     "text": [
      "The Classification accuracy of c parameter 233.57214690901213 is 0.755\n",
      "The log loss of c Parameter 233.57214690901213 is 0.49414558241880946 \n",
      "\n"
     ]
    },
    {
     "data": {
      "image/png": "[encoded data removed]",
      "text/plain": [
       "<Figure size 432x288 with 2 Axes>"
      ]
     },
     "metadata": {
      "needs_background": "light"
     },
     "output_type": "display_data"
    },
    {
     "name": "stderr",
     "output_type": "stream",
     "text": [
      "C:\\Users\\Lokanathswami\\anaconda3\\lib\\site-packages\\sklearn\\linear_model\\_logistic.py:764: ConvergenceWarning: lbfgs failed to converge (status=1):\n",
      "STOP: TOTAL NO. of ITERATIONS REACHED LIMIT.\n",
      "\n",
      "Increase the number of iterations (max_iter) or scale the data as shown in:\n",
      "    https://scikit-learn.org/stable/modules/preprocessing.html\n",
      "Please also refer to the documentation for alternative solver options:\n",
      "    https://scikit-learn.org/stable/modules/linear_model.html#logistic-regression\n",
      "  extra_warning_msg=_LOGISTIC_SOLVER_CONVERGENCE_MSG)\n"
     ]
    },
    {
     "name": "stdout",
     "output_type": "stream",
     "text": [
      "The Classification accuracy of c parameter 784.7599703514607 is 0.775\n",
      "The log loss of c Parameter 784.7599703514607 is 0.4874530459194341 \n",
      "\n"
     ]
    },
    {
     "data": {
      "image/png": "[encoded data removed]",
      "text/plain": [
       "<Figure size 432x288 with 2 Axes>"
      ]
     },
     "metadata": {
      "needs_background": "light"
     },
     "output_type": "display_data"
    },
    {
     "name": "stdout",
     "output_type": "stream",
     "text": [
      "The Classification accuracy of c parameter 2636.6508987303555 is 0.77\n",
      "The log loss of c Parameter 2636.6508987303555 is 0.4931925962570105 \n",
      "\n"
     ]
    },
    {
     "data": {
      "image/png": "[encoded data removed]",
      "text/plain": [
       "<Figure size 432x288 with 2 Axes>"
      ]
     },
     "metadata": {
      "needs_background": "light"
     },
     "output_type": "display_data"
    },
    {
     "name": "stdout",
     "output_type": "stream",
     "text": [
      "The Classification accuracy of c parameter 8858.667904100832 is 0.77\n",
      "The log loss of c Parameter 8858.667904100832 is 0.49322711907658173 \n",
      "\n"
     ]
    },
    {
     "name": "stderr",
     "output_type": "stream",
     "text": [
      "C:\\Users\\Lokanathswami\\anaconda3\\lib\\site-packages\\sklearn\\linear_model\\_logistic.py:764: ConvergenceWarning: lbfgs failed to converge (status=1):\n",
      "STOP: TOTAL NO. of ITERATIONS REACHED LIMIT.\n",
      "\n",
      "Increase the number of iterations (max_iter) or scale the data as shown in:\n",
      "    https://scikit-learn.org/stable/modules/preprocessing.html\n",
      "Please also refer to the documentation for alternative solver options:\n",
      "    https://scikit-learn.org/stable/modules/linear_model.html#logistic-regression\n",
      "  extra_warning_msg=_LOGISTIC_SOLVER_CONVERGENCE_MSG)\n"
     ]
    },
    {
     "data": {
      "image/png": "[encoded data removed]",
      "text/plain": [
       "<Figure size 432x288 with 2 Axes>"
      ]
     },
     "metadata": {
      "needs_background": "light"
     },
     "output_type": "display_data"
    },
    {
     "name": "stdout",
     "output_type": "stream",
     "text": [
      "The Classification accuracy of c parameter 29763.51441631313 is 0.77\n",
      "The log loss of c Parameter 29763.51441631313 is 0.49320162682086943 \n",
      "\n"
     ]
    },
    {
     "data": {
      "image/png": "[encoded data removed]",
      "text/plain": [
       "<Figure size 432x288 with 2 Axes>"
      ]
     },
     "metadata": {
      "needs_background": "light"
     },
     "output_type": "display_data"
    },
    {
     "name": "stdout",
     "output_type": "stream",
     "text": [
      "The Classification accuracy of c parameter 100000.0 is 0.76\n",
      "The log loss of c Parameter 100000.0 is 0.49172277920203156 \n",
      "\n"
     ]
    },
    {
     "name": "stderr",
     "output_type": "stream",
     "text": [
      "C:\\Users\\Lokanathswami\\anaconda3\\lib\\site-packages\\sklearn\\linear_model\\_logistic.py:764: ConvergenceWarning: lbfgs failed to converge (status=1):\n",
      "STOP: TOTAL NO. of ITERATIONS REACHED LIMIT.\n",
      "\n",
      "Increase the number of iterations (max_iter) or scale the data as shown in:\n",
      "    https://scikit-learn.org/stable/modules/preprocessing.html\n",
      "Please also refer to the documentation for alternative solver options:\n",
      "    https://scikit-learn.org/stable/modules/linear_model.html#logistic-regression\n",
      "  extra_warning_msg=_LOGISTIC_SOLVER_CONVERGENCE_MSG)\n"
     ]
    },
    {
     "data": {
      "image/png": "[encoded data removed]",
      "text/plain": [
       "<Figure size 432x288 with 2 Axes>"
      ]
     },
     "metadata": {
      "needs_background": "light"
     },
     "output_type": "display_data"
    }
   ],
   "source": [
    "#plotting confusion matrix for each c parameter\n",
    "c_list=np.geomspace(1e-5,1e5,num=20)\n",
    "classification_accuracy=[] #Saving the value\n",
    "logarithmic_loss=[]\n",
    "\n",
    "for c in c_list:\n",
    "    model2=LogisticRegression(random_state=10,solver='lbfgs',C=c)\n",
    "    model2.fit(x_train,y_train)\n",
    "    score=model2.score(x_test,y_test)\n",
    "    classification_accuracy.append(score)\n",
    "    print('The Classification accuracy of c parameter {} is {}'.format(c,score))\n",
    "    predicted_testing_proba=model2.predict_proba(x_test)\n",
    "    log_loss2=log_loss(y_test,predicted_testing_proba)\n",
    "    logarithmic_loss.append(log_loss2)\n",
    "    print('The log loss of c Parameter {} is {} '.format(c,log_loss2))\n",
    "    print(\"\")\n",
    "\n",
    "    y_predicted=model2.predict(x_train)\n",
    "    cm=confusion_matrix(y_train, y_predicted)\n",
    "    Normalized_cm=cm/cm.sum(axis=1).reshape(-1,1)\n",
    "    sns.heatmap(Normalized_cm,annot=True)\n",
    "    plt.show()\n"
   ]
  },
  {
   "cell_type": "code",
   "execution_count": 225,
   "metadata": {},
   "outputs": [
    {
     "name": "stdout",
     "output_type": "stream",
     "text": [
      "The Testing Accuracy is: 0.53\n",
      "The Log loss is: 16.233224905608022\n"
     ]
    }
   ],
   "source": [
    "#Training a Dummy classifier\n",
    "from sklearn.dummy import DummyClassifier\n",
    "dummy_clf = DummyClassifier(strategy=\"most_frequent\")\n",
    "dummy_clf.fit(x_train,y_train)\n",
    "score=dummy_clf.score(x_test,y_test)\n",
    "\n",
    "predicted_testing_proba=dummy_clf.predict_proba(x_test)\n",
    "log_loss2=log_loss(y_test,predicted_testing_proba)\n",
    "print('The Testing Accuracy is:',score)\n",
    "print('The Log loss is:',log_loss2)\n"
   ]
  },
  {
   "cell_type": "code",
   "execution_count": 226,
   "metadata": {},
   "outputs": [
    {
     "name": "stdout",
     "output_type": "stream",
     "text": [
      "The Testing Accuracy is: 0.7625\n",
      "The Log loss is: 0.4331431851407629\n"
     ]
    },
    {
     "name": "stderr",
     "output_type": "stream",
     "text": [
      "C:\\Users\\Lokanathswami\\anaconda3\\lib\\site-packages\\sklearn\\linear_model\\_logistic.py:764: ConvergenceWarning: lbfgs failed to converge (status=1):\n",
      "STOP: TOTAL NO. of ITERATIONS REACHED LIMIT.\n",
      "\n",
      "Increase the number of iterations (max_iter) or scale the data as shown in:\n",
      "    https://scikit-learn.org/stable/modules/preprocessing.html\n",
      "Please also refer to the documentation for alternative solver options:\n",
      "    https://scikit-learn.org/stable/modules/linear_model.html#logistic-regression\n",
      "  extra_warning_msg=_LOGISTIC_SOLVER_CONVERGENCE_MSG)\n"
     ]
    }
   ],
   "source": [
    "#Final Model with selected Parameters \n",
    "#on unseen data\n",
    "model3=LogisticRegression(random_state=10,solver='lbfgs',C=784.759970)\n",
    "model3.fit(x_train,y_train)\n",
    "score=model3.score(x_validate,y_validate)\n",
    "\n",
    "predicted_testing_proba=model3.predict_proba(x_validate)\n",
    "log_loss3=log_loss(y_validate,predicted_testing_proba)\n",
    "print('The Testing Accuracy is:',score)\n",
    "print('The Log loss is:',log_loss3)\n",
    "\n",
    "\n"
   ]
  },
  {
   "cell_type": "code",
   "execution_count": null,
   "metadata": {},
   "outputs": [],
   "source": []
  }
 ],
 "metadata": {
  "kernelspec": {
   "display_name": "Python 3",
   "language": "python",
   "name": "python3"
  },
  "language_info": {
   "codemirror_mode": {
    "name": "ipython",
    "version": 3
   },
   "file_extension": ".py",
   "mimetype": "text/x-python",
   "name": "python",
   "nbconvert_exporter": "python",
   "pygments_lexer": "ipython3",
   "version": "3.7.7"
  }
 },
 "nbformat": 4,
 "nbformat_minor": 4
}
